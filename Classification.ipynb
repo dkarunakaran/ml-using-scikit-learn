{
 "cells": [
  {
   "cell_type": "code",
   "execution_count": 4,
   "id": "12ac0fb7-6a76-4054-a291-37297b2c3a8c",
   "metadata": {},
   "outputs": [
    {
     "data": {
      "text/html": [
       "\n",
       "<h2>Classification</h2> \n",
       "This section is based on the following chapters from two books:\n",
       "<br/>\n",
       "<a href='https://github.com/ageron/handson-ml3/blob/main/03_classification.ipynb'>https://github.com/ageron/handson-ml3/blob/main/03_classification.ipynb</a>\n",
       "<br/>\n",
       "<a href='https://github.com/gedeck/practical-statistics-for-data-scientists/blob/master/python/notebooks/Chapter%205%20-%20Classification.ipynb'>https://github.com/gedeck/practical-statistics-for-data-scientists/blob/master/python/notebooks/Chapter%205%20-%20Classification.ipynb</a>\n"
      ],
      "text/plain": [
       "<IPython.core.display.HTML object>"
      ]
     },
     "metadata": {},
     "output_type": "display_data"
    }
   ],
   "source": [
    "%%html\n",
    "\n",
    "<h2>Classification</h2> \n",
    "This section is based on the following chapters from two books:\n",
    "<br/>\n",
    "<a href='https://github.com/ageron/handson-ml3/blob/main/03_classification.ipynb'>https://github.com/ageron/handson-ml3/blob/main/03_classification.ipynb</a>\n",
    "<br/>\n",
    "<a href='https://github.com/gedeck/practical-statistics-for-data-scientists/blob/master/python/notebooks/Chapter%205%20-%20Classification.ipynb'>https://github.com/gedeck/practical-statistics-for-data-scientists/blob/master/python/notebooks/Chapter%205%20-%20Classification.ipynb</a>"
   ]
  },
  {
   "cell_type": "code",
   "execution_count": 5,
   "id": "909276cf-2564-4dd8-97e5-b466aedbe1a5",
   "metadata": {},
   "outputs": [
    {
     "data": {
      "text/html": [
       "\n",
       "<h3>Getting  the mnist data in scikit-learn</h3> \n"
      ],
      "text/plain": [
       "<IPython.core.display.HTML object>"
      ]
     },
     "metadata": {},
     "output_type": "display_data"
    }
   ],
   "source": [
    "%%html\n",
    "\n",
    "<h3>Getting  the mnist data in scikit-learn</h3> "
   ]
  },
  {
   "cell_type": "code",
   "execution_count": 6,
   "id": "3bee0052-664e-4f0b-8515-882ba6ea1a28",
   "metadata": {},
   "outputs": [
    {
     "name": "stderr",
     "output_type": "stream",
     "text": [
      "/usr/local/lib/python3.11/dist-packages/sklearn/datasets/_openml.py:1022: FutureWarning: The default value of `parser` will change from `'liac-arff'` to `'auto'` in 1.4. You can set `parser='auto'` to silence this warning. Therefore, an `ImportError` will be raised from 1.4 if the dataset is dense and pandas is not installed. Note that the pandas parser may return different data types. See the Notes Section in fetch_openml's API doc for details.\n",
      "  warn(\n"
     ]
    }
   ],
   "source": [
    "from sklearn.datasets import fetch_openml\n",
    "mnist = fetch_openml('mnist_784', as_frame=False)"
   ]
  },
  {
   "cell_type": "code",
   "execution_count": 7,
   "id": "016ec16b-32a6-4a59-b5c0-3d8b45816444",
   "metadata": {},
   "outputs": [],
   "source": [
    "# fetch_openml by default returns the data in pandas format, but mnist dataset contains images, and pandas format is not ideal in this case. \n",
    "# So by specifying the as_frame= False, it will returns the numpy data instead of pandas DF.\n",
    "mnist_pd = fetch_openml('mnist_784', as_frame=True)"
   ]
  },
  {
   "cell_type": "code",
   "execution_count": 8,
   "id": "a3290724-4877-4777-8575-21f2480824de",
   "metadata": {},
   "outputs": [
    {
     "data": {
      "text/html": [
       "<div>\n",
       "<style scoped>\n",
       "    .dataframe tbody tr th:only-of-type {\n",
       "        vertical-align: middle;\n",
       "    }\n",
       "\n",
       "    .dataframe tbody tr th {\n",
       "        vertical-align: top;\n",
       "    }\n",
       "\n",
       "    .dataframe thead th {\n",
       "        text-align: right;\n",
       "    }\n",
       "</style>\n",
       "<table border=\"1\" class=\"dataframe\">\n",
       "  <thead>\n",
       "    <tr style=\"text-align: right;\">\n",
       "      <th></th>\n",
       "      <th>pixel1</th>\n",
       "      <th>pixel2</th>\n",
       "      <th>pixel3</th>\n",
       "      <th>pixel4</th>\n",
       "      <th>pixel5</th>\n",
       "      <th>pixel6</th>\n",
       "      <th>pixel7</th>\n",
       "      <th>pixel8</th>\n",
       "      <th>pixel9</th>\n",
       "      <th>pixel10</th>\n",
       "      <th>...</th>\n",
       "      <th>pixel775</th>\n",
       "      <th>pixel776</th>\n",
       "      <th>pixel777</th>\n",
       "      <th>pixel778</th>\n",
       "      <th>pixel779</th>\n",
       "      <th>pixel780</th>\n",
       "      <th>pixel781</th>\n",
       "      <th>pixel782</th>\n",
       "      <th>pixel783</th>\n",
       "      <th>pixel784</th>\n",
       "    </tr>\n",
       "  </thead>\n",
       "  <tbody>\n",
       "    <tr>\n",
       "      <th>0</th>\n",
       "      <td>0.0</td>\n",
       "      <td>0.0</td>\n",
       "      <td>0.0</td>\n",
       "      <td>0.0</td>\n",
       "      <td>0.0</td>\n",
       "      <td>0.0</td>\n",
       "      <td>0.0</td>\n",
       "      <td>0.0</td>\n",
       "      <td>0.0</td>\n",
       "      <td>0.0</td>\n",
       "      <td>...</td>\n",
       "      <td>0.0</td>\n",
       "      <td>0.0</td>\n",
       "      <td>0.0</td>\n",
       "      <td>0.0</td>\n",
       "      <td>0.0</td>\n",
       "      <td>0.0</td>\n",
       "      <td>0.0</td>\n",
       "      <td>0.0</td>\n",
       "      <td>0.0</td>\n",
       "      <td>0.0</td>\n",
       "    </tr>\n",
       "    <tr>\n",
       "      <th>1</th>\n",
       "      <td>0.0</td>\n",
       "      <td>0.0</td>\n",
       "      <td>0.0</td>\n",
       "      <td>0.0</td>\n",
       "      <td>0.0</td>\n",
       "      <td>0.0</td>\n",
       "      <td>0.0</td>\n",
       "      <td>0.0</td>\n",
       "      <td>0.0</td>\n",
       "      <td>0.0</td>\n",
       "      <td>...</td>\n",
       "      <td>0.0</td>\n",
       "      <td>0.0</td>\n",
       "      <td>0.0</td>\n",
       "      <td>0.0</td>\n",
       "      <td>0.0</td>\n",
       "      <td>0.0</td>\n",
       "      <td>0.0</td>\n",
       "      <td>0.0</td>\n",
       "      <td>0.0</td>\n",
       "      <td>0.0</td>\n",
       "    </tr>\n",
       "    <tr>\n",
       "      <th>2</th>\n",
       "      <td>0.0</td>\n",
       "      <td>0.0</td>\n",
       "      <td>0.0</td>\n",
       "      <td>0.0</td>\n",
       "      <td>0.0</td>\n",
       "      <td>0.0</td>\n",
       "      <td>0.0</td>\n",
       "      <td>0.0</td>\n",
       "      <td>0.0</td>\n",
       "      <td>0.0</td>\n",
       "      <td>...</td>\n",
       "      <td>0.0</td>\n",
       "      <td>0.0</td>\n",
       "      <td>0.0</td>\n",
       "      <td>0.0</td>\n",
       "      <td>0.0</td>\n",
       "      <td>0.0</td>\n",
       "      <td>0.0</td>\n",
       "      <td>0.0</td>\n",
       "      <td>0.0</td>\n",
       "      <td>0.0</td>\n",
       "    </tr>\n",
       "    <tr>\n",
       "      <th>3</th>\n",
       "      <td>0.0</td>\n",
       "      <td>0.0</td>\n",
       "      <td>0.0</td>\n",
       "      <td>0.0</td>\n",
       "      <td>0.0</td>\n",
       "      <td>0.0</td>\n",
       "      <td>0.0</td>\n",
       "      <td>0.0</td>\n",
       "      <td>0.0</td>\n",
       "      <td>0.0</td>\n",
       "      <td>...</td>\n",
       "      <td>0.0</td>\n",
       "      <td>0.0</td>\n",
       "      <td>0.0</td>\n",
       "      <td>0.0</td>\n",
       "      <td>0.0</td>\n",
       "      <td>0.0</td>\n",
       "      <td>0.0</td>\n",
       "      <td>0.0</td>\n",
       "      <td>0.0</td>\n",
       "      <td>0.0</td>\n",
       "    </tr>\n",
       "    <tr>\n",
       "      <th>4</th>\n",
       "      <td>0.0</td>\n",
       "      <td>0.0</td>\n",
       "      <td>0.0</td>\n",
       "      <td>0.0</td>\n",
       "      <td>0.0</td>\n",
       "      <td>0.0</td>\n",
       "      <td>0.0</td>\n",
       "      <td>0.0</td>\n",
       "      <td>0.0</td>\n",
       "      <td>0.0</td>\n",
       "      <td>...</td>\n",
       "      <td>0.0</td>\n",
       "      <td>0.0</td>\n",
       "      <td>0.0</td>\n",
       "      <td>0.0</td>\n",
       "      <td>0.0</td>\n",
       "      <td>0.0</td>\n",
       "      <td>0.0</td>\n",
       "      <td>0.0</td>\n",
       "      <td>0.0</td>\n",
       "      <td>0.0</td>\n",
       "    </tr>\n",
       "  </tbody>\n",
       "</table>\n",
       "<p>5 rows × 784 columns</p>\n",
       "</div>"
      ],
      "text/plain": [
       "   pixel1  pixel2  pixel3  pixel4  pixel5  pixel6  pixel7  pixel8  pixel9  \\\n",
       "0     0.0     0.0     0.0     0.0     0.0     0.0     0.0     0.0     0.0   \n",
       "1     0.0     0.0     0.0     0.0     0.0     0.0     0.0     0.0     0.0   \n",
       "2     0.0     0.0     0.0     0.0     0.0     0.0     0.0     0.0     0.0   \n",
       "3     0.0     0.0     0.0     0.0     0.0     0.0     0.0     0.0     0.0   \n",
       "4     0.0     0.0     0.0     0.0     0.0     0.0     0.0     0.0     0.0   \n",
       "\n",
       "   pixel10  ...  pixel775  pixel776  pixel777  pixel778  pixel779  pixel780  \\\n",
       "0      0.0  ...       0.0       0.0       0.0       0.0       0.0       0.0   \n",
       "1      0.0  ...       0.0       0.0       0.0       0.0       0.0       0.0   \n",
       "2      0.0  ...       0.0       0.0       0.0       0.0       0.0       0.0   \n",
       "3      0.0  ...       0.0       0.0       0.0       0.0       0.0       0.0   \n",
       "4      0.0  ...       0.0       0.0       0.0       0.0       0.0       0.0   \n",
       "\n",
       "   pixel781  pixel782  pixel783  pixel784  \n",
       "0       0.0       0.0       0.0       0.0  \n",
       "1       0.0       0.0       0.0       0.0  \n",
       "2       0.0       0.0       0.0       0.0  \n",
       "3       0.0       0.0       0.0       0.0  \n",
       "4       0.0       0.0       0.0       0.0  \n",
       "\n",
       "[5 rows x 784 columns]"
      ]
     },
     "execution_count": 8,
     "metadata": {},
     "output_type": "execute_result"
    }
   ],
   "source": [
    "mnist_pd['data'].head()"
   ]
  },
  {
   "cell_type": "code",
   "execution_count": 9,
   "id": "19a2e951-e775-4343-b631-079ba55abafe",
   "metadata": {},
   "outputs": [],
   "source": [
    "X, y = mnist.data, mnist.target"
   ]
  },
  {
   "cell_type": "code",
   "execution_count": 10,
   "id": "5a6d34a9-a99d-4cca-8aa5-7de03d8f3ae8",
   "metadata": {},
   "outputs": [
    {
     "data": {
      "image/png": "[encoded data removed]",
      "text/plain": [
       "<Figure size 640x480 with 1 Axes>"
      ]
     },
     "metadata": {},
     "output_type": "display_data"
    },
    {
     "name": "stdout",
     "output_type": "stream",
     "text": [
      "label: 5\n"
     ]
    }
   ],
   "source": [
    "import matplotlib.pyplot as plt\n",
    "def show_image(image_data):\n",
    "    image = image_data.reshape(28, 28)\n",
    "    plt.imshow(image, cmap='binary')\n",
    "\n",
    "show_image(X[0])\n",
    "plt.show()\n",
    "print(f\"label: {y[0]}\")"
   ]
  },
  {
   "cell_type": "code",
   "execution_count": 11,
   "id": "1a6d132f-a914-4769-988a-dae8d0efda41",
   "metadata": {},
   "outputs": [],
   "source": [
    "# Non-stratified train-test split\n",
    "from sklearn.model_selection import train_test_split\n",
    "X_train,X_test,y_train,y_test = train_test_split(X, y, test_size=0.2, random_state=42)"
   ]
  },
  {
   "cell_type": "code",
   "execution_count": 12,
   "id": "0055e53b-ae0c-43a0-b353-2843e6cadb29",
   "metadata": {},
   "outputs": [],
   "source": [
    "# We can do the stratification by passing stratify argument\n"
   ]
  },
  {
   "cell_type": "code",
   "execution_count": 13,
   "id": "9dc871ac-f69a-4e11-9f98-83c23756dfe2",
   "metadata": {},
   "outputs": [
    {
     "data": {
      "text/html": [
       "\n",
       "<h3>Performance Measures</h3> \n"
      ],
      "text/plain": [
       "<IPython.core.display.HTML object>"
      ]
     },
     "metadata": {},
     "output_type": "display_data"
    }
   ],
   "source": [
    "%%html\n",
    "\n",
    "<h3>Performance Measures</h3> "
   ]
  },
  {
   "cell_type": "code",
   "execution_count": 14,
   "id": "dd52aec3-43a0-4c5f-9c70-8816a250fbe2",
   "metadata": {},
   "outputs": [
    {
     "data": {
      "text/html": [
       "<style>#sk-container-id-1 {color: black;}#sk-container-id-1 pre{padding: 0;}#sk-container-id-1 div.sk-toggleable {background-color: white;}#sk-container-id-1 label.sk-toggleable__label {cursor: pointer;display: block;width: 100%;margin-bottom: 0;padding: 0.3em;box-sizing: border-box;text-align: center;}#sk-container-id-1 label.sk-toggleable__label-arrow:before {content: \"▸\";float: left;margin-right: 0.25em;color: #696969;}#sk-container-id-1 label.sk-toggleable__label-arrow:hover:before {color: black;}#sk-container-id-1 div.sk-estimator:hover label.sk-toggleable__label-arrow:before {color: black;}#sk-container-id-1 div.sk-toggleable__content {max-height: 0;max-width: 0;overflow: hidden;text-align: left;background-color: #f0f8ff;}#sk-container-id-1 div.sk-toggleable__content pre {margin: 0.2em;color: black;border-radius: 0.25em;background-color: #f0f8ff;}#sk-container-id-1 input.sk-toggleable__control:checked~div.sk-toggleable__content {max-height: 200px;max-width: 100%;overflow: auto;}#sk-container-id-1 input.sk-toggleable__control:checked~label.sk-toggleable__label-arrow:before {content: \"▾\";}#sk-container-id-1 div.sk-estimator input.sk-toggleable__control:checked~label.sk-toggleable__label {background-color: #d4ebff;}#sk-container-id-1 div.sk-label input.sk-toggleable__control:checked~label.sk-toggleable__label {background-color: #d4ebff;}#sk-container-id-1 input.sk-hidden--visually {border: 0;clip: rect(1px 1px 1px 1px);clip: rect(1px, 1px, 1px, 1px);height: 1px;margin: -1px;overflow: hidden;padding: 0;position: absolute;width: 1px;}#sk-container-id-1 div.sk-estimator {font-family: monospace;background-color: #f0f8ff;border: 1px dotted black;border-radius: 0.25em;box-sizing: border-box;margin-bottom: 0.5em;}#sk-container-id-1 div.sk-estimator:hover {background-color: #d4ebff;}#sk-container-id-1 div.sk-parallel-item::after {content: \"\";width: 100%;border-bottom: 1px solid gray;flex-grow: 1;}#sk-container-id-1 div.sk-label:hover label.sk-toggleable__label {background-color: #d4ebff;}#sk-container-id-1 div.sk-serial::before {content: \"\";position: absolute;border-left: 1px solid gray;box-sizing: border-box;top: 0;bottom: 0;left: 50%;z-index: 0;}#sk-container-id-1 div.sk-serial {display: flex;flex-direction: column;align-items: center;background-color: white;padding-right: 0.2em;padding-left: 0.2em;position: relative;}#sk-container-id-1 div.sk-item {position: relative;z-index: 1;}#sk-container-id-1 div.sk-parallel {display: flex;align-items: stretch;justify-content: center;background-color: white;position: relative;}#sk-container-id-1 div.sk-item::before, #sk-container-id-1 div.sk-parallel-item::before {content: \"\";position: absolute;border-left: 1px solid gray;box-sizing: border-box;top: 0;bottom: 0;left: 50%;z-index: -1;}#sk-container-id-1 div.sk-parallel-item {display: flex;flex-direction: column;z-index: 1;position: relative;background-color: white;}#sk-container-id-1 div.sk-parallel-item:first-child::after {align-self: flex-end;width: 50%;}#sk-container-id-1 div.sk-parallel-item:last-child::after {align-self: flex-start;width: 50%;}#sk-container-id-1 div.sk-parallel-item:only-child::after {width: 0;}#sk-container-id-1 div.sk-dashed-wrapped {border: 1px dashed gray;margin: 0 0.4em 0.5em 0.4em;box-sizing: border-box;padding-bottom: 0.4em;background-color: white;}#sk-container-id-1 div.sk-label label {font-family: monospace;font-weight: bold;display: inline-block;line-height: 1.2em;}#sk-container-id-1 div.sk-label-container {text-align: center;}#sk-container-id-1 div.sk-container {/* jupyter's `normalize.less` sets `[hidden] { display: none; }` but bootstrap.min.css set `[hidden] { display: none !important; }` so we also need the `!important` here to be able to override the default hidden behavior on the sphinx rendered scikit-learn.org. See: https://github.com/scikit-learn/scikit-learn/issues/21755 */display: inline-block !important;position: relative;}#sk-container-id-1 div.sk-text-repr-fallback {display: none;}</style><div id=\"sk-container-id-1\" class=\"sk-top-container\"><div class=\"sk-text-repr-fallback\"><pre>SGDClassifier(random_state=42)</pre><b>In a Jupyter environment, please rerun this cell to show the HTML representation or trust the notebook. <br />On GitHub, the HTML representation is unable to render, please try loading this page with nbviewer.org.</b></div><div class=\"sk-container\" hidden><div class=\"sk-item\"><div class=\"sk-estimator sk-toggleable\"><input class=\"sk-toggleable__control sk-hidden--visually\" id=\"sk-estimator-id-1\" type=\"checkbox\" checked><label for=\"sk-estimator-id-1\" class=\"sk-toggleable__label sk-toggleable__label-arrow\">SGDClassifier</label><div class=\"sk-toggleable__content\"><pre>SGDClassifier(random_state=42)</pre></div></div></div></div></div>"
      ],
      "text/plain": [
       "SGDClassifier(random_state=42)"
      ]
     },
     "execution_count": 14,
     "metadata": {},
     "output_type": "execute_result"
    }
   ],
   "source": [
    "# Let's simplify the problem by considering a binary classification\n",
    "# let's try to identify number 5 or non-5\n",
    "\n",
    "y_train_5 = (y_train == '5')  # True for all 5s, False for all other digits\n",
    "y_test_5 = (y_test == '5')\n",
    "\n",
    "from sklearn.linear_model import SGDClassifier\n",
    "\n",
    "sgd_clf = SGDClassifier(random_state=42)\n",
    "sgd_clf.fit(X_train, y_train_5)\n"
   ]
  },
  {
   "cell_type": "code",
   "execution_count": 15,
   "id": "0fd23d9d-4c04-491e-9649-63b6a809687b",
   "metadata": {},
   "outputs": [],
   "source": [
    "result  = sgd_clf.predict(X_test)"
   ]
  },
  {
   "cell_type": "code",
   "execution_count": 16,
   "id": "fba2a1cb-9929-4547-9cb3-b4c3f1f85bb7",
   "metadata": {},
   "outputs": [
    {
     "data": {
      "text/html": [
       "\n",
       "<h4>Measuring accuracy using cross validation</h4> \n"
      ],
      "text/plain": [
       "<IPython.core.display.HTML object>"
      ]
     },
     "metadata": {},
     "output_type": "display_data"
    }
   ],
   "source": [
    "%%html\n",
    "\n",
    "<h4>Measuring accuracy using cross validation</h4> "
   ]
  },
  {
   "cell_type": "code",
   "execution_count": 17,
   "id": "e65d4c0b-9c1b-4635-85c0-9aaa4c25c70f",
   "metadata": {},
   "outputs": [
    {
     "data": {
      "text/plain": [
       "array([0.97192907, 0.96855413, 0.96024858])"
      ]
     },
     "execution_count": 17,
     "metadata": {},
     "output_type": "execute_result"
    }
   ],
   "source": [
    "from sklearn.model_selection import cross_val_score\n",
    "rmse = cross_val_score(sgd_clf, X_train, y_train_5, cv=3, scoring='accuracy')\n",
    "rmse"
   ]
  },
  {
   "cell_type": "code",
   "execution_count": 18,
   "id": "91c76847-fd8e-4020-aac0-cf443e6e2d15",
   "metadata": {},
   "outputs": [],
   "source": [
    "# In cross-validation using cross_val_score, no stratification is done and it is expected us to provide the stratified code.\n",
    "# We can avoid this and get more control in cross-validation using the statifiedKFold method as shown below\n",
    "\n",
    "#from sklearn.model_selection import StratifiedKFold\n",
    "#from sklearn.base import clone\n",
    "\n",
    "#skfolds = StratifiedKFold(n_splits=3)  # add shuffle=True if the dataset is not\n",
    "                                       # already shuffled\n",
    "#for train_index, test_index in skfolds.split(X_train, y_train):\n",
    "#    X_train_folds = X_train[train_index]\n",
    "#    y_train_folds = y_train_5[train_index]\n",
    "#    X_test_fold = X_train[test_index]\n",
    "#    y_test_fold = y_train_5[test_index]\n",
    "#    fit a classifier X_train_folds and y_train_folds\n",
    "#    get y_pred using X_test_fold\n",
    "#    n_correct = sum(y_pred == y_test_fold)\n",
    "#    print(n_correct / len(y_pred))"
   ]
  },
  {
   "cell_type": "code",
   "execution_count": 19,
   "id": "35e8ba49-ab47-443c-a055-7b780718307c",
   "metadata": {},
   "outputs": [],
   "source": [
    "# It's better to do everything in the pipeline as below. For cross_val|_Score, we fo not need pipeline though."
   ]
  },
  {
   "cell_type": "code",
   "execution_count": 20,
   "id": "d5a59849-c335-409f-b450-3fceb39e561b",
   "metadata": {},
   "outputs": [
    {
     "data": {
      "text/html": [
       "<style>#sk-container-id-2 {color: black;}#sk-container-id-2 pre{padding: 0;}#sk-container-id-2 div.sk-toggleable {background-color: white;}#sk-container-id-2 label.sk-toggleable__label {cursor: pointer;display: block;width: 100%;margin-bottom: 0;padding: 0.3em;box-sizing: border-box;text-align: center;}#sk-container-id-2 label.sk-toggleable__label-arrow:before {content: \"▸\";float: left;margin-right: 0.25em;color: #696969;}#sk-container-id-2 label.sk-toggleable__label-arrow:hover:before {color: black;}#sk-container-id-2 div.sk-estimator:hover label.sk-toggleable__label-arrow:before {color: black;}#sk-container-id-2 div.sk-toggleable__content {max-height: 0;max-width: 0;overflow: hidden;text-align: left;background-color: #f0f8ff;}#sk-container-id-2 div.sk-toggleable__content pre {margin: 0.2em;color: black;border-radius: 0.25em;background-color: #f0f8ff;}#sk-container-id-2 input.sk-toggleable__control:checked~div.sk-toggleable__content {max-height: 200px;max-width: 100%;overflow: auto;}#sk-container-id-2 input.sk-toggleable__control:checked~label.sk-toggleable__label-arrow:before {content: \"▾\";}#sk-container-id-2 div.sk-estimator input.sk-toggleable__control:checked~label.sk-toggleable__label {background-color: #d4ebff;}#sk-container-id-2 div.sk-label input.sk-toggleable__control:checked~label.sk-toggleable__label {background-color: #d4ebff;}#sk-container-id-2 input.sk-hidden--visually {border: 0;clip: rect(1px 1px 1px 1px);clip: rect(1px, 1px, 1px, 1px);height: 1px;margin: -1px;overflow: hidden;padding: 0;position: absolute;width: 1px;}#sk-container-id-2 div.sk-estimator {font-family: monospace;background-color: #f0f8ff;border: 1px dotted black;border-radius: 0.25em;box-sizing: border-box;margin-bottom: 0.5em;}#sk-container-id-2 div.sk-estimator:hover {background-color: #d4ebff;}#sk-container-id-2 div.sk-parallel-item::after {content: \"\";width: 100%;border-bottom: 1px solid gray;flex-grow: 1;}#sk-container-id-2 div.sk-label:hover label.sk-toggleable__label {background-color: #d4ebff;}#sk-container-id-2 div.sk-serial::before {content: \"\";position: absolute;border-left: 1px solid gray;box-sizing: border-box;top: 0;bottom: 0;left: 50%;z-index: 0;}#sk-container-id-2 div.sk-serial {display: flex;flex-direction: column;align-items: center;background-color: white;padding-right: 0.2em;padding-left: 0.2em;position: relative;}#sk-container-id-2 div.sk-item {position: relative;z-index: 1;}#sk-container-id-2 div.sk-parallel {display: flex;align-items: stretch;justify-content: center;background-color: white;position: relative;}#sk-container-id-2 div.sk-item::before, #sk-container-id-2 div.sk-parallel-item::before {content: \"\";position: absolute;border-left: 1px solid gray;box-sizing: border-box;top: 0;bottom: 0;left: 50%;z-index: -1;}#sk-container-id-2 div.sk-parallel-item {display: flex;flex-direction: column;z-index: 1;position: relative;background-color: white;}#sk-container-id-2 div.sk-parallel-item:first-child::after {align-self: flex-end;width: 50%;}#sk-container-id-2 div.sk-parallel-item:last-child::after {align-self: flex-start;width: 50%;}#sk-container-id-2 div.sk-parallel-item:only-child::after {width: 0;}#sk-container-id-2 div.sk-dashed-wrapped {border: 1px dashed gray;margin: 0 0.4em 0.5em 0.4em;box-sizing: border-box;padding-bottom: 0.4em;background-color: white;}#sk-container-id-2 div.sk-label label {font-family: monospace;font-weight: bold;display: inline-block;line-height: 1.2em;}#sk-container-id-2 div.sk-label-container {text-align: center;}#sk-container-id-2 div.sk-container {/* jupyter's `normalize.less` sets `[hidden] { display: none; }` but bootstrap.min.css set `[hidden] { display: none !important; }` so we also need the `!important` here to be able to override the default hidden behavior on the sphinx rendered scikit-learn.org. See: https://github.com/scikit-learn/scikit-learn/issues/21755 */display: inline-block !important;position: relative;}#sk-container-id-2 div.sk-text-repr-fallback {display: none;}</style><div id=\"sk-container-id-2\" class=\"sk-top-container\"><div class=\"sk-text-repr-fallback\"><pre>Pipeline(steps=[(&#x27;SGD&#x27;, SGDClassifier(random_state=42))])</pre><b>In a Jupyter environment, please rerun this cell to show the HTML representation or trust the notebook. <br />On GitHub, the HTML representation is unable to render, please try loading this page with nbviewer.org.</b></div><div class=\"sk-container\" hidden><div class=\"sk-item sk-dashed-wrapped\"><div class=\"sk-label-container\"><div class=\"sk-label sk-toggleable\"><input class=\"sk-toggleable__control sk-hidden--visually\" id=\"sk-estimator-id-2\" type=\"checkbox\" ><label for=\"sk-estimator-id-2\" class=\"sk-toggleable__label sk-toggleable__label-arrow\">Pipeline</label><div class=\"sk-toggleable__content\"><pre>Pipeline(steps=[(&#x27;SGD&#x27;, SGDClassifier(random_state=42))])</pre></div></div></div><div class=\"sk-serial\"><div class=\"sk-item\"><div class=\"sk-estimator sk-toggleable\"><input class=\"sk-toggleable__control sk-hidden--visually\" id=\"sk-estimator-id-3\" type=\"checkbox\" ><label for=\"sk-estimator-id-3\" class=\"sk-toggleable__label sk-toggleable__label-arrow\">SGDClassifier</label><div class=\"sk-toggleable__content\"><pre>SGDClassifier(random_state=42)</pre></div></div></div></div></div></div></div>"
      ],
      "text/plain": [
       "Pipeline(steps=[('SGD', SGDClassifier(random_state=42))])"
      ]
     },
     "execution_count": 20,
     "metadata": {},
     "output_type": "execute_result"
    }
   ],
   "source": [
    "from sklearn.linear_model import SGDClassifier\n",
    "from sklearn.pipeline import Pipeline\n",
    "\n",
    "sgd_clf = SGDClassifier(random_state=42)\n",
    "pipeline = Pipeline([\n",
    "    (\"SGD\", sgd_clf),\n",
    "])\n",
    "pipeline.fit(X_train, y_train_5)"
   ]
  },
  {
   "cell_type": "code",
   "execution_count": 21,
   "id": "e11182bc-072e-45cd-a6c7-797a17e518b9",
   "metadata": {},
   "outputs": [
    {
     "data": {
      "text/plain": [
       "array([False, False,  True, ..., False, False, False])"
      ]
     },
     "execution_count": 21,
     "metadata": {},
     "output_type": "execute_result"
    }
   ],
   "source": [
    "result  = pipeline.predict(X_test)\n",
    "result"
   ]
  },
  {
   "cell_type": "code",
   "execution_count": 22,
   "id": "5d76ceee-0178-428d-9559-0ecc38e23df3",
   "metadata": {},
   "outputs": [
    {
     "data": {
      "text/html": [
       "\n",
       "<h4>Confusion matrices</h4> \n",
       "It is a great performance metric, especially in the case of a class imbalance problem.\n",
       "<br/>\n",
       "<b>Confusion matrix for a binary response</b>\n",
       "<img src='images/confusion_matrix.png' width=400 />\n"
      ],
      "text/plain": [
       "<IPython.core.display.HTML object>"
      ]
     },
     "metadata": {},
     "output_type": "display_data"
    }
   ],
   "source": [
    "%%html\n",
    "\n",
    "<h4>Confusion matrices</h4> \n",
    "It is a great performance metric, especially in the case of a class imbalance problem.\n",
    "<br/>\n",
    "<b>Confusion matrix for a binary response</b>\n",
    "<img src='images/confusion_matrix.png' width=400 />"
   ]
  },
  {
   "cell_type": "code",
   "execution_count": 23,
   "id": "0a0a11c3-fbb6-47b2-84c7-741ba0f2c7ea",
   "metadata": {},
   "outputs": [],
   "source": [
    "# Rows represent true responses and columns represent the predicted responses\n",
    "# True +ve = both true response and predicted response is +ve\n",
    "# True -ve = both true response and predicted response is -ve\n",
    "# False +ve (type 1 error) = it's wrongly predicted as +ve\n",
    "# False -ve (type 2 error) = it's wrongly predicted as -ve \n",
    "\n",
    "# Precision is in the total +ve prediction responses, how many +ve prediction responses are predicted correctly. \n",
    "# It measures the accuracy of the +ve prediction.\n",
    "# Precision = TP/(TP+FP)\n",
    "\n",
    "# Recall is in the total +ve true responses, how many +ve true responses are predicted accurately. It is also called sensitivity / true +ve rate\n",
    "# It is the ratio of +ve responses correctly classified as +ve responses\n",
    "# Recall = TP/(TP+FN)\n",
    "\n",
    "# Opposite to recall.\n",
    "# It is the ratio of -ve responses that are correctly classified as -ve responses\n",
    "# Specificity = TN/(TN+FP)\n",
    "\n",
    "# We can also calculate the accuracy as TP+TN is the total number of accurate predictions. \n",
    "# Dividing it by the total number of precision, we can get the accuracy\n",
    "# Accuracy =(TP+TN)/total \n",
    "\n",
    "\n",
    "#Precision/recall example explanation\n",
    "# In the case, of fraud detection in an insurance claim example, reducing the FP is more important than FN. \n",
    "# FP means predicting as +ve instead of true -ve response. \n",
    "# It means that a customer who is not a fraud can be classified as fraud which is going to be a reputational issue \n",
    "# for the brand which has a much more negative  impact than the loss accumulated through the FN.\n",
    "# So reducing the FP is the key focus. If we reduce the FP, the precision will increase as per the formula. \n",
    "\n",
    "# In the case of a cancer detection algorithm from the image, reducing FN is more important than FP.\n",
    "# FN means predicting as -ve instead of true +ve response. \n",
    "# It means that a patient who has cancer will be identified as not cancerous. \n",
    "# This has more impact than detecting the non-cancerous patient as cancerous(FP).\n",
    "# So reducing the FN is important. If we reduce the FN, the recall will increase as per the formula.\n"
   ]
  },
  {
   "cell_type": "code",
   "execution_count": 24,
   "id": "97191e41-0f01-4a65-a0dd-996f4ef7a9e3",
   "metadata": {},
   "outputs": [],
   "source": [
    "# We can implement that now, cross_val_Score give the evaluation_metrics,WHat we need here is the predictions with cross validation, \n",
    "# So we can use cross_val_predict\n",
    "from sklearn.model_selection import cross_val_predict\n",
    "y_train_pred = cross_val_predict(sgd_clf, X_train, y_train_5, cv=3)"
   ]
  },
  {
   "cell_type": "code",
   "execution_count": 25,
   "id": "05bcbd1f-2c4c-4f5a-9c6d-eedc6097753e",
   "metadata": {},
   "outputs": [],
   "source": [
    "from sklearn.metrics import confusion_matrix\n",
    "cm = confusion_matrix(y_train_5, y_train_pred)\n",
    "\n",
    "TN = cm[0][0]\n",
    "FP = cm[0][1]"
   ]
  },
  {
   "cell_type": "code",
   "execution_count": 26,
   "id": "c054ab1c-b159-4b18-b888-e8c0afa7b0b0",
   "metadata": {},
   "outputs": [
    {
     "data": {
      "text/html": [
       "\n",
       "Position of +ve and -ve responses are different in sklearn compared to what we showed in the above picture. But the concept is same.\\\n",
       "<img src=\"images/sk_learn_confusion_matrix.png\" width=400>\n"
      ],
      "text/plain": [
       "<IPython.core.display.HTML object>"
      ]
     },
     "metadata": {},
     "output_type": "display_data"
    }
   ],
   "source": [
    "%%html\n",
    "\n",
    "Position of +ve and -ve responses are different in sklearn compared to what we showed in the above picture. But the concept is same.\\\n",
    "<img src=\"images/sk_learn_confusion_matrix.png\" width=400>"
   ]
  },
  {
   "cell_type": "code",
   "execution_count": 27,
   "id": "d6c6f94a-5dd6-462b-aa5a-a8b508d21a4b",
   "metadata": {},
   "outputs": [
    {
     "data": {
      "text/plain": [
       "0.8515332009706597"
      ]
     },
     "execution_count": 27,
     "metadata": {},
     "output_type": "execute_result"
    }
   ],
   "source": [
    "# We can get the precision and recall score using sklearn\n",
    "from sklearn.metrics import precision_score, recall_score, accuracy_score\n",
    "\n",
    "# It measures the accuracy of +ve predicted response\n",
    "precision_score(y_train_5, y_train_pred)"
   ]
  },
  {
   "cell_type": "code",
   "execution_count": 28,
   "id": "01298f23-e6fe-4db5-9be5-e0e1c64d2b93",
   "metadata": {},
   "outputs": [
    {
     "data": {
      "text/plain": [
       "0.7658730158730159"
      ]
     },
     "execution_count": 28,
     "metadata": {},
     "output_type": "execute_result"
    }
   ],
   "source": [
    "# Sensitivity/ true +ve rate/ model's ability to predict +ve response\n",
    "recall_score(y_train_5, y_train_pred)"
   ]
  },
  {
   "cell_type": "code",
   "execution_count": 29,
   "id": "3d89c948-7362-4cd3-b7f7-574990fc45f5",
   "metadata": {},
   "outputs": [
    {
     "data": {
      "text/plain": [
       "0.9867935635792778"
      ]
     },
     "execution_count": 29,
     "metadata": {},
     "output_type": "execute_result"
    }
   ],
   "source": [
    "# Specifity\n",
    "result= TN/(TN+FP)\n",
    "result"
   ]
  },
  {
   "cell_type": "code",
   "execution_count": 30,
   "id": "7696b029-6886-43f3-a5b4-9b19ee715e63",
   "metadata": {},
   "outputs": [
    {
     "data": {
      "text/plain": [
       "0.9669107142857143"
      ]
     },
     "execution_count": 30,
     "metadata": {},
     "output_type": "execute_result"
    }
   ],
   "source": [
    "# accuracy\n",
    "accuracy_score(y_train_5, y_train_pred)"
   ]
  },
  {
   "cell_type": "code",
   "execution_count": 31,
   "id": "924c3e25-0928-448e-a07b-b3bde068e7f6",
   "metadata": {},
   "outputs": [
    {
     "data": {
      "text/plain": [
       "0.8064347644416588"
      ]
     },
     "execution_count": 31,
     "metadata": {},
     "output_type": "execute_result"
    }
   ],
   "source": [
    "# F1 score computes the harmonic meaning between precision & recall\n",
    "from sklearn.metrics import f1_score\n",
    "f1_score(y_train_5, y_train_pred)"
   ]
  },
  {
   "cell_type": "code",
   "execution_count": 32,
   "id": "899f0969-38cb-4951-9b86-af63a8238818",
   "metadata": {},
   "outputs": [],
   "source": [
    "# The F1 score favours the classifiers with similar precision and recall. \n",
    "# Unfortunately, increasing the precision reduces the recall and vice versa. \n",
    "# This is called precision/recall trade-off "
   ]
  },
  {
   "cell_type": "code",
   "execution_count": 33,
   "id": "b4dc1cd8-eac1-4ba3-a81a-ee4b684799e9",
   "metadata": {},
   "outputs": [
    {
     "data": {
      "text/html": [
       "\n",
       "<h4>Precision/recall trade off</h4> \n",
       "The +ve precision and -ve prediction are determined if the prediction score(probability) is greater than the threshold being +ve prediction,\n",
       "otherwise a -ve prediction.\n",
       "<br/>\n",
       "SGC classifier does not let us change the threshold directly, it does give the access to descison score.\n",
       "<br/>\n"
      ],
      "text/plain": [
       "<IPython.core.display.HTML object>"
      ]
     },
     "metadata": {},
     "output_type": "display_data"
    }
   ],
   "source": [
    "%%html\n",
    "\n",
    "<h4>Precision/recall trade off</h4> \n",
    "The +ve precision and -ve prediction are determined if the prediction score(probability) is greater than the threshold being +ve prediction,\n",
    "otherwise a -ve prediction.\n",
    "<br/>\n",
    "SGC classifier does not let us change the threshold directly, it does give the access to descison score.\n",
    "<br/>\n"
   ]
  },
  {
   "cell_type": "code",
   "execution_count": 35,
   "id": "2579a02f-cff2-44a4-88c3-43ca111e5c06",
   "metadata": {},
   "outputs": [
    {
     "data": {
      "text/plain": [
       "array([-372.88017823])"
      ]
     },
     "execution_count": 35,
     "metadata": {},
     "output_type": "execute_result"
    }
   ],
   "source": [
    "some_digit = X[0]\n",
    "y_score = sgd_clf.decision_function([some_digit])\n",
    "y_scores"
   ]
  },
  {
   "cell_type": "code",
   "execution_count": 36,
   "id": "3234b76a-e240-41a7-ba48-5351db47c847",
   "metadata": {},
   "outputs": [
    {
     "data": {
      "text/plain": [
       "array([False])"
      ]
     },
     "execution_count": 36,
     "metadata": {},
     "output_type": "execute_result"
    }
   ],
   "source": [
    "# just shows that y_scores > 0 produces the same result as calling predict()\n",
    "threshold = 0\n",
    "y_some_digit_pred = (y_scores > threshold)\n",
    "y_some_digit_pred"
   ]
  },
  {
   "cell_type": "code",
   "execution_count": 40,
   "id": "f96841ab-125d-49f7-b6df-aa3e8ae474a7",
   "metadata": {},
   "outputs": [
    {
     "data": {
      "text/plain": [
       "array([ True])"
      ]
     },
     "execution_count": 40,
     "metadata": {},
     "output_type": "execute_result"
    }
   ],
   "source": [
    "threshold = -300\n",
    "y_some_digit_pred = (y_scores > threshold)\n",
    "y_some_digit_pred"
   ]
  },
  {
   "cell_type": "code",
   "execution_count": 49,
   "id": "3fcff6e1-6157-4da3-bda3-30e581880f05",
   "metadata": {},
   "outputs": [],
   "source": [
    "# How do we determine which theshold to use?\n",
    "#1. use cross_val_predict() and pass fecision_function as method argument value\n",
    "#2. With these scores, use precison_recall_curve to compute precision & recall for all threshold\n",
    "#3. Then plot the curve using matplotlib with threshold we slected earlier\n",
    "\n",
    "y_scores = cross_val_predict(sgd_clf, X_train, y_train_5, cv=3, method='decision_function')"
   ]
  },
  {
   "cell_type": "code",
   "execution_count": 50,
   "id": "7120f9b9-924d-4a29-b5b3-bb9ec5f9f5b9",
   "metadata": {},
   "outputs": [],
   "source": [
    "from sklearn.metrics import precision_recall_curve\n",
    "precisions, recalls, thresholds = precision_recall_curve(y_train_5, y_scores)"
   ]
  },
  {
   "cell_type": "code",
   "execution_count": 66,
   "id": "d2433fec-bb06-415a-8060-b1082bb828ec",
   "metadata": {},
   "outputs": [
    {
     "data": {
      "text/plain": [
       "<matplotlib.legend.Legend at 0x7fa5d768b290>"
      ]
     },
     "execution_count": 66,
     "metadata": {},
     "output_type": "execute_result"
    },
    {
     "data": {
      "image/png": "[encoded data removed]",
      "text/plain": [
       "<Figure size 800x400 with 1 Axes>"
      ]
     },
     "metadata": {},
     "output_type": "display_data"
    }
   ],
   "source": [
    "plt.figure(figsize=(8, 4))  # extra code – it's not needed, just formatting\n",
    "plt.plot(thresholds, precisions[:-1], \"b--\", label=\"Precision\", linewidth=2)\n",
    "plt.plot(thresholds, recalls[:-1], \"g-\", label=\"Recall\", linewidth=2)\n",
    "plt.vlines(threshold, 0, 1.0, \"k\", \"dotted\", label=\"threshold\")\n",
    "\n",
    "# extra code – this section just beautifies and saves Figure 3–5\n",
    "idx = (thresholds >= threshold).argmax()  # first index ≥ threshold\n",
    "plt.plot(thresholds[idx], precisions[idx], \"bo\")\n",
    "plt.plot(thresholds[idx], recalls[idx], \"go\")\n",
    "plt.axis([-50000, 50000, 0, 1])\n",
    "plt.grid()\n",
    "plt.xlabel(\"Threshold\")\n",
    "plt.legend(loc=\"center right\")"
   ]
  },
  {
   "cell_type": "code",
   "execution_count": 69,
   "id": "28b57c79-f809-487e-bae4-7f4279166150",
   "metadata": {},
   "outputs": [
    {
     "data": {
      "text/plain": [
       "<matplotlib.legend.Legend at 0x7fa5d777a610>"
      ]
     },
     "execution_count": 69,
     "metadata": {},
     "output_type": "execute_result"
    },
    {
     "data": {
      "image/png": "[encoded data removed]",
      "text/plain": [
       "<Figure size 800x400 with 1 Axes>"
      ]
     },
     "metadata": {},
     "output_type": "display_data"
    }
   ],
   "source": [
    "import matplotlib.patches as patches  # extra code – for the curved arrow\n",
    "\n",
    "# We can plot precision/recall curve\n",
    "plt.figure(figsize=(8, 4))  # extra code – it's not needed, just formatting\n",
    "plt.plot(recalls,precisions, \"r-\", label=\"Precision/recall\", linewidth=2)\n",
    "\n",
    "# extra code – just beautifies and saves Figure 3–6\n",
    "plt.plot([recalls[idx], recalls[idx]], [0., precisions[idx]], \"k:\")\n",
    "plt.plot([0.0, recalls[idx]], [precisions[idx], precisions[idx]], \"k:\")\n",
    "plt.plot([recalls[idx]], [precisions[idx]], \"ko\",\n",
    "         label=\"Point at threshold 3,000\")\n",
    "plt.gca().add_patch(patches.FancyArrowPatch(\n",
    "    (0.79, 0.60), (0.61, 0.78),\n",
    "    connectionstyle=\"arc3,rad=.2\",\n",
    "    arrowstyle=\"Simple, tail_width=1.5, head_width=8, head_length=10\",\n",
    "    color=\"#444444\"))\n",
    "plt.text(0.56, 0.62, \"Higher\\nthreshold\", color=\"#333333\")\n",
    "plt.xlabel(\"Recall\")\n",
    "plt.ylabel(\"Precision\")\n",
    "plt.axis([0, 1, 0, 1])\n",
    "plt.grid()\n",
    "plt.legend(loc=\"lower left\")"
   ]
  },
  {
   "cell_type": "code",
   "execution_count": null,
   "id": "3a137cdf-d004-466f-affd-d5e50e7df087",
   "metadata": {},
   "outputs": [],
   "source": [
    "# The aove diagram shows when recall increases precision decreases and vice versa."
   ]
  },
  {
   "cell_type": "code",
   "execution_count": 70,
   "id": "8cc3c46b-bd2c-427e-82c0-8badd8b195aa",
   "metadata": {},
   "outputs": [
    {
     "data": {
      "text/plain": [
       "array([False, False, False, ...,  True,  True,  True])"
      ]
     },
     "execution_count": 70,
     "metadata": {},
     "output_type": "execute_result"
    }
   ],
   "source": [
    "precisions >= 0.90"
   ]
  },
  {
   "cell_type": "code",
   "execution_count": 72,
   "id": "61f239d8-f395-4ad1-8b63-77c4b48a7d60",
   "metadata": {},
   "outputs": [
    {
     "data": {
      "text/plain": [
       "1583.5206905024331"
      ]
     },
     "execution_count": 72,
     "metadata": {},
     "output_type": "execute_result"
    }
   ],
   "source": [
    "# Suppose we are aiming to get a prediction with 90% precision. \n",
    "# We can either use the above picture to make the decision or use np.argmax \n",
    "idx_for_90_precision = (precisions >= 0.90).argmax()\n",
    "# This will return the array index with the highest recall possible for >=90% precisions.\n",
    "threshold_for_90_precision = thresholds[idx_for_90_precision]\n",
    "threshold_for_90_precision "
   ]
  },
  {
   "cell_type": "code",
   "execution_count": 74,
   "id": "c2cd691a-28a8-4f5b-b991-43be15c19d40",
   "metadata": {},
   "outputs": [
    {
     "data": {
      "text/plain": [
       "array([ True, False, False, ..., False, False, False])"
      ]
     },
     "execution_count": 74,
     "metadata": {},
     "output_type": "execute_result"
    }
   ],
   "source": [
    "y_train_pred_90 = (y_scores > threshold_for_90_precision)\n",
    "y_train_pred_90"
   ]
  },
  {
   "cell_type": "code",
   "execution_count": 75,
   "id": "f3d348dd-1fba-479f-a465-d457062b4f60",
   "metadata": {},
   "outputs": [
    {
     "data": {
      "text/plain": [
       "0.8999742864489586"
      ]
     },
     "execution_count": 75,
     "metadata": {},
     "output_type": "execute_result"
    }
   ],
   "source": [
    "precision_score(y_train_5, y_train_pred_90)"
   ]
  },
  {
   "cell_type": "code",
   "execution_count": 76,
   "id": "f89f33fc-7d7b-4bd5-a7b1-a83d6ca0842d",
   "metadata": {},
   "outputs": [
    {
     "data": {
      "text/plain": [
       "0.6944444444444444"
      ]
     },
     "execution_count": 76,
     "metadata": {},
     "output_type": "execute_result"
    }
   ],
   "source": [
    "recall_score(y_train_5, y_train_pred_90)"
   ]
  },
  {
   "cell_type": "code",
   "execution_count": null,
   "id": "e81eb6fc-515c-47d7-b859-8d62dd3a70b9",
   "metadata": {},
   "outputs": [],
   "source": [
    "%%html\n",
    "\n",
    "<h4>ROC curve</h4>\n",
    "Receiver operating characteristics is another tool used in binary classifier.\n",
    "<br/>\n",
    "It's very similar to precion/recall curve, bute hre uses true positive rate(recall) vs false positive rate(FPR)\n",
    "<br/>\n",
    "FPR is a ratio of negative responses incorrectly classified as +ve. If the FPR decreases, precision increases.\n",
    "<br/>\n",
    "FPR is calculated by 1-specifity(ratio of -ve responses that are correctly classified as -ve responses)"
   ]
  },
  {
   "cell_type": "code",
   "execution_count": 81,
   "id": "3646f952-d574-4a06-9a15-d41b9f00cb66",
   "metadata": {},
   "outputs": [],
   "source": [
    "from sklearn.metrics import roc_curve\n",
    "fpr, tpr, thresholds = roc_curve(y_train_5, y_scores)\n",
    "idx_for_threshold_at_90 = (thresholds <= threshold_for_90_precision).argmax()\n",
    "tpr_90, fpr_90 = tpr[idx_for_threshold_at_90], fpr[idx_for_threshold_at_90]\n"
   ]
  },
  {
   "cell_type": "code",
   "execution_count": 83,
   "id": "1ecf941f-b528-4ec4-b503-f7fc809cfb77",
   "metadata": {},
   "outputs": [
    {
     "data": {
      "text/plain": [
       "<matplotlib.legend.Legend at 0x7fa5d6f0af50>"
      ]
     },
     "execution_count": 83,
     "metadata": {},
     "output_type": "execute_result"
    },
    {
     "data": {
      "image/png": "[encoded data removed]",
      "text/plain": [
       "<Figure size 600x500 with 1 Axes>"
      ]
     },
     "metadata": {},
     "output_type": "display_data"
    }
   ],
   "source": [
    "plt.figure(figsize=(6, 5))  \n",
    "plt.plot(fpr, tpr, linewidth=2, label=\"ROC curve\")\n",
    "plt.plot([0, 1], [0, 1], 'k:', label=\"Random classifier's ROC curve\")\n",
    "plt.plot([fpr_90], [tpr_90], \"ko\", label=\"Threshold for 90% precision\")\n",
    "\n",
    "#extra code – just beautifies and saves Figure 3–7\n",
    "plt.gca().add_patch(patches.FancyArrowPatch(\n",
    "    (0.20, 0.89), (0.07, 0.70),\n",
    "    connectionstyle=\"arc3,rad=.4\",\n",
    "    arrowstyle=\"Simple, tail_width=1.5, head_width=8, head_length=10\",\n",
    "    color=\"#444444\"))\n",
    "plt.text(0.12, 0.71, \"Higher\\nthreshold\", color=\"#333333\")\n",
    "plt.xlabel('False Positive Rate (Fall-Out)')\n",
    "plt.ylabel('True Positive Rate (Recall)')\n",
    "plt.grid()\n",
    "plt.axis([0, 1, 0, 1])\n",
    "plt.legend(loc=\"lower right\", fontsize=13)\n"
   ]
  },
  {
   "cell_type": "code",
   "execution_count": 85,
   "id": "89f6c274-6adc-4d4b-a25c-31df671c9add",
   "metadata": {},
   "outputs": [],
   "source": [
    "# The above picture will give you an idea about why when precision increases recall decreases and vice versa.\n",
    "# My intution here is that if false +ve increases precision decreases as per precision formula(TP/(TP+FP)).\n",
    "# When we have a higher false +ve rate (it means it will reduce the recall) that will increase the recall.\n",
    "# It means the higher the false +ve rate, the higher the recall, thus reducing the precision."
   ]
  },
  {
   "cell_type": "code",
   "execution_count": 88,
   "id": "5a33bb53-d31d-45a4-a0df-f750512481b3",
   "metadata": {},
   "outputs": [
    {
     "data": {
      "text/html": [
       "<h4>Area Under Curve(AUC)</h4>\n",
       "One way to compares the classifier using area under the curve. The larger the are under curve, the more effective the classifier. \n",
       "The perfect classifier will have AUC equal to one, where a purely random classifier will have auc equal to 0.5\n"
      ],
      "text/plain": [
       "<IPython.core.display.HTML object>"
      ]
     },
     "metadata": {},
     "output_type": "display_data"
    }
   ],
   "source": [
    "%%html\n",
    "<h4>Area Under Curve(AUC)</h4>\n",
    "One way to compares the classifier using area under the curve. The larger the are under curve, the more effective the classifier. \n",
    "The perfect classifier will have AUC equal to one, where a purely random classifier will have auc equal to 0.5"
   ]
  },
  {
   "cell_type": "code",
   "execution_count": 90,
   "id": "7d9dd161-cf52-47ad-8ea4-b53174f16fdf",
   "metadata": {},
   "outputs": [],
   "source": [
    "from sklearn.metrics import roc_auc_score"
   ]
  },
  {
   "cell_type": "code",
   "execution_count": 92,
   "id": "5396b75d-968b-4373-a876-ed10701a0f2f",
   "metadata": {},
   "outputs": [
    {
     "data": {
      "text/plain": [
       "0.9672937302210262"
      ]
     },
     "execution_count": 92,
     "metadata": {},
     "output_type": "execute_result"
    }
   ],
   "source": [
    "auc_score = roc_auc_score(y_train_5, y_scores)\n",
    "auc_score"
   ]
  },
  {
   "cell_type": "code",
   "execution_count": 93,
   "id": "4324d4c0-5ecc-47ba-abbe-5ee12a3300e3",
   "metadata": {},
   "outputs": [],
   "source": [
    "# Lets compare two classifiers: RandomForestClassifier and SGDClassifier\n",
    "from sklearn.ensemble import RandomForestClassifier"
   ]
  },
  {
   "cell_type": "code",
   "execution_count": 97,
   "id": "fc166162-0eb6-49bf-b931-eabc4ae2bea7",
   "metadata": {},
   "outputs": [],
   "source": [
    "forest_clf = RandomForestClassifier(random_state=42)\n",
    "# it has no decision_function method\n",
    "y_probas_forest = cross_val_predict(forest_clf, X_train, y_train_5, cv=3, method='predict_proba')"
   ]
  },
  {
   "cell_type": "code",
   "execution_count": 98,
   "id": "b4fab457-dbaa-486c-8d0c-e307dc9ff4e2",
   "metadata": {},
   "outputs": [
    {
     "data": {
      "text/plain": [
       "array([[0.24, 0.76],\n",
       "       [0.99, 0.01],\n",
       "       [0.98, 0.02],\n",
       "       ...,\n",
       "       [1.  , 0.  ],\n",
       "       [1.  , 0.  ],\n",
       "       [0.94, 0.06]])"
      ]
     },
     "execution_count": 98,
     "metadata": {},
     "output_type": "execute_result"
    }
   ],
   "source": [
    "y_probas_forest"
   ]
  },
  {
   "cell_type": "code",
   "execution_count": 102,
   "id": "85ef1a34-a331-40dc-9143-5a1d41ca6a67",
   "metadata": {},
   "outputs": [],
   "source": [
    "# the second column has the probability for +ve classes\n",
    "y_scores_f = y_probas_forest[:,1]"
   ]
  },
  {
   "cell_type": "code",
   "execution_count": 103,
   "id": "a96c3f7b-7392-4b7e-a896-0e253ab9c315",
   "metadata": {},
   "outputs": [],
   "source": [
    "precisions_f, recalls_f, thresholds_f = precision_recall_curve(y_train_5, y_scores_f)"
   ]
  },
  {
   "cell_type": "code",
   "execution_count": 108,
   "id": "e7e3fbfe-0872-4bbc-b340-4a3fbde3c9fb",
   "metadata": {},
   "outputs": [
    {
     "data": {
      "text/plain": [
       "<matplotlib.legend.Legend at 0x7fa5d712c650>"
      ]
     },
     "execution_count": 108,
     "metadata": {},
     "output_type": "execute_result"
    },
    {
     "data": {
      "image/png": "[encoded data removed]",
      "text/plain": [
       "<Figure size 640x480 with 1 Axes>"
      ]
     },
     "metadata": {},
     "output_type": "display_data"
    }
   ],
   "source": [
    "plt.plot(recalls_f, precisions_f, label=\"Random Forest\")\n",
    "plt.plot(recalls, precisions, label=\"SGD\")\n",
    "plt.xlabel(\"Recall\")\n",
    "plt.ylabel(\"Precision\")\n",
    "plt.legend()"
   ]
  },
  {
   "cell_type": "code",
   "execution_count": 112,
   "id": "e41d62a1-9d94-4bb9-8e24-d78a72db851e",
   "metadata": {},
   "outputs": [
    {
     "name": "stdout",
     "output_type": "stream",
     "text": [
      "AUC score of Random Forest:0.9982151267100247\n",
      "AUC score of SGD:0.9672937302210262\n"
     ]
    }
   ],
   "source": [
    "# By just looking at the image, we can conclude that Random Forest is better than SGD.\n",
    "# We can compute the AUC score as below as well:\n",
    "print(f\"AUC score of Random Forest:{roc_auc_score(y_train_5, y_scores_f)}\")\n",
    "print(f\"AUC score of SGD:{roc_auc_score(y_train_5, y_scores)}\")"
   ]
  },
  {
   "cell_type": "code",
   "execution_count": 116,
   "id": "83c1ee89-c636-47bb-b7a7-820a6a3a3c0f",
   "metadata": {},
   "outputs": [
    {
     "data": {
      "text/html": [
       "<h3>Multi class classification</h3>\n",
       "Binary classifier distinguishes between two classes, multiclass classifiers can distinguish between more than two classes. For example, \n",
       "predicting the 1 to 10 numbers from mnist image dataset is an example of multiclass classification.\n",
       "<br/>\n",
       "In Multiclass classification, confusion matrix will have all the classes of true & predicted responses. Mnist confusion matrc is shown below:\n",
       "<img src=\"images/confusion_matrix_multiclass.png\" width=400 />\n"
      ],
      "text/plain": [
       "<IPython.core.display.HTML object>"
      ]
     },
     "metadata": {},
     "output_type": "display_data"
    }
   ],
   "source": [
    "%%html\n",
    "<h3>Multi class classification</h3>\n",
    "Binary classifier distinguishes between two classes, multiclass classifiers can distinguish between more than two classes. For example, \n",
    "predicting the 1 to 10 numbers from mnist image dataset is an example of multiclass classification.\n",
    "<br/>\n",
    "In Multiclass classification, confusion matrix will have all the classes of true & predicted responses. Mnist confusion matrc is shown below:\n",
    "<img src=\"images/confusion_matrix_multiclass.png\" width=400 />"
   ]
  },
  {
   "cell_type": "code",
   "execution_count": 118,
   "id": "d11ab009-6d38-46bb-b53a-6b0129f0fd42",
   "metadata": {},
   "outputs": [
    {
     "data": {
      "text/html": [
       "\n",
       "There are two approaches in calculation multiclass classification metrics: macro averaging and micro averaging.\n",
       "<br/>\n",
       "<b>Macro Averaging</b>\n",
       "<img src=\"images/macro_averaging.png\" width=400 />\n",
       "<br/>\n",
       "<b>Micro Averaging</b>\n",
       "<img src=\"images/micro_averaging.png\" width=400 />\n",
       "<br/>\n",
       "Ref: https://medium.com/data-science-in-your-pocket/calculating-precision-recall-for-multi-class-classification-9055931ee229\n"
      ],
      "text/plain": [
       "<IPython.core.display.HTML object>"
      ]
     },
     "metadata": {},
     "output_type": "display_data"
    }
   ],
   "source": [
    "%%html\n",
    "\n",
    "There are two approaches in calculation multiclass classification metrics: macro averaging and micro averaging.\n",
    "<br/>\n",
    "<b>Macro Averaging</b>\n",
    "<img src=\"images/macro_averaging.png\" width=400 />\n",
    "<br/>\n",
    "<b>Micro Averaging</b>\n",
    "<img src=\"images/micro_averaging.png\" width=400 />\n",
    "<br/>\n",
    "Ref: https://medium.com/data-science-in-your-pocket/calculating-precision-recall-for-multi-class-classification-9055931ee229\n"
   ]
  },
  {
   "cell_type": "code",
   "execution_count": 123,
   "id": "51235b3f-48dc-4f3a-a762-19776aebcf68",
   "metadata": {},
   "outputs": [
    {
     "data": {
      "text/html": [
       "Macro-averaging is to be preferred over micro-averaging in case of imbalanced classes (which is almost always the case), because it weighs each of the classes equally and isn’t influenced by the number of examples of each class.\n"
      ],
      "text/plain": [
       "<IPython.core.display.HTML object>"
      ]
     },
     "metadata": {},
     "output_type": "display_data"
    }
   ],
   "source": [
    "%%html\n",
    "Macro-averaging is to be preferred over micro-averaging in case of imbalanced classes (which is almost always the case), because it weighs each of the classes equally and isn’t influenced by the number of examples of each class."
   ]
  },
  {
   "cell_type": "code",
   "execution_count": 125,
   "id": "e3b93952-b72e-4e0c-a93e-fbe822022ebb",
   "metadata": {},
   "outputs": [
    {
     "data": {
      "text/html": [
       "<h3>Multi label classification</h3>\n",
       "Even though there are multiple classes, in multiple classifications, each instance is assigned to one class only. \n",
       "Multi-label classification has multiple labels assigned to each instance.\n",
       "\n",
       "<br/>\n",
       "We can use the same technique used in multi-class classification to compute the precision and recall metrics.\n"
      ],
      "text/plain": [
       "<IPython.core.display.HTML object>"
      ]
     },
     "metadata": {},
     "output_type": "display_data"
    }
   ],
   "source": [
    "%%html\n",
    "<h3>Multi label classification</h3>\n",
    "Even though there are multiple classes, in multiple classifications, each instance is assigned to one class only. \n",
    "Multi-label classification has multiple labels assigned to each instance.\n",
    "\n",
    "<br/>\n",
    "We can use the same technique used in multi-class classification to compute the precision and recall metrics."
   ]
  },
  {
   "cell_type": "code",
   "execution_count": 14,
   "id": "7aeb4114-52d1-4251-920d-f735aa707a2b",
   "metadata": {},
   "outputs": [
    {
     "data": {
      "text/html": [
       "<h3>Challenges for imbalanced data</h3>\n",
       "<img src=\"images/class_imbalance.jpg\" width=400 />\n",
       "1. Insufficient signal for your model to learn to detect the minority classes\n",
       "2. It will be easier for the model to get stuck in a non-optimal solution\n",
       "\n",
       "<h3>Strategies for imbalanced data</h3>\n",
       "1. Using the right Evaluation metric: Precison, recall, and f1 over accuracy\n",
       "<br/>\n",
       "2. Resampling: \n",
       "<img src=\"images/resampling.jpg\" width=400 />\n",
       "<b>Undersampling</b>\n",
       "<br/>\n",
       "If we have enough data, one strategy to undersample the prevalent class. The basic idea in undersampling is that\n",
       "the data for the dominant class has many redundant records.\n",
       "<br/>\n",
       "<b>Oversample</b>\n",
       "<br/>\n",
       "Instead of downsampling the dominant class, we can upsample the rarer class by drawing additional rows with replacement(bootstrapping).\n",
       "<br/>\n",
       "<br/>\n",
       "Undersampling runs the risk of losing important data. Oversampling runs the risk of overfitting the training data. \n",
       "<br/>\n",
       "Two approaches to this are two-phase learning and dynamic sampling. \n",
       "<br/>\n",
       "In two-phase learning, we first train the model on the resampled data. \n",
       "The resampled data can be achieved by randomly undersampling large classes until each class has only N instances. \n",
       "Then we can finetune the model on the original data.\n",
       "\n",
       "In dynamic sampling, oversample the low-performing classes and undersample the high-performing classes during the training process. \n",
       "<br/>\n",
       "<br/>\n",
       "3. We can change the loss function to accommodate the imbalanced class problem.\n",
       "<br/>\n",
       "4. Data generation\n"
      ],
      "text/plain": [
       "<IPython.core.display.HTML object>"
      ]
     },
     "metadata": {},
     "output_type": "display_data"
    }
   ],
   "source": [
    "%%html\n",
    "<h3>Challenges for imbalanced data</h3>\n",
    "<img src=\"images/class_imbalance.jpg\" width=400 />\n",
    "1. Insufficient signal for your model to learn to detect the minority classes\n",
    "2. It will be easier for the model to get stuck in a non-optimal solution\n",
    "\n",
    "<h3>Strategies for imbalanced data</h3>\n",
    "1. Using the right Evaluation metric: Precison, recall, and f1 over accuracy\n",
    "<br/>\n",
    "2. Resampling: \n",
    "<img src=\"images/resampling.jpg\" width=400 />\n",
    "<b>Undersampling</b>\n",
    "<br/>\n",
    "If we have enough data, one strategy to undersample the prevalent class. The basic idea in undersampling is that\n",
    "the data for the dominant class has many redundant records.\n",
    "<br/>\n",
    "<b>Oversample</b>\n",
    "<br/>\n",
    "Instead of downsampling the dominant class, we can upsample the rarer class by drawing additional rows with replacement(bootstrapping).\n",
    "<br/>\n",
    "<br/>\n",
    "Undersampling runs the risk of losing important data. Oversampling runs the risk of overfitting the training data. \n",
    "<br/>\n",
    "Two approaches to this are two-phase learning and dynamic sampling. \n",
    "<br/>\n",
    "In two-phase learning, we first train the model on the resampled data. \n",
    "The resampled data can be achieved by randomly undersampling large classes until each class has only N instances. \n",
    "Then we can finetune the model on the original data.\n",
    "\n",
    "In dynamic sampling, oversample the low-performing classes and undersample the high-performing classes during the training process. \n",
    "<br/>\n",
    "<br/>\n",
    "3. We can change the loss function to accommodate the imbalanced class problem.\n",
    "<br/>\n",
    "4. Data generation"
   ]
  },
  {
   "cell_type": "code",
   "execution_count": 21,
   "id": "c8a5f12f-e1cf-4310-84a9-613d3e81d0f9",
   "metadata": {},
   "outputs": [
    {
     "data": {
      "text/html": [
       "<h3>Handling the lack of labels</h3>\n",
       "<img src=\"images/lack_labels_techniques.jpg\" width=400/>\n",
       "<br/>\n",
       "1. Weak supervision: it relies on experts to create a label function that can be used to label data. Snorkel AI is the company that is leading in this approach.\n",
       "<img src=\"images/weak_supervision.jpg\" width=400 />\n",
       "2. Semi-supervision: start training the data on existing labels and use this model to make predictions for unlabeled data.\n",
       "<br/>\n",
       "3. Transfer learning: finetune with a small number of labels on a pre-trained model.\n",
       "<br/>\n",
       "4. Active learning: labels the data samples that are most useful to your model.\n"
      ],
      "text/plain": [
       "<IPython.core.display.HTML object>"
      ]
     },
     "metadata": {},
     "output_type": "display_data"
    }
   ],
   "source": [
    "%%html\n",
    "<h3>Handling the lack of labels</h3>\n",
    "<img src=\"images/lack_labels_techniques.jpg\" width=400/>\n",
    "<br/>\n",
    "1. Weak supervision: it relies on experts to create a label function that can be used to label data. Snorkel AI is the company that is leading in this approach.\n",
    "<img src=\"images/weak_supervision.jpg\" width=400 />\n",
    "2. Semi-supervision: start training the data on existing labels and use this model to make predictions for unlabeled data.\n",
    "<br/>\n",
    "3. Transfer learning: finetune with a small number of labels on a pre-trained model.\n",
    "<br/>\n",
    "4. Active learning: labels the data samples that are most useful to your model."
   ]
  },
  {
   "cell_type": "code",
   "execution_count": null,
   "id": "c4afb8dc-a2ea-442a-a348-67c7be806b11",
   "metadata": {},
   "outputs": [],
   "source": []
  }
 ],
 "metadata": {
  "kernelspec": {
   "display_name": "Python 3 (ipykernel)",
   "language": "python",
   "name": "python3"
  },
  "language_info": {
   "codemirror_mode": {
    "name": "ipython",
    "version": 3
   },
   "file_extension": ".py",
   "mimetype": "text/x-python",
   "name": "python",
   "nbconvert_exporter": "python",
   "pygments_lexer": "ipython3",
   "version": "3.11.0rc1"
  }
 },
 "nbformat": 4,
 "nbformat_minor": 5
}
