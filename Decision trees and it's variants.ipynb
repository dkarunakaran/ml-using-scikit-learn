{
 "cells": [
  {
   "cell_type": "code",
   "execution_count": 11,
   "id": "b120c6ec-ed42-422c-b386-87d4e8503093",
   "metadata": {},
   "outputs": [
    {
     "data": {
      "text/html": [
       "Ref:<a href='https://github.com/ageron/handson-ml3/blob/main/06_decision_trees.ipynb'>https://github.com/ageron/handson-ml3/blob/main/06_decision_trees.ipynb</a>\n"
      ],
      "text/plain": [
       "<IPython.core.display.HTML object>"
      ]
     },
     "metadata": {},
     "output_type": "display_data"
    }
   ],
   "source": [
    "%%html\n",
    "Ref:<a href='https://github.com/ageron/handson-ml3/blob/main/06_decision_trees.ipynb'>https://github.com/ageron/handson-ml3/blob/main/06_decision_trees.ipynb</a>"
   ]
  },
  {
   "cell_type": "code",
   "execution_count": 5,
   "id": "ee0b60be-e539-4689-aea8-e0e2c01ad858",
   "metadata": {},
   "outputs": [
    {
     "data": {
      "text/html": [
       "\n",
       "<h2>Basic understanding of decision trees</h2>\n",
       "It is one of the most powerful ML algorithms used for classification and regression tasks. A tree model is a set of\n",
       "\"if-then-else\" rules that are easy to understand and implement.\n",
       "<br/>\n",
       "<b>One of the main qualities of the decision tree is that it requires very little data preparation. In fact they don't require feature scaling or centering</b>\n",
       "<br/>\n",
       "Let's go through an example\n"
      ],
      "text/plain": [
       "<IPython.core.display.HTML object>"
      ]
     },
     "metadata": {},
     "output_type": "display_data"
    }
   ],
   "source": [
    "%%HTML\n",
    "<h2>Basic understanding of decision trees</h2>\n",
    "It is one of the most powerful ML algorithms used for classification and regression tasks. A tree model is a set of\n",
    "\"if-then-else\" rules that are easy to understand and implement.\n",
    "<br/>\n",
    "<b>One of the main qualities of the decision tree is that it requires very little data preparation. In fact they don't require feature scaling or centering</b>\n",
    "<br/>\n",
    "Let's go through an example"
   ]
  },
  {
   "cell_type": "code",
   "execution_count": 1,
   "id": "9b6a0f18-7686-4455-810f-a3bb445c061a",
   "metadata": {},
   "outputs": [
    {
     "data": {
      "text/html": [
       "<div>\n",
       "<style scoped>\n",
       "    .dataframe tbody tr th:only-of-type {\n",
       "        vertical-align: middle;\n",
       "    }\n",
       "\n",
       "    .dataframe tbody tr th {\n",
       "        vertical-align: top;\n",
       "    }\n",
       "\n",
       "    .dataframe thead th {\n",
       "        text-align: right;\n",
       "    }\n",
       "</style>\n",
       "<table border=\"1\" class=\"dataframe\">\n",
       "  <thead>\n",
       "    <tr style=\"text-align: right;\">\n",
       "      <th></th>\n",
       "      <th>sepal length (cm)</th>\n",
       "      <th>sepal width (cm)</th>\n",
       "      <th>petal length (cm)</th>\n",
       "      <th>petal width (cm)</th>\n",
       "    </tr>\n",
       "  </thead>\n",
       "  <tbody>\n",
       "    <tr>\n",
       "      <th>0</th>\n",
       "      <td>5.1</td>\n",
       "      <td>3.5</td>\n",
       "      <td>1.4</td>\n",
       "      <td>0.2</td>\n",
       "    </tr>\n",
       "    <tr>\n",
       "      <th>1</th>\n",
       "      <td>4.9</td>\n",
       "      <td>3.0</td>\n",
       "      <td>1.4</td>\n",
       "      <td>0.2</td>\n",
       "    </tr>\n",
       "    <tr>\n",
       "      <th>2</th>\n",
       "      <td>4.7</td>\n",
       "      <td>3.2</td>\n",
       "      <td>1.3</td>\n",
       "      <td>0.2</td>\n",
       "    </tr>\n",
       "    <tr>\n",
       "      <th>3</th>\n",
       "      <td>4.6</td>\n",
       "      <td>3.1</td>\n",
       "      <td>1.5</td>\n",
       "      <td>0.2</td>\n",
       "    </tr>\n",
       "    <tr>\n",
       "      <th>4</th>\n",
       "      <td>5.0</td>\n",
       "      <td>3.6</td>\n",
       "      <td>1.4</td>\n",
       "      <td>0.2</td>\n",
       "    </tr>\n",
       "    <tr>\n",
       "      <th>...</th>\n",
       "      <td>...</td>\n",
       "      <td>...</td>\n",
       "      <td>...</td>\n",
       "      <td>...</td>\n",
       "    </tr>\n",
       "    <tr>\n",
       "      <th>145</th>\n",
       "      <td>6.7</td>\n",
       "      <td>3.0</td>\n",
       "      <td>5.2</td>\n",
       "      <td>2.3</td>\n",
       "    </tr>\n",
       "    <tr>\n",
       "      <th>146</th>\n",
       "      <td>6.3</td>\n",
       "      <td>2.5</td>\n",
       "      <td>5.0</td>\n",
       "      <td>1.9</td>\n",
       "    </tr>\n",
       "    <tr>\n",
       "      <th>147</th>\n",
       "      <td>6.5</td>\n",
       "      <td>3.0</td>\n",
       "      <td>5.2</td>\n",
       "      <td>2.0</td>\n",
       "    </tr>\n",
       "    <tr>\n",
       "      <th>148</th>\n",
       "      <td>6.2</td>\n",
       "      <td>3.4</td>\n",
       "      <td>5.4</td>\n",
       "      <td>2.3</td>\n",
       "    </tr>\n",
       "    <tr>\n",
       "      <th>149</th>\n",
       "      <td>5.9</td>\n",
       "      <td>3.0</td>\n",
       "      <td>5.1</td>\n",
       "      <td>1.8</td>\n",
       "    </tr>\n",
       "  </tbody>\n",
       "</table>\n",
       "<p>150 rows × 4 columns</p>\n",
       "</div>"
      ],
      "text/plain": [
       "     sepal length (cm)  sepal width (cm)  petal length (cm)  petal width (cm)\n",
       "0                  5.1               3.5                1.4               0.2\n",
       "1                  4.9               3.0                1.4               0.2\n",
       "2                  4.7               3.2                1.3               0.2\n",
       "3                  4.6               3.1                1.5               0.2\n",
       "4                  5.0               3.6                1.4               0.2\n",
       "..                 ...               ...                ...               ...\n",
       "145                6.7               3.0                5.2               2.3\n",
       "146                6.3               2.5                5.0               1.9\n",
       "147                6.5               3.0                5.2               2.0\n",
       "148                6.2               3.4                5.4               2.3\n",
       "149                5.9               3.0                5.1               1.8\n",
       "\n",
       "[150 rows x 4 columns]"
      ]
     },
     "execution_count": 1,
     "metadata": {},
     "output_type": "execute_result"
    }
   ],
   "source": [
    "from sklearn.datasets import load_iris\n",
    "from sklearn.tree import DecisionTreeClassifier\n",
    "\n",
    "iris = load_iris(as_frame=True)\n",
    "iris.data"
   ]
  },
  {
   "cell_type": "code",
   "execution_count": 2,
   "id": "7573eb7a-89b9-4ea1-b574-51d246891cf2",
   "metadata": {},
   "outputs": [
    {
     "data": {
      "text/html": [
       "<style>#sk-container-id-1 {color: black;}#sk-container-id-1 pre{padding: 0;}#sk-container-id-1 div.sk-toggleable {background-color: white;}#sk-container-id-1 label.sk-toggleable__label {cursor: pointer;display: block;width: 100%;margin-bottom: 0;padding: 0.3em;box-sizing: border-box;text-align: center;}#sk-container-id-1 label.sk-toggleable__label-arrow:before {content: \"▸\";float: left;margin-right: 0.25em;color: #696969;}#sk-container-id-1 label.sk-toggleable__label-arrow:hover:before {color: black;}#sk-container-id-1 div.sk-estimator:hover label.sk-toggleable__label-arrow:before {color: black;}#sk-container-id-1 div.sk-toggleable__content {max-height: 0;max-width: 0;overflow: hidden;text-align: left;background-color: #f0f8ff;}#sk-container-id-1 div.sk-toggleable__content pre {margin: 0.2em;color: black;border-radius: 0.25em;background-color: #f0f8ff;}#sk-container-id-1 input.sk-toggleable__control:checked~div.sk-toggleable__content {max-height: 200px;max-width: 100%;overflow: auto;}#sk-container-id-1 input.sk-toggleable__control:checked~label.sk-toggleable__label-arrow:before {content: \"▾\";}#sk-container-id-1 div.sk-estimator input.sk-toggleable__control:checked~label.sk-toggleable__label {background-color: #d4ebff;}#sk-container-id-1 div.sk-label input.sk-toggleable__control:checked~label.sk-toggleable__label {background-color: #d4ebff;}#sk-container-id-1 input.sk-hidden--visually {border: 0;clip: rect(1px 1px 1px 1px);clip: rect(1px, 1px, 1px, 1px);height: 1px;margin: -1px;overflow: hidden;padding: 0;position: absolute;width: 1px;}#sk-container-id-1 div.sk-estimator {font-family: monospace;background-color: #f0f8ff;border: 1px dotted black;border-radius: 0.25em;box-sizing: border-box;margin-bottom: 0.5em;}#sk-container-id-1 div.sk-estimator:hover {background-color: #d4ebff;}#sk-container-id-1 div.sk-parallel-item::after {content: \"\";width: 100%;border-bottom: 1px solid gray;flex-grow: 1;}#sk-container-id-1 div.sk-label:hover label.sk-toggleable__label {background-color: #d4ebff;}#sk-container-id-1 div.sk-serial::before {content: \"\";position: absolute;border-left: 1px solid gray;box-sizing: border-box;top: 0;bottom: 0;left: 50%;z-index: 0;}#sk-container-id-1 div.sk-serial {display: flex;flex-direction: column;align-items: center;background-color: white;padding-right: 0.2em;padding-left: 0.2em;position: relative;}#sk-container-id-1 div.sk-item {position: relative;z-index: 1;}#sk-container-id-1 div.sk-parallel {display: flex;align-items: stretch;justify-content: center;background-color: white;position: relative;}#sk-container-id-1 div.sk-item::before, #sk-container-id-1 div.sk-parallel-item::before {content: \"\";position: absolute;border-left: 1px solid gray;box-sizing: border-box;top: 0;bottom: 0;left: 50%;z-index: -1;}#sk-container-id-1 div.sk-parallel-item {display: flex;flex-direction: column;z-index: 1;position: relative;background-color: white;}#sk-container-id-1 div.sk-parallel-item:first-child::after {align-self: flex-end;width: 50%;}#sk-container-id-1 div.sk-parallel-item:last-child::after {align-self: flex-start;width: 50%;}#sk-container-id-1 div.sk-parallel-item:only-child::after {width: 0;}#sk-container-id-1 div.sk-dashed-wrapped {border: 1px dashed gray;margin: 0 0.4em 0.5em 0.4em;box-sizing: border-box;padding-bottom: 0.4em;background-color: white;}#sk-container-id-1 div.sk-label label {font-family: monospace;font-weight: bold;display: inline-block;line-height: 1.2em;}#sk-container-id-1 div.sk-label-container {text-align: center;}#sk-container-id-1 div.sk-container {/* jupyter's `normalize.less` sets `[hidden] { display: none; }` but bootstrap.min.css set `[hidden] { display: none !important; }` so we also need the `!important` here to be able to override the default hidden behavior on the sphinx rendered scikit-learn.org. See: https://github.com/scikit-learn/scikit-learn/issues/21755 */display: inline-block !important;position: relative;}#sk-container-id-1 div.sk-text-repr-fallback {display: none;}</style><div id=\"sk-container-id-1\" class=\"sk-top-container\"><div class=\"sk-text-repr-fallback\"><pre>DecisionTreeClassifier(max_depth=2, random_state=42)</pre><b>In a Jupyter environment, please rerun this cell to show the HTML representation or trust the notebook. <br />On GitHub, the HTML representation is unable to render, please try loading this page with nbviewer.org.</b></div><div class=\"sk-container\" hidden><div class=\"sk-item\"><div class=\"sk-estimator sk-toggleable\"><input class=\"sk-toggleable__control sk-hidden--visually\" id=\"sk-estimator-id-1\" type=\"checkbox\" checked><label for=\"sk-estimator-id-1\" class=\"sk-toggleable__label sk-toggleable__label-arrow\">DecisionTreeClassifier</label><div class=\"sk-toggleable__content\"><pre>DecisionTreeClassifier(max_depth=2, random_state=42)</pre></div></div></div></div></div>"
      ],
      "text/plain": [
       "DecisionTreeClassifier(max_depth=2, random_state=42)"
      ]
     },
     "execution_count": 2,
     "metadata": {},
     "output_type": "execute_result"
    }
   ],
   "source": [
    "X = iris.data[['petal length (cm)','petal width (cm)']]\n",
    "y = iris.target\n",
    "tree_clf = DecisionTreeClassifier(max_depth=2, random_state=42)\n",
    "tree_clf.fit(X, y)"
   ]
  },
  {
   "cell_type": "code",
   "execution_count": 3,
   "id": "6f9a964e-ad64-4452-bb98-aa4662673134",
   "metadata": {},
   "outputs": [],
   "source": [
    "from sklearn.tree import export_graphviz\n",
    "\n",
    "export_graphviz(\n",
    "        tree_clf,\n",
    "        out_file=str(\"iris_tree.dot\"),  # path differs in the book\n",
    "        feature_names=[\"petal length (cm)\", \"petal width (cm)\"],\n",
    "        class_names=iris.target_names,\n",
    "        rounded=True,\n",
    "        filled=True\n",
    "    )\n"
   ]
  },
  {
   "cell_type": "code",
   "execution_count": 4,
   "id": "e2e65a04-b135-4d38-84cc-df6ca249ba95",
   "metadata": {},
   "outputs": [
    {
     "data": {
      "image/svg+xml": [
       "<?xml version=\"1.0\" encoding=\"UTF-8\" standalone=\"no\"?>\n",
       "<!DOCTYPE svg PUBLIC \"-//W3C//DTD SVG 1.1//EN\"\n",
       " \"http://www.w3.org/Graphics/SVG/1.1/DTD/svg11.dtd\">\n",
       "<!-- Generated by graphviz version 2.43.0 (0)\n",
       " -->\n",
       "<!-- Title: Tree Pages: 1 -->\n",
       "<svg width=\"412pt\" height=\"314pt\"\n",
       " viewBox=\"0.00 0.00 412.00 314.00\" xmlns=\"http://www.w3.org/2000/svg\" xmlns:xlink=\"http://www.w3.org/1999/xlink\">\n",
       "<g id=\"graph0\" class=\"graph\" transform=\"scale(1 1) rotate(0) translate(4 310)\">\n",
       "<title>Tree</title>\n",
       "<polygon fill=\"white\" stroke=\"transparent\" points=\"-4,4 -4,-310 408,-310 408,4 -4,4\"/>\n",
       "<!-- 0 -->\n",
       "<g id=\"node1\" class=\"node\">\n",
       "<title>0</title>\n",
       "<path fill=\"#ffffff\" stroke=\"black\" d=\"M250,-306C250,-306 74,-306 74,-306 68,-306 62,-300 62,-294 62,-294 62,-235 62,-235 62,-229 68,-223 74,-223 74,-223 250,-223 250,-223 256,-223 262,-229 262,-235 262,-235 262,-294 262,-294 262,-300 256,-306 250,-306\"/>\n",
       "<text text-anchor=\"middle\" x=\"162\" y=\"-290.8\" font-family=\"Helvetica,sans-Serif\" font-size=\"14.00\">petal length (cm) &lt;= 2.45</text>\n",
       "<text text-anchor=\"middle\" x=\"162\" y=\"-275.8\" font-family=\"Helvetica,sans-Serif\" font-size=\"14.00\">gini = 0.667</text>\n",
       "<text text-anchor=\"middle\" x=\"162\" y=\"-260.8\" font-family=\"Helvetica,sans-Serif\" font-size=\"14.00\">samples = 150</text>\n",
       "<text text-anchor=\"middle\" x=\"162\" y=\"-245.8\" font-family=\"Helvetica,sans-Serif\" font-size=\"14.00\">value = [50, 50, 50]</text>\n",
       "<text text-anchor=\"middle\" x=\"162\" y=\"-230.8\" font-family=\"Helvetica,sans-Serif\" font-size=\"14.00\">class = setosa</text>\n",
       "</g>\n",
       "<!-- 1 -->\n",
       "<g id=\"node2\" class=\"node\">\n",
       "<title>1</title>\n",
       "<path fill=\"#e58139\" stroke=\"black\" d=\"M128,-179.5C128,-179.5 12,-179.5 12,-179.5 6,-179.5 0,-173.5 0,-167.5 0,-167.5 0,-123.5 0,-123.5 0,-117.5 6,-111.5 12,-111.5 12,-111.5 128,-111.5 128,-111.5 134,-111.5 140,-117.5 140,-123.5 140,-123.5 140,-167.5 140,-167.5 140,-173.5 134,-179.5 128,-179.5\"/>\n",
       "<text text-anchor=\"middle\" x=\"70\" y=\"-164.3\" font-family=\"Helvetica,sans-Serif\" font-size=\"14.00\">gini = 0.0</text>\n",
       "<text text-anchor=\"middle\" x=\"70\" y=\"-149.3\" font-family=\"Helvetica,sans-Serif\" font-size=\"14.00\">samples = 50</text>\n",
       "<text text-anchor=\"middle\" x=\"70\" y=\"-134.3\" font-family=\"Helvetica,sans-Serif\" font-size=\"14.00\">value = [50, 0, 0]</text>\n",
       "<text text-anchor=\"middle\" x=\"70\" y=\"-119.3\" font-family=\"Helvetica,sans-Serif\" font-size=\"14.00\">class = setosa</text>\n",
       "</g>\n",
       "<!-- 0&#45;&gt;1 -->\n",
       "<g id=\"edge1\" class=\"edge\">\n",
       "<title>0&#45;&gt;1</title>\n",
       "<path fill=\"none\" stroke=\"black\" d=\"M130.08,-222.91C121.14,-211.54 111.42,-199.18 102.45,-187.77\"/>\n",
       "<polygon fill=\"black\" stroke=\"black\" points=\"105.01,-185.36 96.08,-179.67 99.51,-189.69 105.01,-185.36\"/>\n",
       "<text text-anchor=\"middle\" x=\"93.11\" y=\"-200.79\" font-family=\"Helvetica,sans-Serif\" font-size=\"14.00\">True</text>\n",
       "</g>\n",
       "<!-- 2 -->\n",
       "<g id=\"node3\" class=\"node\">\n",
       "<title>2</title>\n",
       "<path fill=\"#ffffff\" stroke=\"black\" d=\"M340,-187C340,-187 170,-187 170,-187 164,-187 158,-181 158,-175 158,-175 158,-116 158,-116 158,-110 164,-104 170,-104 170,-104 340,-104 340,-104 346,-104 352,-110 352,-116 352,-116 352,-175 352,-175 352,-181 346,-187 340,-187\"/>\n",
       "<text text-anchor=\"middle\" x=\"255\" y=\"-171.8\" font-family=\"Helvetica,sans-Serif\" font-size=\"14.00\">petal width (cm) &lt;= 1.75</text>\n",
       "<text text-anchor=\"middle\" x=\"255\" y=\"-156.8\" font-family=\"Helvetica,sans-Serif\" font-size=\"14.00\">gini = 0.5</text>\n",
       "<text text-anchor=\"middle\" x=\"255\" y=\"-141.8\" font-family=\"Helvetica,sans-Serif\" font-size=\"14.00\">samples = 100</text>\n",
       "<text text-anchor=\"middle\" x=\"255\" y=\"-126.8\" font-family=\"Helvetica,sans-Serif\" font-size=\"14.00\">value = [0, 50, 50]</text>\n",
       "<text text-anchor=\"middle\" x=\"255\" y=\"-111.8\" font-family=\"Helvetica,sans-Serif\" font-size=\"14.00\">class = versicolor</text>\n",
       "</g>\n",
       "<!-- 0&#45;&gt;2 -->\n",
       "<g id=\"edge2\" class=\"edge\">\n",
       "<title>0&#45;&gt;2</title>\n",
       "<path fill=\"none\" stroke=\"black\" d=\"M194.27,-222.91C201.41,-213.92 209.04,-204.32 216.41,-195.05\"/>\n",
       "<polygon fill=\"black\" stroke=\"black\" points=\"219.31,-197.03 222.79,-187.02 213.83,-192.67 219.31,-197.03\"/>\n",
       "<text text-anchor=\"middle\" x=\"225.63\" y=\"-208.16\" font-family=\"Helvetica,sans-Serif\" font-size=\"14.00\">False</text>\n",
       "</g>\n",
       "<!-- 3 -->\n",
       "<g id=\"node4\" class=\"node\">\n",
       "<title>3</title>\n",
       "<path fill=\"#4de88e\" stroke=\"black\" d=\"M234,-68C234,-68 118,-68 118,-68 112,-68 106,-62 106,-56 106,-56 106,-12 106,-12 106,-6 112,0 118,0 118,0 234,0 234,0 240,0 246,-6 246,-12 246,-12 246,-56 246,-56 246,-62 240,-68 234,-68\"/>\n",
       "<text text-anchor=\"middle\" x=\"176\" y=\"-52.8\" font-family=\"Helvetica,sans-Serif\" font-size=\"14.00\">gini = 0.168</text>\n",
       "<text text-anchor=\"middle\" x=\"176\" y=\"-37.8\" font-family=\"Helvetica,sans-Serif\" font-size=\"14.00\">samples = 54</text>\n",
       "<text text-anchor=\"middle\" x=\"176\" y=\"-22.8\" font-family=\"Helvetica,sans-Serif\" font-size=\"14.00\">value = [0, 49, 5]</text>\n",
       "<text text-anchor=\"middle\" x=\"176\" y=\"-7.8\" font-family=\"Helvetica,sans-Serif\" font-size=\"14.00\">class = versicolor</text>\n",
       "</g>\n",
       "<!-- 2&#45;&gt;3 -->\n",
       "<g id=\"edge3\" class=\"edge\">\n",
       "<title>2&#45;&gt;3</title>\n",
       "<path fill=\"none\" stroke=\"black\" d=\"M225.58,-103.73C219.2,-94.88 212.44,-85.51 206.03,-76.63\"/>\n",
       "<polygon fill=\"black\" stroke=\"black\" points=\"208.71,-74.36 200.02,-68.3 203.04,-78.46 208.71,-74.36\"/>\n",
       "</g>\n",
       "<!-- 4 -->\n",
       "<g id=\"node5\" class=\"node\">\n",
       "<title>4</title>\n",
       "<path fill=\"#843de6\" stroke=\"black\" d=\"M392,-68C392,-68 276,-68 276,-68 270,-68 264,-62 264,-56 264,-56 264,-12 264,-12 264,-6 270,0 276,0 276,0 392,0 392,0 398,0 404,-6 404,-12 404,-12 404,-56 404,-56 404,-62 398,-68 392,-68\"/>\n",
       "<text text-anchor=\"middle\" x=\"334\" y=\"-52.8\" font-family=\"Helvetica,sans-Serif\" font-size=\"14.00\">gini = 0.043</text>\n",
       "<text text-anchor=\"middle\" x=\"334\" y=\"-37.8\" font-family=\"Helvetica,sans-Serif\" font-size=\"14.00\">samples = 46</text>\n",
       "<text text-anchor=\"middle\" x=\"334\" y=\"-22.8\" font-family=\"Helvetica,sans-Serif\" font-size=\"14.00\">value = [0, 1, 45]</text>\n",
       "<text text-anchor=\"middle\" x=\"334\" y=\"-7.8\" font-family=\"Helvetica,sans-Serif\" font-size=\"14.00\">class = virginica</text>\n",
       "</g>\n",
       "<!-- 2&#45;&gt;4 -->\n",
       "<g id=\"edge4\" class=\"edge\">\n",
       "<title>2&#45;&gt;4</title>\n",
       "<path fill=\"none\" stroke=\"black\" d=\"M284.42,-103.73C290.8,-94.88 297.56,-85.51 303.97,-76.63\"/>\n",
       "<polygon fill=\"black\" stroke=\"black\" points=\"306.96,-78.46 309.98,-68.3 301.29,-74.36 306.96,-78.46\"/>\n",
       "</g>\n",
       "</g>\n",
       "</svg>\n"
      ],
      "text/plain": [
       "<graphviz.sources.Source at 0x7fc04933ac10>"
      ]
     },
     "execution_count": 4,
     "metadata": {},
     "output_type": "execute_result"
    }
   ],
   "source": [
    "from graphviz import Source\n",
    "\n",
    "Source.from_file(\"iris_tree.dot\")  # path differs in the book"
   ]
  },
  {
   "cell_type": "code",
   "execution_count": 15,
   "id": "c8144e6d-9366-4a68-890c-d0cf2706d958",
   "metadata": {},
   "outputs": [
    {
     "data": {
      "text/html": [
       "1) We start with the root node where depth=0: This node asks whether the petal length is smaller than 2.45 cm, \n",
       "<br/>    \n",
       "&ensp;a) If it is yes, it will move down the left child node. \n",
       "In this case, it is a leaf node, so it does not ask any further questions and looks at the predicted class for that node. \n",
       "Here, it is predicted as Iris Setosa.\n",
       "<br/>\n",
       "2) In this case, if the petal length is greater than 2.45cm, then it will move down to its right child node(depth 1, right). \n",
       "<br/>\n",
       "&ensp;a) But in the right child node,it is not a leaf node, but it is a split node where we ask petal width to be smaller than 1.75 cm. \n",
       "<br/>\n",
       "&ensp;b) If it is true it will move to the left child node(depth 2),\n",
       "which is the leaf node. In that node, it is predicted as Iris Versicolor. \n",
       "<br/>\n",
       "&ensp;c) If the petal width is greater than 1.75 cm, it will move the right child node(depth 2) where it's a leaf node and predicted as Iris Virginica.\n",
       "<br/>\n"
      ],
      "text/plain": [
       "<IPython.core.display.HTML object>"
      ]
     },
     "metadata": {},
     "output_type": "display_data"
    }
   ],
   "source": [
    "%%HTML\n",
    "1) We start with the root node where depth=0: This node asks whether the petal length is smaller than 2.45 cm, \n",
    "<br/>    \n",
    "&ensp;a) If it is yes, it will move down the left child node. \n",
    "In this case, it is a leaf node, so it does not ask any further questions and looks at the predicted class for that node. \n",
    "Here, it is predicted as Iris Setosa.\n",
    "<br/>\n",
    "2) In this case, if the petal length is greater than 2.45cm, then it will move down to its right child node(depth 1, right). \n",
    "<br/>\n",
    "&ensp;a) But in the right child node,it is not a leaf node, but it is a split node where we ask petal width to be smaller than 1.75 cm. \n",
    "<br/>\n",
    "&ensp;b) If it is true it will move to the left child node(depth 2),\n",
    "which is the leaf node. In that node, it is predicted as Iris Versicolor. \n",
    "<br/>\n",
    "&ensp;c) If the petal width is greater than 1.75 cm, it will move the right child node(depth 2) where it's a leaf node and predicted as Iris Virginica.\n",
    "<br/>\n"
   ]
  },
  {
   "cell_type": "code",
   "execution_count": 22,
   "id": "a0e544b8-b1e4-4feb-b2c5-13fe5696ee57",
   "metadata": {},
   "outputs": [
    {
     "data": {
      "text/html": [
       "\n",
       "<b>Decision tree uses a concept called purity/imputity to define which feature is important to split first from the rest of the features. It is measured by \n",
       "information gain if it the measurement is based on entropy.</b> \n",
       "<br/>\n",
       "Information gain is calculated by comparing the entropy of the dataset before and after a transformation. The higher the gain lower the entropy.\n",
       "<br/>\n",
       "<h4>Pseudo code for decision tree classification learning</h4>\n",
       "1. Start with root node \n",
       "<br/>\n",
       "2. Calculate the information gain for all possible features and pick the one with the highest information gain. The higher the information gain lower the impurity.\n",
       "<br/>\n",
       "3. Split the dataset according to selected features  and create left & right branches of the tree \n",
       "<br/>  \n",
       "4. Keep repeating the splitting process until the stopping criteria are met.\n",
       "\n",
       "<h4>When to stop splitting</h4>\n",
       "1. When a tree exceeds the maximum depth.\n",
       "    <br/>  \n",
       "2. when a purity score is below a threshold.\n",
       "    <br/>  \n",
       "3. When the number of examples in a node is below the threshold.\n"
      ],
      "text/plain": [
       "<IPython.core.display.HTML object>"
      ]
     },
     "metadata": {},
     "output_type": "display_data"
    }
   ],
   "source": [
    "%%HTML\n",
    "\n",
    "<b>Decision tree uses a concept called purity/impurity to define which feature is important to split first from the rest of the features. It is measured by \n",
    "information gain is the measurement is based on entropy.</b> \n",
    "<br/>\n",
    "Information gain is calculated by comparing the entropy of the dataset before and after a transformation. The higher the gain lower the entropy.\n",
    "<br/>\n",
    "<h4>Pseudo code for decision tree classification learning</h4>\n",
    "1. Start with root node \n",
    "<br/>\n",
    "2. Calculate the information gain for all possible features and pick the one with the highest information gain. The higher the information gain lower the impurity.\n",
    "<br/>\n",
    "3. Split the dataset according to selected features  and create left & right branches of the tree \n",
    "<br/>  \n",
    "4. Keep repeating the splitting process until the stopping criteria are met.\n",
    "\n",
    "<h4>When to stop splitting</h4>\n",
    "1. When a tree exceeds the maximum depth.\n",
    "    <br/>  \n",
    "2. when a purity score is below a threshold.\n",
    "    <br/>  \n",
    "3. When the number of examples in a node is below the threshold."
   ]
  },
  {
   "cell_type": "code",
   "execution_count": 24,
   "id": "8092e423-7594-4ba5-9e0b-c682475e5d9a",
   "metadata": {},
   "outputs": [
    {
     "data": {
      "text/html": [
       "<h3>Regression using Decision Trees</h3>\n"
      ],
      "text/plain": [
       "<IPython.core.display.HTML object>"
      ]
     },
     "metadata": {},
     "output_type": "display_data"
    }
   ],
   "source": [
    "%%html\n",
    "<h3>Regression using Decision Trees</h3>"
   ]
  },
  {
   "cell_type": "code",
   "execution_count": 26,
   "id": "f86956eb-44ab-4ca8-a046-d0c23c185437",
   "metadata": {},
   "outputs": [
    {
     "data": {
      "text/html": [
       "<style>#sk-container-id-2 {color: black;}#sk-container-id-2 pre{padding: 0;}#sk-container-id-2 div.sk-toggleable {background-color: white;}#sk-container-id-2 label.sk-toggleable__label {cursor: pointer;display: block;width: 100%;margin-bottom: 0;padding: 0.3em;box-sizing: border-box;text-align: center;}#sk-container-id-2 label.sk-toggleable__label-arrow:before {content: \"▸\";float: left;margin-right: 0.25em;color: #696969;}#sk-container-id-2 label.sk-toggleable__label-arrow:hover:before {color: black;}#sk-container-id-2 div.sk-estimator:hover label.sk-toggleable__label-arrow:before {color: black;}#sk-container-id-2 div.sk-toggleable__content {max-height: 0;max-width: 0;overflow: hidden;text-align: left;background-color: #f0f8ff;}#sk-container-id-2 div.sk-toggleable__content pre {margin: 0.2em;color: black;border-radius: 0.25em;background-color: #f0f8ff;}#sk-container-id-2 input.sk-toggleable__control:checked~div.sk-toggleable__content {max-height: 200px;max-width: 100%;overflow: auto;}#sk-container-id-2 input.sk-toggleable__control:checked~label.sk-toggleable__label-arrow:before {content: \"▾\";}#sk-container-id-2 div.sk-estimator input.sk-toggleable__control:checked~label.sk-toggleable__label {background-color: #d4ebff;}#sk-container-id-2 div.sk-label input.sk-toggleable__control:checked~label.sk-toggleable__label {background-color: #d4ebff;}#sk-container-id-2 input.sk-hidden--visually {border: 0;clip: rect(1px 1px 1px 1px);clip: rect(1px, 1px, 1px, 1px);height: 1px;margin: -1px;overflow: hidden;padding: 0;position: absolute;width: 1px;}#sk-container-id-2 div.sk-estimator {font-family: monospace;background-color: #f0f8ff;border: 1px dotted black;border-radius: 0.25em;box-sizing: border-box;margin-bottom: 0.5em;}#sk-container-id-2 div.sk-estimator:hover {background-color: #d4ebff;}#sk-container-id-2 div.sk-parallel-item::after {content: \"\";width: 100%;border-bottom: 1px solid gray;flex-grow: 1;}#sk-container-id-2 div.sk-label:hover label.sk-toggleable__label {background-color: #d4ebff;}#sk-container-id-2 div.sk-serial::before {content: \"\";position: absolute;border-left: 1px solid gray;box-sizing: border-box;top: 0;bottom: 0;left: 50%;z-index: 0;}#sk-container-id-2 div.sk-serial {display: flex;flex-direction: column;align-items: center;background-color: white;padding-right: 0.2em;padding-left: 0.2em;position: relative;}#sk-container-id-2 div.sk-item {position: relative;z-index: 1;}#sk-container-id-2 div.sk-parallel {display: flex;align-items: stretch;justify-content: center;background-color: white;position: relative;}#sk-container-id-2 div.sk-item::before, #sk-container-id-2 div.sk-parallel-item::before {content: \"\";position: absolute;border-left: 1px solid gray;box-sizing: border-box;top: 0;bottom: 0;left: 50%;z-index: -1;}#sk-container-id-2 div.sk-parallel-item {display: flex;flex-direction: column;z-index: 1;position: relative;background-color: white;}#sk-container-id-2 div.sk-parallel-item:first-child::after {align-self: flex-end;width: 50%;}#sk-container-id-2 div.sk-parallel-item:last-child::after {align-self: flex-start;width: 50%;}#sk-container-id-2 div.sk-parallel-item:only-child::after {width: 0;}#sk-container-id-2 div.sk-dashed-wrapped {border: 1px dashed gray;margin: 0 0.4em 0.5em 0.4em;box-sizing: border-box;padding-bottom: 0.4em;background-color: white;}#sk-container-id-2 div.sk-label label {font-family: monospace;font-weight: bold;display: inline-block;line-height: 1.2em;}#sk-container-id-2 div.sk-label-container {text-align: center;}#sk-container-id-2 div.sk-container {/* jupyter's `normalize.less` sets `[hidden] { display: none; }` but bootstrap.min.css set `[hidden] { display: none !important; }` so we also need the `!important` here to be able to override the default hidden behavior on the sphinx rendered scikit-learn.org. See: https://github.com/scikit-learn/scikit-learn/issues/21755 */display: inline-block !important;position: relative;}#sk-container-id-2 div.sk-text-repr-fallback {display: none;}</style><div id=\"sk-container-id-2\" class=\"sk-top-container\"><div class=\"sk-text-repr-fallback\"><pre>DecisionTreeRegressor(max_depth=2, random_state=42)</pre><b>In a Jupyter environment, please rerun this cell to show the HTML representation or trust the notebook. <br />On GitHub, the HTML representation is unable to render, please try loading this page with nbviewer.org.</b></div><div class=\"sk-container\" hidden><div class=\"sk-item\"><div class=\"sk-estimator sk-toggleable\"><input class=\"sk-toggleable__control sk-hidden--visually\" id=\"sk-estimator-id-2\" type=\"checkbox\" checked><label for=\"sk-estimator-id-2\" class=\"sk-toggleable__label sk-toggleable__label-arrow\">DecisionTreeRegressor</label><div class=\"sk-toggleable__content\"><pre>DecisionTreeRegressor(max_depth=2, random_state=42)</pre></div></div></div></div></div>"
      ],
      "text/plain": [
       "DecisionTreeRegressor(max_depth=2, random_state=42)"
      ]
     },
     "execution_count": 26,
     "metadata": {},
     "output_type": "execute_result"
    }
   ],
   "source": [
    "from sklearn.tree import DecisionTreeRegressor\n",
    "import numpy as np\n",
    "\n",
    "np.random.seed(42)\n",
    "X_quad = np.random.rand(200, 1) - 0.5  # a single random input feature\n",
    "y_quad = X_quad ** 2 + 0.025 * np.random.randn(200, 1)\n",
    "\n",
    "tree_reg = DecisionTreeRegressor(max_depth=2, random_state=42)\n",
    "tree_reg.fit(X_quad, y_quad)\n"
   ]
  },
  {
   "cell_type": "code",
   "execution_count": 27,
   "id": "c0c7f58e-ea76-44fa-8ba1-aff945826582",
   "metadata": {},
   "outputs": [
    {
     "data": {
      "image/svg+xml": [
       "<?xml version=\"1.0\" encoding=\"UTF-8\" standalone=\"no\"?>\n",
       "<!DOCTYPE svg PUBLIC \"-//W3C//DTD SVG 1.1//EN\"\n",
       " \"http://www.w3.org/Graphics/SVG/1.1/DTD/svg11.dtd\">\n",
       "<!-- Generated by graphviz version 2.43.0 (0)\n",
       " -->\n",
       "<!-- Title: Tree Pages: 1 -->\n",
       "<svg width=\"758pt\" height=\"269pt\"\n",
       " viewBox=\"0.00 0.00 758.00 269.00\" xmlns=\"http://www.w3.org/2000/svg\" xmlns:xlink=\"http://www.w3.org/1999/xlink\">\n",
       "<g id=\"graph0\" class=\"graph\" transform=\"scale(1 1) rotate(0) translate(4 265)\">\n",
       "<title>Tree</title>\n",
       "<polygon fill=\"white\" stroke=\"transparent\" points=\"-4,4 -4,-265 754,-265 754,4 -4,4\"/>\n",
       "<!-- 0 -->\n",
       "<g id=\"node1\" class=\"node\">\n",
       "<title>0</title>\n",
       "<path fill=\"#f6d6be\" stroke=\"black\" d=\"M450,-261C450,-261 300,-261 300,-261 294,-261 288,-255 288,-249 288,-249 288,-205 288,-205 288,-199 294,-193 300,-193 300,-193 450,-193 450,-193 456,-193 462,-199 462,-205 462,-205 462,-249 462,-249 462,-255 456,-261 450,-261\"/>\n",
       "<text text-anchor=\"middle\" x=\"375\" y=\"-245.8\" font-family=\"Helvetica,sans-Serif\" font-size=\"14.00\">x1 &lt;= &#45;0.303</text>\n",
       "<text text-anchor=\"middle\" x=\"375\" y=\"-230.8\" font-family=\"Helvetica,sans-Serif\" font-size=\"14.00\">squared_error = 0.006</text>\n",
       "<text text-anchor=\"middle\" x=\"375\" y=\"-215.8\" font-family=\"Helvetica,sans-Serif\" font-size=\"14.00\">samples = 200</text>\n",
       "<text text-anchor=\"middle\" x=\"375\" y=\"-200.8\" font-family=\"Helvetica,sans-Serif\" font-size=\"14.00\">value = 0.088</text>\n",
       "</g>\n",
       "<!-- 1 -->\n",
       "<g id=\"node2\" class=\"node\">\n",
       "<title>1</title>\n",
       "<path fill=\"#eb9d65\" stroke=\"black\" d=\"M354,-157C354,-157 204,-157 204,-157 198,-157 192,-151 192,-145 192,-145 192,-101 192,-101 192,-95 198,-89 204,-89 204,-89 354,-89 354,-89 360,-89 366,-95 366,-101 366,-101 366,-145 366,-145 366,-151 360,-157 354,-157\"/>\n",
       "<text text-anchor=\"middle\" x=\"279\" y=\"-141.8\" font-family=\"Helvetica,sans-Serif\" font-size=\"14.00\">x1 &lt;= &#45;0.408</text>\n",
       "<text text-anchor=\"middle\" x=\"279\" y=\"-126.8\" font-family=\"Helvetica,sans-Serif\" font-size=\"14.00\">squared_error = 0.002</text>\n",
       "<text text-anchor=\"middle\" x=\"279\" y=\"-111.8\" font-family=\"Helvetica,sans-Serif\" font-size=\"14.00\">samples = 44</text>\n",
       "<text text-anchor=\"middle\" x=\"279\" y=\"-96.8\" font-family=\"Helvetica,sans-Serif\" font-size=\"14.00\">value = 0.172</text>\n",
       "</g>\n",
       "<!-- 0&#45;&gt;1 -->\n",
       "<g id=\"edge1\" class=\"edge\">\n",
       "<title>0&#45;&gt;1</title>\n",
       "<path fill=\"none\" stroke=\"black\" d=\"M343.83,-192.88C335.36,-183.89 326.1,-174.04 317.29,-164.68\"/>\n",
       "<polygon fill=\"black\" stroke=\"black\" points=\"319.74,-162.18 310.34,-157.3 314.65,-166.98 319.74,-162.18\"/>\n",
       "<text text-anchor=\"middle\" x=\"309.58\" y=\"-178.59\" font-family=\"Helvetica,sans-Serif\" font-size=\"14.00\">True</text>\n",
       "</g>\n",
       "<!-- 4 -->\n",
       "<g id=\"node5\" class=\"node\">\n",
       "<title>4</title>\n",
       "<path fill=\"#fae6d7\" stroke=\"black\" d=\"M546,-157C546,-157 396,-157 396,-157 390,-157 384,-151 384,-145 384,-145 384,-101 384,-101 384,-95 390,-89 396,-89 396,-89 546,-89 546,-89 552,-89 558,-95 558,-101 558,-101 558,-145 558,-145 558,-151 552,-157 546,-157\"/>\n",
       "<text text-anchor=\"middle\" x=\"471\" y=\"-141.8\" font-family=\"Helvetica,sans-Serif\" font-size=\"14.00\">x1 &lt;= 0.272</text>\n",
       "<text text-anchor=\"middle\" x=\"471\" y=\"-126.8\" font-family=\"Helvetica,sans-Serif\" font-size=\"14.00\">squared_error = 0.005</text>\n",
       "<text text-anchor=\"middle\" x=\"471\" y=\"-111.8\" font-family=\"Helvetica,sans-Serif\" font-size=\"14.00\">samples = 156</text>\n",
       "<text text-anchor=\"middle\" x=\"471\" y=\"-96.8\" font-family=\"Helvetica,sans-Serif\" font-size=\"14.00\">value = 0.065</text>\n",
       "</g>\n",
       "<!-- 0&#45;&gt;4 -->\n",
       "<g id=\"edge4\" class=\"edge\">\n",
       "<title>0&#45;&gt;4</title>\n",
       "<path fill=\"none\" stroke=\"black\" d=\"M406.17,-192.88C414.64,-183.89 423.9,-174.04 432.71,-164.68\"/>\n",
       "<polygon fill=\"black\" stroke=\"black\" points=\"435.35,-166.98 439.66,-157.3 430.26,-162.18 435.35,-166.98\"/>\n",
       "<text text-anchor=\"middle\" x=\"440.42\" y=\"-178.59\" font-family=\"Helvetica,sans-Serif\" font-size=\"14.00\">False</text>\n",
       "</g>\n",
       "<!-- 2 -->\n",
       "<g id=\"node3\" class=\"node\">\n",
       "<title>2</title>\n",
       "<path fill=\"#e58139\" stroke=\"black\" d=\"M162,-53C162,-53 12,-53 12,-53 6,-53 0,-47 0,-41 0,-41 0,-12 0,-12 0,-6 6,0 12,0 12,0 162,0 162,0 168,0 174,-6 174,-12 174,-12 174,-41 174,-41 174,-47 168,-53 162,-53\"/>\n",
       "<text text-anchor=\"middle\" x=\"87\" y=\"-37.8\" font-family=\"Helvetica,sans-Serif\" font-size=\"14.00\">squared_error = 0.001</text>\n",
       "<text text-anchor=\"middle\" x=\"87\" y=\"-22.8\" font-family=\"Helvetica,sans-Serif\" font-size=\"14.00\">samples = 20</text>\n",
       "<text text-anchor=\"middle\" x=\"87\" y=\"-7.8\" font-family=\"Helvetica,sans-Serif\" font-size=\"14.00\">value = 0.213</text>\n",
       "</g>\n",
       "<!-- 1&#45;&gt;2 -->\n",
       "<g id=\"edge2\" class=\"edge\">\n",
       "<title>1&#45;&gt;2</title>\n",
       "<path fill=\"none\" stroke=\"black\" d=\"M211.85,-88.95C191.12,-78.75 168.42,-67.57 148.13,-57.59\"/>\n",
       "<polygon fill=\"black\" stroke=\"black\" points=\"149.5,-54.36 138.99,-53.09 146.41,-60.64 149.5,-54.36\"/>\n",
       "</g>\n",
       "<!-- 3 -->\n",
       "<g id=\"node4\" class=\"node\">\n",
       "<title>3</title>\n",
       "<path fill=\"#f0b489\" stroke=\"black\" d=\"M354,-53C354,-53 204,-53 204,-53 198,-53 192,-47 192,-41 192,-41 192,-12 192,-12 192,-6 198,0 204,0 204,0 354,0 354,0 360,0 366,-6 366,-12 366,-12 366,-41 366,-41 366,-47 360,-53 354,-53\"/>\n",
       "<text text-anchor=\"middle\" x=\"279\" y=\"-37.8\" font-family=\"Helvetica,sans-Serif\" font-size=\"14.00\">squared_error = 0.001</text>\n",
       "<text text-anchor=\"middle\" x=\"279\" y=\"-22.8\" font-family=\"Helvetica,sans-Serif\" font-size=\"14.00\">samples = 24</text>\n",
       "<text text-anchor=\"middle\" x=\"279\" y=\"-7.8\" font-family=\"Helvetica,sans-Serif\" font-size=\"14.00\">value = 0.138</text>\n",
       "</g>\n",
       "<!-- 1&#45;&gt;3 -->\n",
       "<g id=\"edge3\" class=\"edge\">\n",
       "<title>1&#45;&gt;3</title>\n",
       "<path fill=\"none\" stroke=\"black\" d=\"M279,-88.95C279,-80.72 279,-71.85 279,-63.48\"/>\n",
       "<polygon fill=\"black\" stroke=\"black\" points=\"282.5,-63.24 279,-53.24 275.5,-63.24 282.5,-63.24\"/>\n",
       "</g>\n",
       "<!-- 5 -->\n",
       "<g id=\"node6\" class=\"node\">\n",
       "<title>5</title>\n",
       "<path fill=\"#ffffff\" stroke=\"black\" d=\"M546,-53C546,-53 396,-53 396,-53 390,-53 384,-47 384,-41 384,-41 384,-12 384,-12 384,-6 390,0 396,0 396,0 546,0 546,0 552,0 558,-6 558,-12 558,-12 558,-41 558,-41 558,-47 552,-53 546,-53\"/>\n",
       "<text text-anchor=\"middle\" x=\"471\" y=\"-37.8\" font-family=\"Helvetica,sans-Serif\" font-size=\"14.00\">squared_error = 0.001</text>\n",
       "<text text-anchor=\"middle\" x=\"471\" y=\"-22.8\" font-family=\"Helvetica,sans-Serif\" font-size=\"14.00\">samples = 110</text>\n",
       "<text text-anchor=\"middle\" x=\"471\" y=\"-7.8\" font-family=\"Helvetica,sans-Serif\" font-size=\"14.00\">value = 0.028</text>\n",
       "</g>\n",
       "<!-- 4&#45;&gt;5 -->\n",
       "<g id=\"edge5\" class=\"edge\">\n",
       "<title>4&#45;&gt;5</title>\n",
       "<path fill=\"none\" stroke=\"black\" d=\"M471,-88.95C471,-80.72 471,-71.85 471,-63.48\"/>\n",
       "<polygon fill=\"black\" stroke=\"black\" points=\"474.5,-63.24 471,-53.24 467.5,-63.24 474.5,-63.24\"/>\n",
       "</g>\n",
       "<!-- 6 -->\n",
       "<g id=\"node7\" class=\"node\">\n",
       "<title>6</title>\n",
       "<path fill=\"#edaa79\" stroke=\"black\" d=\"M738,-53C738,-53 588,-53 588,-53 582,-53 576,-47 576,-41 576,-41 576,-12 576,-12 576,-6 582,0 588,0 588,0 738,0 738,0 744,0 750,-6 750,-12 750,-12 750,-41 750,-41 750,-47 744,-53 738,-53\"/>\n",
       "<text text-anchor=\"middle\" x=\"663\" y=\"-37.8\" font-family=\"Helvetica,sans-Serif\" font-size=\"14.00\">squared_error = 0.002</text>\n",
       "<text text-anchor=\"middle\" x=\"663\" y=\"-22.8\" font-family=\"Helvetica,sans-Serif\" font-size=\"14.00\">samples = 46</text>\n",
       "<text text-anchor=\"middle\" x=\"663\" y=\"-7.8\" font-family=\"Helvetica,sans-Serif\" font-size=\"14.00\">value = 0.154</text>\n",
       "</g>\n",
       "<!-- 4&#45;&gt;6 -->\n",
       "<g id=\"edge6\" class=\"edge\">\n",
       "<title>4&#45;&gt;6</title>\n",
       "<path fill=\"none\" stroke=\"black\" d=\"M538.15,-88.95C558.88,-78.75 581.58,-67.57 601.87,-57.59\"/>\n",
       "<polygon fill=\"black\" stroke=\"black\" points=\"603.59,-60.64 611.01,-53.09 600.5,-54.36 603.59,-60.64\"/>\n",
       "</g>\n",
       "</g>\n",
       "</svg>\n"
      ],
      "text/plain": [
       "<graphviz.sources.Source at 0x7fc0459ca8d0>"
      ]
     },
     "execution_count": 27,
     "metadata": {},
     "output_type": "execute_result"
    }
   ],
   "source": [
    "export_graphviz(\n",
    "    tree_reg,\n",
    "    out_file=str(\"regression_tree.dot\"),\n",
    "    feature_names=[\"x1\"],\n",
    "    rounded=True,\n",
    "    filled=True\n",
    ")\n",
    "Source.from_file(\"regression_tree.dot\")"
   ]
  },
  {
   "cell_type": "code",
   "execution_count": 37,
   "id": "d08ac757-1d5d-45c2-87d1-13cc1be4d54f",
   "metadata": {},
   "outputs": [
    {
     "data": {
      "text/html": [
       "\n",
       "It is similar to classification and the main difference is instead of predicting a class in each node, it predicts a value.\n",
       "<br/>\n",
       "Suppose we want to predict for a new instance x1=0.2. The root node asks whether x1<=0.197 since its note algorithm goes to the right child, which asks whether x1<0.772.\n",
       "Since it is, the algorithm goes to the left child node. This is a leaf node and predicts the value=0.111. The prediction is the average of 110 training instances associated\n",
       "with this leaf node.\n",
       "<br/>\n",
       "<br/>\n",
       "<b>Another main difference is calculating the purity/impurity. In regression, they use squared deviation from the mean(squared error)</b>\n",
       "<br/>\n",
       "<h4>Important points</h4>      \n",
       "1. Decision trees tend to overfit and restricting the decision tree's freedom in terms hyper hyperparameters can help avoid overfitting.\n",
       "<br/>\n",
       "2. Generally decision trees have high variance and small changes to hyperparameters or the data may produce different models. Averaging prediction over \n",
       "many trees, it's possible to reduce the variance significantly. We learn about such an ensemble of trees in the coming section.\n",
       "<img src=\"images/dt1.jpg\" width=400 />\n"
      ],
      "text/plain": [
       "<IPython.core.display.HTML object>"
      ]
     },
     "metadata": {},
     "output_type": "display_data"
    }
   ],
   "source": [
    "%%HTML\n",
    "\n",
    "It is similar to classification and the main difference is instead of predicting a class in each node, it predicts a value.\n",
    "<br/>\n",
    "Suppose we want to predict for a new instance x1=0.2. The root node asks whether x1<=0.197 since its note algorithm goes to the right child, which asks whether x1<0.772.\n",
    "Since it is, the algorithm goes to the left child node. This is a leaf node and predicts the value=0.111. The prediction is the average of 110 training instances associated\n",
    "with this leaf node.\n",
    "<br/>\n",
    "<br/>\n",
    "<b>Another main difference is calculating the purity/impurity. In regression, they use squared deviation from the mean(squared error)</b>\n",
    "<br/>\n",
    "<h4>Important points</h4>      \n",
    "1. Decision trees tend to overfit and restricting the decision tree's freedom in terms hyper hyperparameters can help avoid overfitting.\n",
    "<br/>\n",
    "2. Generally decision trees have high variance and small changes to hyperparameters or the data may produce different models. Averaging prediction over \n",
    "many trees, it's possible to reduce the variance significantly. We learn about such an ensemble of trees in the coming section.\n",
    "<img src=\"images/dt1.jpg\" width=400 />"
   ]
  },
  {
   "cell_type": "code",
   "execution_count": 9,
   "id": "211bf6d0-7087-4bf7-990f-4e4b05899cdf",
   "metadata": {},
   "outputs": [
    {
     "data": {
      "text/html": [
       "<h2>Ensemble Learning and Random Forests</h2>\n",
       "Ref:<a href=\"https://github.com/ageron/handson-ml3/blob/main/07_ensemble_learning_and_random_forests.ipynb\">https://github.com/ageron/handson-ml3/blob/main/07_ensemble_learning_and_random_forests.ipynb</a>\n",
       "<br/>\n",
       "\n",
       "If we aggregate the predictions of a group of predictors (classifiers or regressors), you will often get better predictions than the best\n",
       "individual predictors. A group of predictors is called ensembles; thus, this technique is called ensemble learning.\n"
      ],
      "text/plain": [
       "<IPython.core.display.HTML object>"
      ]
     },
     "metadata": {},
     "output_type": "display_data"
    }
   ],
   "source": [
    "%%HTML\n",
    "<h2>Ensemble Learning and Random Forests</h2>\n",
    "Ref:<a href=\"https://github.com/ageron/handson-ml3/blob/main/07_ensemble_learning_and_random_forests.ipynb\">https://github.com/ageron/handson-ml3/blob/main/07_ensemble_learning_and_random_forests.ipynb</a>\n",
    "<br/>\n",
    "\n",
    "If we aggregate the predictions of a group of predictors (classifiers or regressors), you will often get better predictions than the best\n",
    "individual predictors. A group of predictors is called ensembles; thus, this technique is called ensemble learning."
   ]
  },
  {
   "cell_type": "code",
   "execution_count": 8,
   "id": "b5d3fbfc-a721-4870-a38e-fc0eac2fefc4",
   "metadata": {},
   "outputs": [
    {
     "data": {
      "text/html": [
       "<h2>Voting classifier</h2>\n",
       "Suppose we have trained a few classifiers, each achieving 80% accuracy. You may have a logistic regression classifier, an SVM classifier, a random forest classifier, a KNN classifier etc.\n",
       "<img src=\"images/dt2.png\" width=400 />\n",
       "A straightforward way to create an even better classifier is to aggregate the predictions of each classifier: The class that gets the most votes is the\n",
       "    ensemble's prediction. this majority-vote classifier is called a hard-voting classifier.\n",
       "<img src=\"images/dt3.png\" width=400 />\n",
       "<b>The ensemble methods work best when the predictors are as independent as possible. One way to get diverse classifiers is to train them using very different algorithms.</b>\n"
      ],
      "text/plain": [
       "<IPython.core.display.HTML object>"
      ]
     },
     "metadata": {},
     "output_type": "display_data"
    }
   ],
   "source": [
    "%%HTML\n",
    "<h2>Voting classifier</h2>\n",
    "Suppose we have trained a few classifiers, each achieving 80% accuracy. You may have a logistic regression classifier, an SVM classifier, a random forest classifier, a KNN classifier etc.\n",
    "<img src=\"images/dt2.png\" width=400 />\n",
    "A straightforward way to create an even better classifier is to aggregate the predictions of each classifier: The class that gets the most votes is the\n",
    "    ensemble's prediction. this majority-vote classifier is called a hard-voting classifier.\n",
    "<img src=\"images/dt3.png\" width=400 />\n",
    "<b>The ensemble methods work best when the predictors are as independent as possible. One way to get diverse classifiers is to train them using very different algorithms.</b>\n"
   ]
  },
  {
   "cell_type": "code",
   "execution_count": 3,
   "id": "b120cb77-edc3-4c50-8cf6-766d93f6a3e3",
   "metadata": {},
   "outputs": [],
   "source": [
    "import matplotlib.pyplot as plt\n",
    "\n",
    "plt.rc('font', size=14)\n",
    "plt.rc('axes', labelsize=14, titlesize=14)\n",
    "plt.rc('legend', fontsize=14)\n",
    "plt.rc('xtick', labelsize=10)\n",
    "plt.rc('ytick', labelsize=10)"
   ]
  },
  {
   "cell_type": "code",
   "execution_count": 4,
   "id": "9c0df43f-f195-46e3-a5ae-e43ccdf6f686",
   "metadata": {},
   "outputs": [
    {
     "data": {
      "text/plain": [
       "array([[ 1.53869929e+00,  1.88744130e-01],\n",
       "       [ 3.94698536e-01,  3.23723608e-01],\n",
       "       [-9.19146564e-01,  1.31188165e+00],\n",
       "       [ 1.05396355e+00, -7.00407873e-01],\n",
       "       [ 1.04067847e+00, -4.37338701e-01],\n",
       "       [ 1.00933981e-01, -3.03530559e-01],\n",
       "       [ 1.18128413e+00,  7.61136745e-02],\n",
       "       [-1.21046915e-01, -9.08388899e-02],\n",
       "       [-8.87106610e-01,  5.12633178e-01],\n",
       "       [ 9.37451497e-01,  2.34296809e-01],\n",
       "       [ 7.11654204e-01,  1.54701440e-01],\n",
       "       [ 1.25893422e+00, -3.54797752e-01],\n",
       "       [ 3.86380017e-01,  4.15946340e-01],\n",
       "       [ 9.44441260e-01,  5.17911799e-01],\n",
       "       [-7.40742091e-01,  5.36229504e-01],\n",
       "       [ 2.05623856e+00, -2.39382466e-02],\n",
       "       [ 1.85814503e+00,  3.09624394e-01],\n",
       "       [-5.61395675e-01,  6.35114044e-01],\n",
       "       [ 1.19704521e+00,  1.05274369e-01],\n",
       "       [-8.14968012e-01,  2.64231623e-01],\n",
       "       [ 2.15881305e+00,  1.49840044e-01],\n",
       "       [ 1.11201360e+00, -2.15523587e-01],\n",
       "       [ 1.30882068e+00,  7.26225254e-01],\n",
       "       [-7.34115578e-02,  8.02151396e-01],\n",
       "       [-1.31316555e+00,  6.78091746e-01],\n",
       "       [ 1.31164912e+00, -5.51176060e-01],\n",
       "       [-8.58133550e-01,  2.20550515e-01],\n",
       "       [ 1.04111175e+00,  9.67223360e-01],\n",
       "       [ 1.97170320e+00,  2.97790052e-01],\n",
       "       [ 4.02900542e-01,  5.40688712e-01],\n",
       "       [ 1.90191944e+00, -7.88098354e-01],\n",
       "       [-2.36556013e-02,  1.08628844e+00],\n",
       "       [ 7.35952633e-01, -4.44962923e-01],\n",
       "       [ 2.53008665e+00,  6.02133456e-01],\n",
       "       [ 1.77093903e+00,  1.74433997e-01],\n",
       "       [-5.24873410e-01,  1.00008904e+00],\n",
       "       [ 1.27375174e+00, -4.79303361e-01],\n",
       "       [-3.06248147e-01,  3.64257262e-01],\n",
       "       [ 2.54988025e-01, -3.76548892e-01],\n",
       "       [-8.43128465e-01,  3.97869430e-01],\n",
       "       [ 1.59057223e+00,  9.28946221e-03],\n",
       "       [ 1.53618196e+00,  2.21948473e-01],\n",
       "       [ 1.56736404e-01,  1.31817168e+00],\n",
       "       [ 1.18828438e+00,  7.99145965e-01],\n",
       "       [ 2.90737036e-01, -4.35217127e-01],\n",
       "       [ 9.52905753e-01,  8.44005843e-01],\n",
       "       [-1.62238743e+00,  8.34466868e-01],\n",
       "       [ 1.75044030e+00,  1.44641861e-01],\n",
       "       [ 1.82584939e-01,  8.48895326e-01],\n",
       "       [ 2.43829239e+00,  1.48367062e-01],\n",
       "       [-9.48242964e-01,  5.99715840e-01],\n",
       "       [ 5.18230797e-02,  5.30802196e-01],\n",
       "       [-9.64974470e-01,  4.81193749e-01],\n",
       "       [ 7.17679727e-01,  2.80834180e-01],\n",
       "       [ 1.81516221e+00, -2.02170085e-01],\n",
       "       [ 1.47207791e+00, -2.71151964e-01],\n",
       "       [-1.20166076e+00, -1.83916427e-01],\n",
       "       [ 2.47340502e+00, -1.32073074e-01],\n",
       "       [ 9.78505796e-01, -1.05994162e+00],\n",
       "       [ 2.79899835e+00, -6.39112338e-03],\n",
       "       [-1.09355336e+00, -1.47113258e-01],\n",
       "       [ 1.27462287e+00,  1.94647115e-01],\n",
       "       [ 4.66738101e-01,  6.05212669e-01],\n",
       "       [-2.48597411e-01,  7.76490416e-01],\n",
       "       [ 1.71437491e+00,  2.98215037e-02],\n",
       "       [-4.05387547e-01,  5.39911475e-01],\n",
       "       [ 1.79050778e-01,  8.28569351e-01],\n",
       "       [-3.95018323e-01,  8.32744841e-01],\n",
       "       [-5.92226723e-01, -6.99897055e-02],\n",
       "       [ 4.94790758e-01,  9.36359772e-01],\n",
       "       [ 4.20154991e-01, -2.58065072e-01],\n",
       "       [-4.36556097e-02,  3.47358895e-01],\n",
       "       [ 7.84541412e-01, -6.16875654e-02],\n",
       "       [ 1.03912879e+00,  1.50405590e-01],\n",
       "       [ 2.03240025e-02, -6.57926627e-01],\n",
       "       [ 8.45559990e-02,  2.53837860e-01],\n",
       "       [-1.45026364e-01,  7.08757656e-01],\n",
       "       [ 1.09617610e+00,  8.98727851e-01],\n",
       "       [ 2.22926924e+00,  3.70262825e-01],\n",
       "       [ 9.29983069e-01,  6.74097501e-01],\n",
       "       [ 7.32020691e-01, -7.68693626e-01],\n",
       "       [-8.70156456e-03,  2.02969887e-01],\n",
       "       [ 4.32375469e-01, -1.90205453e-01],\n",
       "       [ 3.51034153e-01,  2.84706277e-01],\n",
       "       [-8.09671925e-01,  4.26491726e-01],\n",
       "       [ 1.99836424e+00,  2.60160788e-01],\n",
       "       [ 9.40830424e-01,  1.18142445e-01],\n",
       "       [ 8.35812732e-01, -5.08903882e-01],\n",
       "       [ 1.84956254e+00,  2.43629132e-01],\n",
       "       [ 1.58506742e+00, -4.50210209e-01],\n",
       "       [ 1.37218776e+00,  8.18834257e-02],\n",
       "       [-1.00574418e+00,  9.21947076e-01],\n",
       "       [ 7.69111059e-01, -5.20285586e-01],\n",
       "       [-4.56237689e-02,  2.19888528e-02],\n",
       "       [ 1.00329157e+00, -8.43363338e-01],\n",
       "       [ 1.16626859e+00,  2.13338784e-01],\n",
       "       [ 5.82200723e-01,  3.19959599e-01],\n",
       "       [ 9.47168956e-01, -3.83048924e-01],\n",
       "       [-1.22151383e-01,  9.71000956e-01],\n",
       "       [ 2.47130540e-01,  3.15114587e-01],\n",
       "       [ 3.87520161e-01,  5.31935505e-01],\n",
       "       [ 1.28282373e+00, -8.97416640e-01],\n",
       "       [ 4.20576195e-01, -5.64697873e-01],\n",
       "       [-3.62985763e-01,  1.97916474e-01],\n",
       "       [ 1.90864991e-01,  1.30952481e+00],\n",
       "       [ 1.62787591e+00, -3.07857894e-01],\n",
       "       [-5.47015167e-01,  7.42421951e-01],\n",
       "       [ 2.00968186e-01,  3.66592345e-01],\n",
       "       [ 1.16542367e+00, -1.58629894e-01],\n",
       "       [ 4.70450486e-02,  1.43026566e+00],\n",
       "       [ 1.76582991e+00,  6.79440444e-01],\n",
       "       [-5.97264479e-01,  2.08878893e-01],\n",
       "       [ 8.17113372e-01, -1.27786416e-01],\n",
       "       [ 1.22686504e+00,  2.54432366e-01],\n",
       "       [-4.25417774e-01,  8.20296921e-01],\n",
       "       [-1.03740547e+00,  4.27414971e-01],\n",
       "       [ 2.00443866e+00, -4.45356361e-01],\n",
       "       [ 6.18053301e-01, -9.11785286e-01],\n",
       "       [ 1.02664982e+00, -1.56999382e-02],\n",
       "       [ 6.66423156e-01,  8.71813578e-01],\n",
       "       [ 2.34030310e-01,  2.50655164e-02],\n",
       "       [ 3.55512740e-01,  1.12749583e+00],\n",
       "       [-9.70543017e-01,  6.21054075e-01],\n",
       "       [-1.85553565e-02,  1.30864462e+00],\n",
       "       [ 9.80574816e-01,  6.40486018e-01],\n",
       "       [-3.34276872e-01,  1.01980724e+00],\n",
       "       [ 2.18510627e-01, -1.42457079e-01],\n",
       "       [ 2.17841084e-01,  6.58837194e-01],\n",
       "       [-3.07087513e-01,  1.27930459e+00],\n",
       "       [ 2.00493703e+00, -3.47664858e-01],\n",
       "       [ 4.27803064e-01, -9.49706996e-02],\n",
       "       [ 1.09364509e+00,  4.79272454e-01],\n",
       "       [ 1.63756905e+00,  4.47819110e-01],\n",
       "       [-7.37347663e-01,  2.90746946e-01],\n",
       "       [ 5.72167283e-01, -5.87818960e-01],\n",
       "       [ 1.52693188e+00, -1.99797808e-01],\n",
       "       [ 4.20116471e-01,  7.48839719e-01],\n",
       "       [-5.39117616e-01,  7.45346886e-01],\n",
       "       [ 6.12398431e-01,  2.65568153e-01],\n",
       "       [ 5.63371156e-01,  6.23083015e-01],\n",
       "       [-8.42890258e-01,  7.87523061e-01],\n",
       "       [ 1.32529346e-01, -2.17376163e-02],\n",
       "       [ 1.28731144e+00,  4.80679551e-01],\n",
       "       [ 4.33601547e-01, -9.40469240e-01],\n",
       "       [ 7.68231631e-01, -6.65057388e-01],\n",
       "       [-3.21149196e-01, -1.40023428e-01],\n",
       "       [-1.13313494e+00, -5.86783491e-01],\n",
       "       [ 4.24711922e-01,  1.19605397e+00],\n",
       "       [-8.18524927e-01,  8.93634843e-01],\n",
       "       [ 2.17400276e+00,  1.98064359e-01],\n",
       "       [ 1.34461311e+00, -3.83153460e-01],\n",
       "       [ 1.39788388e-01, -3.17710478e-01],\n",
       "       [ 2.07723520e+00, -9.94194471e-02],\n",
       "       [ 1.35525882e-01,  9.46814678e-01],\n",
       "       [-5.17893847e-01,  8.69860811e-01],\n",
       "       [ 4.71263691e-01,  5.40285159e-01],\n",
       "       [-7.16454567e-01,  8.44354671e-01],\n",
       "       [ 9.96796494e-01,  9.11050207e-01],\n",
       "       [-1.49012497e+00, -8.20350032e-02],\n",
       "       [ 6.05922593e-01, -3.97975225e-01],\n",
       "       [ 1.47512149e+00,  7.04954012e-01],\n",
       "       [-4.27567031e-01, -8.44484091e-02],\n",
       "       [ 3.37137547e-01, -1.06918870e-01],\n",
       "       [ 2.24167277e+00,  4.78774577e-02],\n",
       "       [-3.27220550e-01,  1.63926424e-01],\n",
       "       [-1.41817886e-01,  1.04753175e+00],\n",
       "       [ 2.39259245e-01,  1.00268142e+00],\n",
       "       [ 1.37793380e+00, -6.73602990e-01],\n",
       "       [ 8.26711105e-01,  9.49740216e-01],\n",
       "       [ 7.61917228e-01, -3.57663548e-01],\n",
       "       [ 6.68005561e-01, -4.36210236e-01],\n",
       "       [-1.01700330e+00,  5.50549109e-01],\n",
       "       [ 8.08486195e-01, -7.67051276e-01],\n",
       "       [ 2.57481800e-01, -5.39383846e-01],\n",
       "       [-1.95001613e-02,  1.11556320e+00],\n",
       "       [ 2.02183905e+00,  1.43850482e-01],\n",
       "       [ 7.58845273e-01,  5.61859153e-01],\n",
       "       [-1.22247662e+00,  6.02671766e-01],\n",
       "       [ 1.85320790e+00,  2.70036334e-01],\n",
       "       [-5.60184900e-01,  4.14317507e-01],\n",
       "       [ 1.08164813e+00,  4.28311211e-01],\n",
       "       [-5.93855155e-01,  4.25809263e-01],\n",
       "       [ 2.21081291e+00, -1.87456268e-01],\n",
       "       [ 1.95583776e-01, -1.16579470e-01],\n",
       "       [-1.40195809e+00,  4.19785776e-01],\n",
       "       [-2.84324609e-01,  1.53414905e-01],\n",
       "       [ 1.19605271e-01,  8.31081154e-01],\n",
       "       [ 1.65174474e+00, -4.80648239e-02],\n",
       "       [ 3.42577220e-01, -1.07559161e+00],\n",
       "       [-7.68458149e-01,  8.00261424e-01],\n",
       "       [ 1.53576767e+00, -5.06267009e-01],\n",
       "       [ 2.80805828e-01,  3.18967408e-01],\n",
       "       [-1.08073005e+00,  4.06430127e-03],\n",
       "       [ 1.00570655e+00,  5.98193046e-01],\n",
       "       [ 5.55623466e-01,  1.98502585e-01],\n",
       "       [ 2.04797386e-01,  4.87680968e-01],\n",
       "       [ 4.98868900e-01, -3.95868546e-01],\n",
       "       [ 7.42308460e-01, -4.31621580e-02],\n",
       "       [-4.93621465e-01,  9.60498618e-01],\n",
       "       [ 8.44526441e-01,  6.67107541e-01],\n",
       "       [-8.52369635e-01,  3.63567348e-01],\n",
       "       [ 4.91704872e-01,  1.14754730e+00],\n",
       "       [ 1.68026655e+00, -2.83687635e-01],\n",
       "       [ 1.06529157e+00, -6.81949178e-01],\n",
       "       [ 2.56664520e-01, -3.43103751e-01],\n",
       "       [ 9.32941989e-01, -1.51265895e-02],\n",
       "       [ 1.85352710e+00, -7.16418704e-01],\n",
       "       [ 3.48367318e-01, -7.73061049e-01],\n",
       "       [ 2.32109137e-01,  1.56378251e+00],\n",
       "       [ 1.57016209e+00,  1.69960064e-01],\n",
       "       [ 2.56743410e+00,  8.45530241e-01],\n",
       "       [-1.13344086e+00,  3.50051371e-01],\n",
       "       [ 2.12126228e+00,  4.85220205e-01],\n",
       "       [ 2.52147411e-01,  3.41836854e-01],\n",
       "       [ 7.72633023e-01, -8.51886559e-01],\n",
       "       [-1.23250997e+00,  9.27916869e-01],\n",
       "       [ 1.21060366e+00, -1.24634761e+00],\n",
       "       [ 1.11930290e+00, -6.07656854e-01],\n",
       "       [ 1.21502811e+00,  5.66784271e-01],\n",
       "       [ 1.68008833e-02,  6.88933176e-01],\n",
       "       [-3.14828672e-01,  8.16597563e-01],\n",
       "       [ 1.26017313e+00, -5.89217041e-01],\n",
       "       [ 1.64750152e+00, -3.03493969e-01],\n",
       "       [-2.36150335e-01,  8.46784264e-01],\n",
       "       [ 1.45626034e+00, -5.43769449e-02],\n",
       "       [ 2.60055401e-01, -5.74706495e-01],\n",
       "       [-3.34288307e-01,  2.15865712e-01],\n",
       "       [ 4.80502733e-01,  1.50942444e+00],\n",
       "       [-1.55571986e-01,  6.48785009e-01],\n",
       "       [ 2.32287867e+00,  8.71076592e-01],\n",
       "       [-7.00865433e-01, -7.05956226e-02],\n",
       "       [-1.14067002e+00,  3.67748440e-01],\n",
       "       [ 1.63415533e+00, -2.52351341e-01],\n",
       "       [-4.60651397e-02, -2.66798449e-01],\n",
       "       [ 5.53679994e-01,  9.71774175e-01],\n",
       "       [ 2.20170803e+00, -4.39754157e-01],\n",
       "       [ 1.19442663e+00, -7.28380683e-01],\n",
       "       [ 9.87997149e-01, -1.03094492e+00],\n",
       "       [-3.86243668e-01,  1.17814064e-01],\n",
       "       [ 1.24243613e+00,  4.78342723e-01],\n",
       "       [ 2.27959897e+00, -5.61509423e-02],\n",
       "       [ 3.83524621e-01,  8.25664840e-01],\n",
       "       [-1.07058138e+00, -9.02639925e-02],\n",
       "       [ 1.65833920e+00, -3.76447643e-01],\n",
       "       [ 1.74304711e-01,  5.92384239e-01],\n",
       "       [-7.69640886e-01,  4.23924672e-01],\n",
       "       [ 2.04714036e+00, -1.14919780e-01],\n",
       "       [ 1.63538015e-01,  1.08562240e+00],\n",
       "       [-1.32088035e-01,  2.72172555e-02],\n",
       "       [ 1.10501631e+00, -1.12538622e+00],\n",
       "       [ 1.36033430e+00, -1.26924940e-01],\n",
       "       [ 3.88129719e-01,  1.09946871e-01],\n",
       "       [ 9.13044082e-01,  2.54397863e-01],\n",
       "       [ 2.46530946e-01, -3.11068557e-01],\n",
       "       [ 6.23121786e-01,  8.07122726e-01],\n",
       "       [-2.22923603e-02,  5.08422712e-01],\n",
       "       [ 2.95132064e-01, -2.78792488e-01],\n",
       "       [ 4.53301022e-01,  4.96074925e-01],\n",
       "       [ 2.43361433e-01,  6.93859798e-01],\n",
       "       [ 7.41734367e-01, -7.59879868e-01],\n",
       "       [ 8.86784019e-02,  1.04359771e+00],\n",
       "       [ 1.71864629e+00,  3.25238155e-02],\n",
       "       [ 1.54123944e+00, -5.11050694e-01],\n",
       "       [ 1.07434090e+00,  2.79562067e-01],\n",
       "       [ 1.51752434e+00, -7.79142429e-01],\n",
       "       [ 3.87574934e-01,  1.31376262e+00],\n",
       "       [ 1.55774058e+00,  3.54279514e-02],\n",
       "       [-2.68080704e-01,  4.45531854e-01],\n",
       "       [ 1.34717798e+00, -1.59116031e-01],\n",
       "       [ 4.63179454e-02,  1.41655744e+00],\n",
       "       [ 8.47523614e-01,  6.60042759e-01],\n",
       "       [ 7.74635774e-01, -6.22440653e-01],\n",
       "       [ 8.98213525e-02, -2.23066358e-03],\n",
       "       [ 6.44782950e-01, -2.08983980e-01],\n",
       "       [ 4.25777369e-01, -2.66667273e-01],\n",
       "       [ 6.39768552e-01, -8.39048380e-01],\n",
       "       [-5.61649293e-01,  1.05118960e+00],\n",
       "       [-2.39577834e-01,  7.84291406e-01],\n",
       "       [ 3.26043231e-01, -8.45633689e-03],\n",
       "       [-1.30199977e+00,  6.53187519e-01],\n",
       "       [ 1.70491525e+00, -2.75860786e-01],\n",
       "       [-4.45389489e-01,  3.65734910e-01],\n",
       "       [-4.63234422e-02,  9.35616132e-02],\n",
       "       [-5.54209197e-01,  9.15652870e-01],\n",
       "       [ 9.04911388e-01,  7.67140201e-01],\n",
       "       [ 7.10423148e-01, -5.20759286e-01],\n",
       "       [-9.08623297e-01,  1.59812110e-01],\n",
       "       [-6.95914537e-01,  4.85217743e-01],\n",
       "       [ 2.26083403e-01, -7.35146688e-01],\n",
       "       [ 2.24929422e+00,  4.12823738e-01],\n",
       "       [-1.24643060e-01,  9.89103494e-01],\n",
       "       [ 2.02278725e+00,  3.70359595e-01],\n",
       "       [ 1.26548872e+00,  1.36369921e+00],\n",
       "       [ 1.29149569e+00, -3.36197576e-01],\n",
       "       [ 1.21470822e+00,  4.01097438e-01],\n",
       "       [ 1.18506381e+00,  9.20387143e-01],\n",
       "       [ 1.07846758e+00, -6.39893393e-01],\n",
       "       [ 6.35356620e-01, -3.51281019e-01],\n",
       "       [ 7.07643904e-01,  2.60445002e-01],\n",
       "       [ 1.51036049e+00, -5.31674880e-01],\n",
       "       [-1.40711338e+00,  8.51051810e-01],\n",
       "       [-4.95533490e-01,  2.89638742e-01],\n",
       "       [ 9.22156327e-01,  3.80275694e-01],\n",
       "       [ 9.12988584e-02,  9.49474798e-01],\n",
       "       [ 2.72926826e-01,  5.03834670e-01],\n",
       "       [ 3.29856488e-01,  3.14630248e-01],\n",
       "       [ 2.51430833e+00,  2.34176525e-01],\n",
       "       [ 3.29765085e-01,  5.64050214e-01],\n",
       "       [ 1.27519076e+00, -1.17431158e+00],\n",
       "       [-1.32338788e-01,  1.08219171e+00],\n",
       "       [ 1.21820800e+00,  2.15727178e-01],\n",
       "       [ 1.54062055e-01,  1.17959385e+00],\n",
       "       [-8.50562192e-01,  8.25471394e-01],\n",
       "       [ 1.17564737e-01,  6.24869329e-01],\n",
       "       [ 1.41337279e-01,  3.31462221e-01],\n",
       "       [ 3.66024869e-01, -3.41011904e-01],\n",
       "       [ 8.60746492e-01, -2.47869641e-01],\n",
       "       [ 6.38249038e-01, -9.53307396e-01],\n",
       "       [ 8.41038947e-01,  1.94589699e-01],\n",
       "       [-9.97738228e-01,  7.60088296e-01],\n",
       "       [ 4.07871533e-01, -3.42573838e-01],\n",
       "       [-7.18165328e-01,  1.76594880e+00],\n",
       "       [ 4.18572020e-01,  6.04312317e-01],\n",
       "       [ 1.38472867e-01,  1.13485609e+00],\n",
       "       [ 2.23925193e-01, -4.53479666e-01],\n",
       "       [ 1.26546418e+00, -1.49129836e-01],\n",
       "       [-9.02174035e-01,  4.82353824e-01],\n",
       "       [ 6.21163334e-01,  7.10148558e-01],\n",
       "       [-1.54304150e-01,  1.13134609e+00],\n",
       "       [ 1.05181328e+00, -2.89741699e-01],\n",
       "       [ 3.47519206e-01,  1.46151610e+00],\n",
       "       [ 1.90023548e+00,  6.96249951e-01],\n",
       "       [-5.41334715e-01,  1.09535941e+00],\n",
       "       [ 2.74530128e-01, -1.42660544e-01],\n",
       "       [ 3.88913391e-01,  8.22019976e-01],\n",
       "       [-4.66763460e-01,  1.18115176e+00],\n",
       "       [-1.13927763e+00,  3.90393848e-01],\n",
       "       [ 1.32711038e+00, -7.98253217e-01],\n",
       "       [-1.17892970e+00,  6.10705608e-01],\n",
       "       [ 3.34770561e-01, -5.02763154e-01],\n",
       "       [ 2.10662755e+00,  1.54286292e-01],\n",
       "       [ 2.30801311e+00,  4.67930154e-01],\n",
       "       [ 1.44540168e+00, -4.48312986e-01],\n",
       "       [-7.90513590e-01,  1.08341903e+00],\n",
       "       [-5.04793000e-01,  1.41305691e+00],\n",
       "       [ 1.45025118e+00, -5.04528124e-01],\n",
       "       [-2.29557611e-01,  8.24366628e-01],\n",
       "       [ 8.73264409e-01, -4.75183314e-01],\n",
       "       [ 5.44413316e-01,  1.65076041e+00],\n",
       "       [ 3.83769310e-01, -1.66194429e-01],\n",
       "       [ 1.27911145e+00, -7.88178282e-01],\n",
       "       [ 8.98851828e-01, -6.05412408e-01],\n",
       "       [ 5.83197855e-01, -5.80983314e-01],\n",
       "       [-3.28575718e-01,  7.78008554e-01],\n",
       "       [ 1.77879206e+00, -1.47037158e-01],\n",
       "       [ 8.62610227e-01, -3.02159223e-01],\n",
       "       [-2.56920403e-02,  1.13186802e+00],\n",
       "       [-5.89301101e-01,  4.79412580e-01],\n",
       "       [ 1.15021283e+00, -8.55136146e-02],\n",
       "       [-8.59816542e-01,  1.85851059e-01],\n",
       "       [ 1.72499589e+00,  2.37370621e-01],\n",
       "       [ 2.05310880e+00,  1.00839264e+00],\n",
       "       [-6.57489098e-02,  8.35845778e-01],\n",
       "       [ 7.73400856e-01,  4.81659254e-01],\n",
       "       [ 7.16426229e-01,  3.10907729e-01],\n",
       "       [-7.09936154e-01,  1.63014835e-01],\n",
       "       [-2.66492596e-02,  1.58396005e+00],\n",
       "       [ 1.88323111e+00,  2.22375278e-01],\n",
       "       [-5.65828026e-01,  3.98229243e-01],\n",
       "       [ 9.35868024e-01, -5.24502587e-01],\n",
       "       [ 4.35784764e-01, -1.86108131e-01],\n",
       "       [-5.65614651e-01,  5.63577626e-01],\n",
       "       [-1.20537442e+00,  1.28551662e+00],\n",
       "       [ 5.15726937e-01, -3.47821601e-01],\n",
       "       [ 5.61705076e-01,  3.88662624e-01]])"
      ]
     },
     "execution_count": 4,
     "metadata": {},
     "output_type": "execute_result"
    }
   ],
   "source": [
    "from sklearn.datasets import make_moons\n",
    "from sklearn.ensemble import RandomForestClassifier, VotingClassifier\n",
    "from sklearn.linear_model import LogisticRegression\n",
    "from sklearn.model_selection import train_test_split\n",
    "from sklearn.svm import SVC\n",
    "X, y = make_moons(n_samples=500, noise=0.30, random_state=42)\n",
    "X_train, X_test, y_train, y_test = train_test_split(X, y, random_state=42)\n",
    "\n",
    "X_train"
   ]
  },
  {
   "cell_type": "code",
   "execution_count": 14,
   "id": "57be5d5f-f054-421d-8e00-95212e962aab",
   "metadata": {},
   "outputs": [
    {
     "data": {
      "text/html": [
       "<style>#sk-container-id-1 {color: black;}#sk-container-id-1 pre{padding: 0;}#sk-container-id-1 div.sk-toggleable {background-color: white;}#sk-container-id-1 label.sk-toggleable__label {cursor: pointer;display: block;width: 100%;margin-bottom: 0;padding: 0.3em;box-sizing: border-box;text-align: center;}#sk-container-id-1 label.sk-toggleable__label-arrow:before {content: \"▸\";float: left;margin-right: 0.25em;color: #696969;}#sk-container-id-1 label.sk-toggleable__label-arrow:hover:before {color: black;}#sk-container-id-1 div.sk-estimator:hover label.sk-toggleable__label-arrow:before {color: black;}#sk-container-id-1 div.sk-toggleable__content {max-height: 0;max-width: 0;overflow: hidden;text-align: left;background-color: #f0f8ff;}#sk-container-id-1 div.sk-toggleable__content pre {margin: 0.2em;color: black;border-radius: 0.25em;background-color: #f0f8ff;}#sk-container-id-1 input.sk-toggleable__control:checked~div.sk-toggleable__content {max-height: 200px;max-width: 100%;overflow: auto;}#sk-container-id-1 input.sk-toggleable__control:checked~label.sk-toggleable__label-arrow:before {content: \"▾\";}#sk-container-id-1 div.sk-estimator input.sk-toggleable__control:checked~label.sk-toggleable__label {background-color: #d4ebff;}#sk-container-id-1 div.sk-label input.sk-toggleable__control:checked~label.sk-toggleable__label {background-color: #d4ebff;}#sk-container-id-1 input.sk-hidden--visually {border: 0;clip: rect(1px 1px 1px 1px);clip: rect(1px, 1px, 1px, 1px);height: 1px;margin: -1px;overflow: hidden;padding: 0;position: absolute;width: 1px;}#sk-container-id-1 div.sk-estimator {font-family: monospace;background-color: #f0f8ff;border: 1px dotted black;border-radius: 0.25em;box-sizing: border-box;margin-bottom: 0.5em;}#sk-container-id-1 div.sk-estimator:hover {background-color: #d4ebff;}#sk-container-id-1 div.sk-parallel-item::after {content: \"\";width: 100%;border-bottom: 1px solid gray;flex-grow: 1;}#sk-container-id-1 div.sk-label:hover label.sk-toggleable__label {background-color: #d4ebff;}#sk-container-id-1 div.sk-serial::before {content: \"\";position: absolute;border-left: 1px solid gray;box-sizing: border-box;top: 0;bottom: 0;left: 50%;z-index: 0;}#sk-container-id-1 div.sk-serial {display: flex;flex-direction: column;align-items: center;background-color: white;padding-right: 0.2em;padding-left: 0.2em;position: relative;}#sk-container-id-1 div.sk-item {position: relative;z-index: 1;}#sk-container-id-1 div.sk-parallel {display: flex;align-items: stretch;justify-content: center;background-color: white;position: relative;}#sk-container-id-1 div.sk-item::before, #sk-container-id-1 div.sk-parallel-item::before {content: \"\";position: absolute;border-left: 1px solid gray;box-sizing: border-box;top: 0;bottom: 0;left: 50%;z-index: -1;}#sk-container-id-1 div.sk-parallel-item {display: flex;flex-direction: column;z-index: 1;position: relative;background-color: white;}#sk-container-id-1 div.sk-parallel-item:first-child::after {align-self: flex-end;width: 50%;}#sk-container-id-1 div.sk-parallel-item:last-child::after {align-self: flex-start;width: 50%;}#sk-container-id-1 div.sk-parallel-item:only-child::after {width: 0;}#sk-container-id-1 div.sk-dashed-wrapped {border: 1px dashed gray;margin: 0 0.4em 0.5em 0.4em;box-sizing: border-box;padding-bottom: 0.4em;background-color: white;}#sk-container-id-1 div.sk-label label {font-family: monospace;font-weight: bold;display: inline-block;line-height: 1.2em;}#sk-container-id-1 div.sk-label-container {text-align: center;}#sk-container-id-1 div.sk-container {/* jupyter's `normalize.less` sets `[hidden] { display: none; }` but bootstrap.min.css set `[hidden] { display: none !important; }` so we also need the `!important` here to be able to override the default hidden behavior on the sphinx rendered scikit-learn.org. See: https://github.com/scikit-learn/scikit-learn/issues/21755 */display: inline-block !important;position: relative;}#sk-container-id-1 div.sk-text-repr-fallback {display: none;}</style><div id=\"sk-container-id-1\" class=\"sk-top-container\"><div class=\"sk-text-repr-fallback\"><pre>VotingClassifier(estimators=[(&#x27;lr&#x27;, LogisticRegression(random_state=42)),\n",
       "                             (&#x27;rf&#x27;, RandomForestClassifier(random_state=42)),\n",
       "                             (&#x27;svc&#x27;, SVC(random_state=42))])</pre><b>In a Jupyter environment, please rerun this cell to show the HTML representation or trust the notebook. <br />On GitHub, the HTML representation is unable to render, please try loading this page with nbviewer.org.</b></div><div class=\"sk-container\" hidden><div class=\"sk-item sk-dashed-wrapped\"><div class=\"sk-label-container\"><div class=\"sk-label sk-toggleable\"><input class=\"sk-toggleable__control sk-hidden--visually\" id=\"sk-estimator-id-1\" type=\"checkbox\" ><label for=\"sk-estimator-id-1\" class=\"sk-toggleable__label sk-toggleable__label-arrow\">VotingClassifier</label><div class=\"sk-toggleable__content\"><pre>VotingClassifier(estimators=[(&#x27;lr&#x27;, LogisticRegression(random_state=42)),\n",
       "                             (&#x27;rf&#x27;, RandomForestClassifier(random_state=42)),\n",
       "                             (&#x27;svc&#x27;, SVC(random_state=42))])</pre></div></div></div><div class=\"sk-parallel\"><div class=\"sk-parallel-item\"><div class=\"sk-item\"><div class=\"sk-label-container\"><div class=\"sk-label sk-toggleable\"><label>lr</label></div></div><div class=\"sk-serial\"><div class=\"sk-item\"><div class=\"sk-estimator sk-toggleable\"><input class=\"sk-toggleable__control sk-hidden--visually\" id=\"sk-estimator-id-2\" type=\"checkbox\" ><label for=\"sk-estimator-id-2\" class=\"sk-toggleable__label sk-toggleable__label-arrow\">LogisticRegression</label><div class=\"sk-toggleable__content\"><pre>LogisticRegression(random_state=42)</pre></div></div></div></div></div></div><div class=\"sk-parallel-item\"><div class=\"sk-item\"><div class=\"sk-label-container\"><div class=\"sk-label sk-toggleable\"><label>rf</label></div></div><div class=\"sk-serial\"><div class=\"sk-item\"><div class=\"sk-estimator sk-toggleable\"><input class=\"sk-toggleable__control sk-hidden--visually\" id=\"sk-estimator-id-3\" type=\"checkbox\" ><label for=\"sk-estimator-id-3\" class=\"sk-toggleable__label sk-toggleable__label-arrow\">RandomForestClassifier</label><div class=\"sk-toggleable__content\"><pre>RandomForestClassifier(random_state=42)</pre></div></div></div></div></div></div><div class=\"sk-parallel-item\"><div class=\"sk-item\"><div class=\"sk-label-container\"><div class=\"sk-label sk-toggleable\"><label>svc</label></div></div><div class=\"sk-serial\"><div class=\"sk-item\"><div class=\"sk-estimator sk-toggleable\"><input class=\"sk-toggleable__control sk-hidden--visually\" id=\"sk-estimator-id-4\" type=\"checkbox\" ><label for=\"sk-estimator-id-4\" class=\"sk-toggleable__label sk-toggleable__label-arrow\">SVC</label><div class=\"sk-toggleable__content\"><pre>SVC(random_state=42)</pre></div></div></div></div></div></div></div></div></div></div>"
      ],
      "text/plain": [
       "VotingClassifier(estimators=[('lr', LogisticRegression(random_state=42)),\n",
       "                             ('rf', RandomForestClassifier(random_state=42)),\n",
       "                             ('svc', SVC(random_state=42))])"
      ]
     },
     "execution_count": 14,
     "metadata": {},
     "output_type": "execute_result"
    }
   ],
   "source": [
    "voting_clf = VotingClassifier([\n",
    "    ('lr', LogisticRegression(random_state=42)),\n",
    "    ('rf', RandomForestClassifier(random_state=42)),\n",
    "    ('svc', SVC(random_state=42))\n",
    "])\n",
    "voting_clf.fit(X_train, y_train)"
   ]
  },
  {
   "cell_type": "code",
   "execution_count": 15,
   "id": "d01b4ca8-49ff-4cef-804a-a168940dbb65",
   "metadata": {},
   "outputs": [
    {
     "name": "stdout",
     "output_type": "stream",
     "text": [
      "lr = 0.864\n",
      "rf = 0.896\n",
      "svc = 0.896\n"
     ]
    }
   ],
   "source": [
    "# Let's look at each classifier's accuracy\n",
    "for name, clf in voting_clf.named_estimators_.items():\n",
    "    print(name, \"=\", clf.score(X_test, y_test))\n",
    "    "
   ]
  },
  {
   "cell_type": "code",
   "execution_count": 16,
   "id": "f5895dcd-c137-4d5e-a46c-4ee4b17089be",
   "metadata": {},
   "outputs": [
    {
     "data": {
      "text/plain": [
       "array([1])"
      ]
     },
     "execution_count": 16,
     "metadata": {},
     "output_type": "execute_result"
    }
   ],
   "source": [
    "voting_clf.predict(X_test[:1])"
   ]
  },
  {
   "cell_type": "code",
   "execution_count": 17,
   "id": "575b7a50-2b76-4372-aa4c-0b0c196fb902",
   "metadata": {},
   "outputs": [
    {
     "data": {
      "text/plain": [
       "0.912"
      ]
     },
     "execution_count": 17,
     "metadata": {},
     "output_type": "execute_result"
    }
   ],
   "source": [
    "voting_clf.score(X_test, y_test)"
   ]
  },
  {
   "cell_type": "code",
   "execution_count": 19,
   "id": "abb85036-5519-432b-9237-f33813323765",
   "metadata": {},
   "outputs": [],
   "source": [
    "# ^^Here we go we have voting classifer that is an ensmble outperforms the individial classifier's accuracy."
   ]
  },
  {
   "cell_type": "code",
   "execution_count": 20,
   "id": "a9932ffa-fa15-40fa-86d1-20112b134f54",
   "metadata": {},
   "outputs": [
    {
     "data": {
      "text/html": [
       "If all classifiers can estimate the class probabilities(i.e. if they have the predict_proba method), then we can say the algorithm can predict the class with the highest probability, \n",
       "averaged over all individual classifiers. This is called soft voting.\n"
      ],
      "text/plain": [
       "<IPython.core.display.HTML object>"
      ]
     },
     "metadata": {},
     "output_type": "display_data"
    }
   ],
   "source": [
    "%%HTML\n",
    "If all classifiers can estimate the class probabilities(i.e. if they have the predict_proba method), then we can say the algorithm can predict the class with the highest probability, \n",
    "averaged over all individual classifiers. This often achieves higher performance than hard voting because it gives more weight to highly confident votes.\n",
    "This is called soft voting."
   ]
  },
  {
   "cell_type": "code",
   "execution_count": 22,
   "id": "c7730a83-a476-444f-ba59-37a7c27d53f5",
   "metadata": {},
   "outputs": [
    {
     "data": {
      "text/plain": [
       "0.92"
      ]
     },
     "execution_count": 22,
     "metadata": {},
     "output_type": "execute_result"
    }
   ],
   "source": [
    "voting_clf.voting=\"soft\"\n",
    "voting_clf.named_estimators[\"svc\"].probability = True #  SVC wont estimate the probability br default, so we need to set the probability hyperparameter set to true.\n",
    "voting_clf.fit(X_train, y_train)\n",
    "voting_clf.score(X_test, y_test)"
   ]
  },
  {
   "cell_type": "code",
   "execution_count": 26,
   "id": "d6e2e036-72da-4d2c-9da5-90e3cc8560d0",
   "metadata": {},
   "outputs": [
    {
     "data": {
      "text/html": [
       "<h2>Bagging and Pasting</h2>\n",
       "One approach in ensembling is to use a diverse set of classifiers. \n",
       "Another approach is to use the same training algorithm with a different random subset of training data.\n",
       "When sampling is done with replacement or bootstrapping the data, this method is called <b>bagging</b>.\n",
       "<img src=\"images/dt4.png\" width=400 />\n",
       "When sampling is done without replacement is called <b>pasting</b>. Random forest is an example of a bagging technique.\n"
      ],
      "text/plain": [
       "<IPython.core.display.HTML object>"
      ]
     },
     "metadata": {},
     "output_type": "display_data"
    }
   ],
   "source": [
    "%%HTML\n",
    "<h2>Bagging and Pasting</h2>\n",
    "One approach in ensembling is to use a diverse set of classifiers. \n",
    "Another approach is to use the same training algorithm with a different random subset of training data.\n",
    "When sampling is done with replacement or bootstrapping the data, this method is called <b>bagging</b>.\n",
    "<img src=\"images/dt4.png\" width=400 />\n",
    "When sampling is done without replacement is called <b>pasting</b>. Random forest is an example of a bagging technique."
   ]
  },
  {
   "cell_type": "code",
   "execution_count": 18,
   "id": "63aa435b-d5cb-474d-8163-2fd4632c43d6",
   "metadata": {},
   "outputs": [
    {
     "data": {
      "text/html": [
       "<style>#sk-container-id-1 {color: black;}#sk-container-id-1 pre{padding: 0;}#sk-container-id-1 div.sk-toggleable {background-color: white;}#sk-container-id-1 label.sk-toggleable__label {cursor: pointer;display: block;width: 100%;margin-bottom: 0;padding: 0.3em;box-sizing: border-box;text-align: center;}#sk-container-id-1 label.sk-toggleable__label-arrow:before {content: \"▸\";float: left;margin-right: 0.25em;color: #696969;}#sk-container-id-1 label.sk-toggleable__label-arrow:hover:before {color: black;}#sk-container-id-1 div.sk-estimator:hover label.sk-toggleable__label-arrow:before {color: black;}#sk-container-id-1 div.sk-toggleable__content {max-height: 0;max-width: 0;overflow: hidden;text-align: left;background-color: #f0f8ff;}#sk-container-id-1 div.sk-toggleable__content pre {margin: 0.2em;color: black;border-radius: 0.25em;background-color: #f0f8ff;}#sk-container-id-1 input.sk-toggleable__control:checked~div.sk-toggleable__content {max-height: 200px;max-width: 100%;overflow: auto;}#sk-container-id-1 input.sk-toggleable__control:checked~label.sk-toggleable__label-arrow:before {content: \"▾\";}#sk-container-id-1 div.sk-estimator input.sk-toggleable__control:checked~label.sk-toggleable__label {background-color: #d4ebff;}#sk-container-id-1 div.sk-label input.sk-toggleable__control:checked~label.sk-toggleable__label {background-color: #d4ebff;}#sk-container-id-1 input.sk-hidden--visually {border: 0;clip: rect(1px 1px 1px 1px);clip: rect(1px, 1px, 1px, 1px);height: 1px;margin: -1px;overflow: hidden;padding: 0;position: absolute;width: 1px;}#sk-container-id-1 div.sk-estimator {font-family: monospace;background-color: #f0f8ff;border: 1px dotted black;border-radius: 0.25em;box-sizing: border-box;margin-bottom: 0.5em;}#sk-container-id-1 div.sk-estimator:hover {background-color: #d4ebff;}#sk-container-id-1 div.sk-parallel-item::after {content: \"\";width: 100%;border-bottom: 1px solid gray;flex-grow: 1;}#sk-container-id-1 div.sk-label:hover label.sk-toggleable__label {background-color: #d4ebff;}#sk-container-id-1 div.sk-serial::before {content: \"\";position: absolute;border-left: 1px solid gray;box-sizing: border-box;top: 0;bottom: 0;left: 50%;z-index: 0;}#sk-container-id-1 div.sk-serial {display: flex;flex-direction: column;align-items: center;background-color: white;padding-right: 0.2em;padding-left: 0.2em;position: relative;}#sk-container-id-1 div.sk-item {position: relative;z-index: 1;}#sk-container-id-1 div.sk-parallel {display: flex;align-items: stretch;justify-content: center;background-color: white;position: relative;}#sk-container-id-1 div.sk-item::before, #sk-container-id-1 div.sk-parallel-item::before {content: \"\";position: absolute;border-left: 1px solid gray;box-sizing: border-box;top: 0;bottom: 0;left: 50%;z-index: -1;}#sk-container-id-1 div.sk-parallel-item {display: flex;flex-direction: column;z-index: 1;position: relative;background-color: white;}#sk-container-id-1 div.sk-parallel-item:first-child::after {align-self: flex-end;width: 50%;}#sk-container-id-1 div.sk-parallel-item:last-child::after {align-self: flex-start;width: 50%;}#sk-container-id-1 div.sk-parallel-item:only-child::after {width: 0;}#sk-container-id-1 div.sk-dashed-wrapped {border: 1px dashed gray;margin: 0 0.4em 0.5em 0.4em;box-sizing: border-box;padding-bottom: 0.4em;background-color: white;}#sk-container-id-1 div.sk-label label {font-family: monospace;font-weight: bold;display: inline-block;line-height: 1.2em;}#sk-container-id-1 div.sk-label-container {text-align: center;}#sk-container-id-1 div.sk-container {/* jupyter's `normalize.less` sets `[hidden] { display: none; }` but bootstrap.min.css set `[hidden] { display: none !important; }` so we also need the `!important` here to be able to override the default hidden behavior on the sphinx rendered scikit-learn.org. See: https://github.com/scikit-learn/scikit-learn/issues/21755 */display: inline-block !important;position: relative;}#sk-container-id-1 div.sk-text-repr-fallback {display: none;}</style><div id=\"sk-container-id-1\" class=\"sk-top-container\"><div class=\"sk-text-repr-fallback\"><pre>BaggingClassifier(estimator=DecisionTreeClassifier(), max_samples=100,\n",
       "                  n_estimators=500, n_jobs=-1, random_state=42)</pre><b>In a Jupyter environment, please rerun this cell to show the HTML representation or trust the notebook. <br />On GitHub, the HTML representation is unable to render, please try loading this page with nbviewer.org.</b></div><div class=\"sk-container\" hidden><div class=\"sk-item sk-dashed-wrapped\"><div class=\"sk-label-container\"><div class=\"sk-label sk-toggleable\"><input class=\"sk-toggleable__control sk-hidden--visually\" id=\"sk-estimator-id-1\" type=\"checkbox\" ><label for=\"sk-estimator-id-1\" class=\"sk-toggleable__label sk-toggleable__label-arrow\">BaggingClassifier</label><div class=\"sk-toggleable__content\"><pre>BaggingClassifier(estimator=DecisionTreeClassifier(), max_samples=100,\n",
       "                  n_estimators=500, n_jobs=-1, random_state=42)</pre></div></div></div><div class=\"sk-parallel\"><div class=\"sk-parallel-item\"><div class=\"sk-item\"><div class=\"sk-label-container\"><div class=\"sk-label sk-toggleable\"><input class=\"sk-toggleable__control sk-hidden--visually\" id=\"sk-estimator-id-2\" type=\"checkbox\" ><label for=\"sk-estimator-id-2\" class=\"sk-toggleable__label sk-toggleable__label-arrow\">estimator: DecisionTreeClassifier</label><div class=\"sk-toggleable__content\"><pre>DecisionTreeClassifier()</pre></div></div></div><div class=\"sk-serial\"><div class=\"sk-item\"><div class=\"sk-estimator sk-toggleable\"><input class=\"sk-toggleable__control sk-hidden--visually\" id=\"sk-estimator-id-3\" type=\"checkbox\" ><label for=\"sk-estimator-id-3\" class=\"sk-toggleable__label sk-toggleable__label-arrow\">DecisionTreeClassifier</label><div class=\"sk-toggleable__content\"><pre>DecisionTreeClassifier()</pre></div></div></div></div></div></div></div></div></div></div>"
      ],
      "text/plain": [
       "BaggingClassifier(estimator=DecisionTreeClassifier(), max_samples=100,\n",
       "                  n_estimators=500, n_jobs=-1, random_state=42)"
      ]
     },
     "execution_count": 18,
     "metadata": {},
     "output_type": "execute_result"
    }
   ],
   "source": [
    "# We can use a bagging classifier for pasting, by setting bootstrap=False.\n",
    "\n",
    "from sklearn.ensemble import BaggingClassifier\n",
    "from sklearn.tree import DecisionTreeClassifier\n",
    "\n",
    "bag_clf = BaggingClassifier(DecisionTreeClassifier(), n_estimators=500,\n",
    "                            max_samples=100, n_jobs=-1, random_state=42)# bootstrap=False\n",
    "bag_clf.fit(X_train, y_train)\n",
    "# A bagging classifier automatically performs soft voting instead of hard voting by default \n",
    "# If the base classifier can estimate the class probabilities (i.e. it has predict_proba() method)"
   ]
  },
  {
   "cell_type": "code",
   "execution_count": 30,
   "id": "f8be1493-85b4-470b-a6d3-0a61a76148fc",
   "metadata": {},
   "outputs": [
    {
     "data": {
      "text/html": [
       "<h4>Pseudocode of bagging</h4>\n",
       "\n",
       "1) Given a training set of size m\n",
       "<br/>\n",
       "2) Repeat unit b=B where B is the number of decision trees \n",
       "    <br/>\n",
       "&nbsp a) Create a new training dataset with size of m by sampling with replacement(bootstrapping)\n",
       "<br/>\n",
       "&nbsp b) Train Decision tree on the new training dataset\n",
       "<br/>\n",
       "3) Do the prediction based on a soft vote or hard vote on results from tree esnsembles.\n"
      ],
      "text/plain": [
       "<IPython.core.display.HTML object>"
      ]
     },
     "metadata": {},
     "output_type": "display_data"
    }
   ],
   "source": [
    "%%HTML\n",
    "<h4>Pseudocode of bagging</h4>\n",
    "\n",
    "1) Given a training set of size m\n",
    "<br/>\n",
    "2) Repeat unit b=B where B is the number of decision trees \n",
    "    <br/>\n",
    "&nbsp a) Create a new training dataset with size of m by sampling with replacement(bootstrapping)\n",
    "<br/>\n",
    "&nbsp b) Train Decision tree on the new training dataset\n",
    "<br/>\n",
    "3) Do the prediction based on a soft vote or hard vote on results from tree ensembles.\n"
   ]
  },
  {
   "cell_type": "code",
   "execution_count": 13,
   "id": "1418bbbd-9441-4cec-8aa8-85eb70501e83",
   "metadata": {},
   "outputs": [
    {
     "data": {
      "text/html": [
       "<h3>Random Forests</h3>\n",
       "A random forest is an ensemble of decision trees, generally trained via bagging. Compared to the bagging approach, the random forest resamples the data, as in bagging at the same time, it samples the random subset of features when splitting the trees.\n",
       "<br/>\n",
       "<b>Random forest is good at finding the feature importance.</b>\n"
      ],
      "text/plain": [
       "<IPython.core.display.HTML object>"
      ]
     },
     "metadata": {},
     "output_type": "display_data"
    }
   ],
   "source": [
    "%%HTML\n",
    "<h3>Random Forests</h3>\n",
    "A random forest is an ensemble of decision trees, generally trained via bagging. Compared to the bagging approach, the random forest resamples the data, as in bagging at the same time, it samples the random subset of features when splitting the trees.\n",
    "<br/>\n",
    "<b>Random forest is good at finding the feature importance.</b>"
   ]
  },
  {
   "cell_type": "code",
   "execution_count": 6,
   "id": "4fe63758-f830-4d68-a536-7c75fbce4078",
   "metadata": {},
   "outputs": [
    {
     "data": {
      "text/plain": [
       "array([0, 0, 0, 1, 1, 1, 0, 0, 0, 0, 1, 0, 1, 1, 1, 0, 0, 1, 1, 0, 0, 1,\n",
       "       0, 0, 0, 0, 1, 0, 1, 0, 1, 1, 0, 0, 1, 0, 0, 1, 1, 1, 1, 1, 0, 0,\n",
       "       0, 0, 1, 0, 1, 1, 1, 1, 0, 0, 1, 0, 1, 1, 0, 1, 0, 1, 1, 0, 1, 0,\n",
       "       0, 0, 0, 1, 0, 0, 1, 1, 0, 0, 1, 1, 0, 0, 1, 1, 1, 0, 1, 1, 1, 0,\n",
       "       1, 1, 1, 0, 0, 0, 0, 1, 0, 1, 0, 1, 0, 1, 1, 0, 0, 0, 0, 0, 1, 1,\n",
       "       1, 0, 0, 1, 1, 0, 0, 0, 0, 1, 1, 1, 0, 0, 0])"
      ]
     },
     "execution_count": 6,
     "metadata": {},
     "output_type": "execute_result"
    }
   ],
   "source": [
    "from sklearn.ensemble import RandomForestClassifier\n",
    "rnd_clf = RandomForestClassifier(n_estimators=500, max_leaf_nodes=16, n_jobs=1, random_state=42)\n",
    "rnd_clf.fit(X_train, y_train)\n",
    "y_pred_f = rnd_clf.predict(X_test)\n",
    "y_pred_f"
   ]
  },
  {
   "cell_type": "code",
   "execution_count": 7,
   "id": "828ba2ee-f3bc-4230-98db-f6d4f8991ffe",
   "metadata": {},
   "outputs": [
    {
     "data": {
      "text/plain": [
       "array([[0.53695096, 0.46304904],\n",
       "       [0.76195437, 0.23804563],\n",
       "       [0.69885321, 0.30114679],\n",
       "       [0.02593744, 0.97406256],\n",
       "       [0.05214392, 0.94785608],\n",
       "       [0.13123152, 0.86876848],\n",
       "       [0.97342304, 0.02657696],\n",
       "       [0.96131288, 0.03868712],\n",
       "       [0.89327411, 0.10672589],\n",
       "       [0.9633869 , 0.0366131 ],\n",
       "       [0.0167455 , 0.9832545 ],\n",
       "       [0.9729177 , 0.0270823 ],\n",
       "       [0.08095207, 0.91904793],\n",
       "       [0.14947684, 0.85052316],\n",
       "       [0.02654905, 0.97345095],\n",
       "       [0.95786891, 0.04213109],\n",
       "       [0.95736899, 0.04263101],\n",
       "       [0.04939872, 0.95060128],\n",
       "       [0.10221897, 0.89778103],\n",
       "       [0.9382936 , 0.0617064 ],\n",
       "       [0.96503041, 0.03496959],\n",
       "       [0.13536559, 0.86463441],\n",
       "       [0.51046927, 0.48953073],\n",
       "       [0.9432729 , 0.0567271 ],\n",
       "       [0.90911755, 0.09088245],\n",
       "       [0.81224262, 0.18775738],\n",
       "       [0.07940346, 0.92059654],\n",
       "       [0.96935941, 0.03064059],\n",
       "       [0.04942553, 0.95057447],\n",
       "       [0.94784519, 0.05215481],\n",
       "       [0.04284058, 0.95715942],\n",
       "       [0.0167455 , 0.9832545 ],\n",
       "       [0.86476425, 0.13523575],\n",
       "       [0.9747949 , 0.0252051 ],\n",
       "       [0.03776964, 0.96223036],\n",
       "       [0.86796728, 0.13203272],\n",
       "       [0.97155609, 0.02844391],\n",
       "       [0.0289857 , 0.9710143 ],\n",
       "       [0.02402584, 0.97597416],\n",
       "       [0.02870145, 0.97129855],\n",
       "       [0.41645587, 0.58354413],\n",
       "       [0.08663572, 0.91336428],\n",
       "       [0.70929122, 0.29070878],\n",
       "       [0.81693107, 0.18306893],\n",
       "       [0.92666196, 0.07333804],\n",
       "       [0.84342586, 0.15657414],\n",
       "       [0.27179313, 0.72820687],\n",
       "       [0.56602652, 0.43397348],\n",
       "       [0.03244393, 0.96755607],\n",
       "       [0.48547272, 0.51452728],\n",
       "       [0.15574396, 0.84425604],\n",
       "       [0.01998709, 0.98001291],\n",
       "       [0.96809729, 0.03190271],\n",
       "       [0.9333195 , 0.0666805 ],\n",
       "       [0.28804229, 0.71195771],\n",
       "       [0.97499464, 0.02500536],\n",
       "       [0.19127479, 0.80872521],\n",
       "       [0.02687959, 0.97312041],\n",
       "       [0.94066843, 0.05933157],\n",
       "       [0.02569434, 0.97430566],\n",
       "       [0.9719745 , 0.0280255 ],\n",
       "       [0.17058449, 0.82941551],\n",
       "       [0.05342043, 0.94657957],\n",
       "       [0.96540062, 0.03459938],\n",
       "       [0.02488709, 0.97511291],\n",
       "       [0.95505515, 0.04494485],\n",
       "       [0.91375444, 0.08624556],\n",
       "       [0.80394465, 0.19605535],\n",
       "       [0.96899303, 0.03100697],\n",
       "       [0.09782404, 0.90217596],\n",
       "       [0.56930323, 0.43069677],\n",
       "       [0.96375562, 0.03624438],\n",
       "       [0.26943664, 0.73056336],\n",
       "       [0.36431144, 0.63568856],\n",
       "       [0.96223448, 0.03776552],\n",
       "       [0.97049092, 0.02950908],\n",
       "       [0.01865376, 0.98134624],\n",
       "       [0.03223924, 0.96776076],\n",
       "       [0.97189838, 0.02810162],\n",
       "       [0.91787432, 0.08212568],\n",
       "       [0.02023208, 0.97976792],\n",
       "       [0.20319024, 0.79680976],\n",
       "       [0.1390622 , 0.8609378 ],\n",
       "       [0.90432116, 0.09567884],\n",
       "       [0.04987196, 0.95012804],\n",
       "       [0.18564439, 0.81435561],\n",
       "       [0.43486452, 0.56513548],\n",
       "       [0.95822717, 0.04177283],\n",
       "       [0.09696222, 0.90303778],\n",
       "       [0.02280916, 0.97719084],\n",
       "       [0.0167455 , 0.9832545 ],\n",
       "       [0.98182129, 0.01817871],\n",
       "       [0.96607951, 0.03392049],\n",
       "       [0.97440525, 0.02559475],\n",
       "       [0.93513718, 0.06486282],\n",
       "       [0.02522323, 0.97477677],\n",
       "       [0.97925597, 0.02074403],\n",
       "       [0.49574304, 0.50425696],\n",
       "       [0.76651706, 0.23348294],\n",
       "       [0.01865376, 0.98134624],\n",
       "       [0.98218767, 0.01781233],\n",
       "       [0.0231368 , 0.9768632 ],\n",
       "       [0.04284058, 0.95715942],\n",
       "       [0.9109695 , 0.0890305 ],\n",
       "       [0.94361163, 0.05638837],\n",
       "       [0.96942304, 0.03057696],\n",
       "       [0.90346992, 0.09653008],\n",
       "       [0.77197579, 0.22802421],\n",
       "       [0.41665057, 0.58334943],\n",
       "       [0.03746334, 0.96253666],\n",
       "       [0.33968118, 0.66031882],\n",
       "       [0.82978418, 0.17021582],\n",
       "       [0.95968779, 0.04031221],\n",
       "       [0.20359264, 0.79640736],\n",
       "       [0.47420975, 0.52579025],\n",
       "       [0.96330673, 0.03669327],\n",
       "       [0.95322658, 0.04677342],\n",
       "       [0.97074034, 0.02925966],\n",
       "       [0.84598638, 0.15401362],\n",
       "       [0.15012182, 0.84987818],\n",
       "       [0.03776964, 0.96223036],\n",
       "       [0.02280916, 0.97719084],\n",
       "       [0.80656731, 0.19343269],\n",
       "       [0.91561007, 0.08438993],\n",
       "       [0.80757972, 0.19242028]])"
      ]
     },
     "execution_count": 7,
     "metadata": {},
     "output_type": "execute_result"
    }
   ],
   "source": [
    "y_pred_f = rnd_clf.predict_proba(X_test)\n",
    "y_pred_f"
   ]
  },
  {
   "cell_type": "code",
   "execution_count": 9,
   "id": "7d2aedf4-a8f5-48ab-a4e1-c91a6bf1db03",
   "metadata": {},
   "outputs": [
    {
     "name": "stdout",
     "output_type": "stream",
     "text": [
      "0.11 sepal length (cm)\n",
      "0.02 sepal width (cm)\n",
      "0.44 petal length (cm)\n",
      "0.42 petal width (cm)\n"
     ]
    },
    {
     "data": {
      "image/png": "[encoded data removed]",
      "text/plain": [
       "<Figure size 640x480 with 2 Axes>"
      ]
     },
     "metadata": {},
     "output_type": "display_data"
    }
   ],
   "source": [
    "from sklearn.datasets import load_iris\n",
    "\n",
    "iris = load_iris(as_frame=True)\n",
    "rnd_clf = RandomForestClassifier(n_estimators=500, random_state=42)\n",
    "rnd_clf.fit(iris.data, iris.target)\n",
    "for score, name in zip(rnd_clf.feature_importances_, iris.data.columns):\n",
    "    print(round(score, 2), name)\n",
    "\n",
    "# extra code – this cell generates and saves Figure 7–6\n",
    "from sklearn.datasets import fetch_openml\n",
    "\n",
    "X_mnist, y_mnist = fetch_openml('mnist_784', return_X_y=True, as_frame=False,\n",
    "                                parser='auto')\n",
    "\n",
    "rnd_clf = RandomForestClassifier(n_estimators=100, random_state=42)\n",
    "rnd_clf.fit(X_mnist, y_mnist)\n",
    "\n",
    "heatmap_image = rnd_clf.feature_importances_.reshape(28, 28)\n",
    "plt.imshow(heatmap_image, cmap=\"hot\")\n",
    "cbar = plt.colorbar(ticks=[rnd_clf.feature_importances_.min(),\n",
    "                           rnd_clf.feature_importances_.max()])\n",
    "cbar.ax.set_yticklabels(['Not important', 'Very important'], fontsize=14)\n",
    "plt.axis(\"off\")\n",
    "plt.show()"
   ]
  },
  {
   "cell_type": "code",
   "execution_count": 12,
   "id": "45fb8589-00e1-4820-af35-9f70b3de7de9",
   "metadata": {},
   "outputs": [
    {
     "data": {
      "text/html": [
       "\n",
       "<h4>Pseudocode of Random Forest</h4>\n",
       "1) Get the subsample from the original training dataset.\n",
       "<br/>\n",
       "2) For the first split, take the sample of features/predictors where f<F(total number of features).\n",
       "    <br/>\n",
       "3) Proceed with the next split by repeating step 2 for other nodes until the tress is grown.\n",
       "<br/>\n",
       "4) Repeat steps 1 to 3 by taking another subsample of data and following the other steps until we create the maximum number \n",
       "of trees in the ensemble.\n",
       "<br/>\n",
       "5) Do the prediction based on a soft or hard vote on results from tree ensembles.\n"
      ],
      "text/plain": [
       "<IPython.core.display.HTML object>"
      ]
     },
     "metadata": {},
     "output_type": "display_data"
    }
   ],
   "source": [
    "%%HTML\n",
    "\n",
    "<h4>Pseudocode of Random Forest</h4>\n",
    "1) Get the subsample from the original training dataset.\n",
    "<br/>\n",
    "2) For the first split, take the sample of features/predictor variables where f<F(total number of features).\n",
    "    <br/>\n",
    "3) Proceed with the next split by repeating step 2 for other nodes until the tress is grown.\n",
    "<br/>\n",
    "4) Repeat steps 1 to 3 by taking another subsample of data and following the other steps until we create the maximum number \n",
    "of trees in the ensemble.\n",
    "<br/>\n",
    "5) Do the prediction based on a soft or hard vote on results from tree ensembles."
   ]
  },
  {
   "cell_type": "code",
   "execution_count": 15,
   "id": "d7f36013-f01e-4a54-a34b-b289dbd11310",
   "metadata": {},
   "outputs": [
    {
     "data": {
      "text/html": [
       "<h2>Boosting</h2>\n",
       "Boosting refers to any ensemble method that can combine several weak learners into a strong learner. The general idea of boosting\n",
       "methods is to train predictors sequentially, each trying to correct its predecessor.\n"
      ],
      "text/plain": [
       "<IPython.core.display.HTML object>"
      ]
     },
     "metadata": {},
     "output_type": "display_data"
    }
   ],
   "source": [
    "%%HTML\n",
    "<h2>Boosting</h2>\n",
    "Boosting refers to any ensemble method that can combine several weak learners into a strong learner. The general idea of boosting\n",
    "methods is to train predictors sequentially, each trying to correct its predecessor."
   ]
  },
  {
   "cell_type": "code",
   "execution_count": 17,
   "id": "d46f2f55-24df-4d9b-a88f-1ca4d8f98d01",
   "metadata": {},
   "outputs": [
    {
     "data": {
      "text/html": [
       "<h3>AdaBoost</h3>\n",
       "When training an AdaBoost classifier, the algorithm first trains a base classifier(such as a decision tree) and uses it to predict the training set.\n",
       "The algorithm then increases the relative weight of misclassified training instances. Then it trains a second classifier, using the updated weights of the trainig instances\n",
       "and again make predictions on the training set, update the instance weight & so on.\n",
       "\n",
       "<img src=\"images/ada_boost.jpg\" width=400 />\n"
      ],
      "text/plain": [
       "<IPython.core.display.HTML object>"
      ]
     },
     "metadata": {},
     "output_type": "display_data"
    }
   ],
   "source": [
    "%%HTML\n",
    "<h3>AdaBoost</h3>\n",
    "When training an AdaBoost classifier, the algorithm first trains a base classifier(such as a decision tree) and uses it to predict the training set.\n",
    "The algorithm then increases the relative weight of misclassified training instances. Then it trains a second classifier, using the updated weights of the trainig instances\n",
    "and again make predictions on the training set, update the instance weight & so on.\n",
    "\n",
    "<img src=\"images/ada_boost.jpg\" width=400 />"
   ]
  },
  {
   "cell_type": "code",
   "execution_count": 20,
   "id": "92f8b1b4-50a4-46ff-bd33-1c22fd586db4",
   "metadata": {},
   "outputs": [
    {
     "data": {
      "text/html": [
       "<style>#sk-container-id-2 {color: black;}#sk-container-id-2 pre{padding: 0;}#sk-container-id-2 div.sk-toggleable {background-color: white;}#sk-container-id-2 label.sk-toggleable__label {cursor: pointer;display: block;width: 100%;margin-bottom: 0;padding: 0.3em;box-sizing: border-box;text-align: center;}#sk-container-id-2 label.sk-toggleable__label-arrow:before {content: \"▸\";float: left;margin-right: 0.25em;color: #696969;}#sk-container-id-2 label.sk-toggleable__label-arrow:hover:before {color: black;}#sk-container-id-2 div.sk-estimator:hover label.sk-toggleable__label-arrow:before {color: black;}#sk-container-id-2 div.sk-toggleable__content {max-height: 0;max-width: 0;overflow: hidden;text-align: left;background-color: #f0f8ff;}#sk-container-id-2 div.sk-toggleable__content pre {margin: 0.2em;color: black;border-radius: 0.25em;background-color: #f0f8ff;}#sk-container-id-2 input.sk-toggleable__control:checked~div.sk-toggleable__content {max-height: 200px;max-width: 100%;overflow: auto;}#sk-container-id-2 input.sk-toggleable__control:checked~label.sk-toggleable__label-arrow:before {content: \"▾\";}#sk-container-id-2 div.sk-estimator input.sk-toggleable__control:checked~label.sk-toggleable__label {background-color: #d4ebff;}#sk-container-id-2 div.sk-label input.sk-toggleable__control:checked~label.sk-toggleable__label {background-color: #d4ebff;}#sk-container-id-2 input.sk-hidden--visually {border: 0;clip: rect(1px 1px 1px 1px);clip: rect(1px, 1px, 1px, 1px);height: 1px;margin: -1px;overflow: hidden;padding: 0;position: absolute;width: 1px;}#sk-container-id-2 div.sk-estimator {font-family: monospace;background-color: #f0f8ff;border: 1px dotted black;border-radius: 0.25em;box-sizing: border-box;margin-bottom: 0.5em;}#sk-container-id-2 div.sk-estimator:hover {background-color: #d4ebff;}#sk-container-id-2 div.sk-parallel-item::after {content: \"\";width: 100%;border-bottom: 1px solid gray;flex-grow: 1;}#sk-container-id-2 div.sk-label:hover label.sk-toggleable__label {background-color: #d4ebff;}#sk-container-id-2 div.sk-serial::before {content: \"\";position: absolute;border-left: 1px solid gray;box-sizing: border-box;top: 0;bottom: 0;left: 50%;z-index: 0;}#sk-container-id-2 div.sk-serial {display: flex;flex-direction: column;align-items: center;background-color: white;padding-right: 0.2em;padding-left: 0.2em;position: relative;}#sk-container-id-2 div.sk-item {position: relative;z-index: 1;}#sk-container-id-2 div.sk-parallel {display: flex;align-items: stretch;justify-content: center;background-color: white;position: relative;}#sk-container-id-2 div.sk-item::before, #sk-container-id-2 div.sk-parallel-item::before {content: \"\";position: absolute;border-left: 1px solid gray;box-sizing: border-box;top: 0;bottom: 0;left: 50%;z-index: -1;}#sk-container-id-2 div.sk-parallel-item {display: flex;flex-direction: column;z-index: 1;position: relative;background-color: white;}#sk-container-id-2 div.sk-parallel-item:first-child::after {align-self: flex-end;width: 50%;}#sk-container-id-2 div.sk-parallel-item:last-child::after {align-self: flex-start;width: 50%;}#sk-container-id-2 div.sk-parallel-item:only-child::after {width: 0;}#sk-container-id-2 div.sk-dashed-wrapped {border: 1px dashed gray;margin: 0 0.4em 0.5em 0.4em;box-sizing: border-box;padding-bottom: 0.4em;background-color: white;}#sk-container-id-2 div.sk-label label {font-family: monospace;font-weight: bold;display: inline-block;line-height: 1.2em;}#sk-container-id-2 div.sk-label-container {text-align: center;}#sk-container-id-2 div.sk-container {/* jupyter's `normalize.less` sets `[hidden] { display: none; }` but bootstrap.min.css set `[hidden] { display: none !important; }` so we also need the `!important` here to be able to override the default hidden behavior on the sphinx rendered scikit-learn.org. See: https://github.com/scikit-learn/scikit-learn/issues/21755 */display: inline-block !important;position: relative;}#sk-container-id-2 div.sk-text-repr-fallback {display: none;}</style><div id=\"sk-container-id-2\" class=\"sk-top-container\"><div class=\"sk-text-repr-fallback\"><pre>AdaBoostClassifier(estimator=DecisionTreeClassifier(max_depth=1),\n",
       "                   learning_rate=0.5, n_estimators=30, random_state=42)</pre><b>In a Jupyter environment, please rerun this cell to show the HTML representation or trust the notebook. <br />On GitHub, the HTML representation is unable to render, please try loading this page with nbviewer.org.</b></div><div class=\"sk-container\" hidden><div class=\"sk-item sk-dashed-wrapped\"><div class=\"sk-label-container\"><div class=\"sk-label sk-toggleable\"><input class=\"sk-toggleable__control sk-hidden--visually\" id=\"sk-estimator-id-4\" type=\"checkbox\" ><label for=\"sk-estimator-id-4\" class=\"sk-toggleable__label sk-toggleable__label-arrow\">AdaBoostClassifier</label><div class=\"sk-toggleable__content\"><pre>AdaBoostClassifier(estimator=DecisionTreeClassifier(max_depth=1),\n",
       "                   learning_rate=0.5, n_estimators=30, random_state=42)</pre></div></div></div><div class=\"sk-parallel\"><div class=\"sk-parallel-item\"><div class=\"sk-item\"><div class=\"sk-label-container\"><div class=\"sk-label sk-toggleable\"><input class=\"sk-toggleable__control sk-hidden--visually\" id=\"sk-estimator-id-5\" type=\"checkbox\" ><label for=\"sk-estimator-id-5\" class=\"sk-toggleable__label sk-toggleable__label-arrow\">estimator: DecisionTreeClassifier</label><div class=\"sk-toggleable__content\"><pre>DecisionTreeClassifier(max_depth=1)</pre></div></div></div><div class=\"sk-serial\"><div class=\"sk-item\"><div class=\"sk-estimator sk-toggleable\"><input class=\"sk-toggleable__control sk-hidden--visually\" id=\"sk-estimator-id-6\" type=\"checkbox\" ><label for=\"sk-estimator-id-6\" class=\"sk-toggleable__label sk-toggleable__label-arrow\">DecisionTreeClassifier</label><div class=\"sk-toggleable__content\"><pre>DecisionTreeClassifier(max_depth=1)</pre></div></div></div></div></div></div></div></div></div></div>"
      ],
      "text/plain": [
       "AdaBoostClassifier(estimator=DecisionTreeClassifier(max_depth=1),\n",
       "                   learning_rate=0.5, n_estimators=30, random_state=42)"
      ]
     },
     "execution_count": 20,
     "metadata": {},
     "output_type": "execute_result"
    }
   ],
   "source": [
    "from sklearn.ensemble import AdaBoostClassifier\n",
    "ad_clf = AdaBoostClassifier(DecisionTreeClassifier(max_depth=1),n_estimators=30, learning_rate=0.5, random_state=42)\n",
    "ad_clf.fit(X_train, y_train)"
   ]
  },
  {
   "cell_type": "code",
   "execution_count": 22,
   "id": "554f5f32-5db4-40ec-b788-9aad12e03146",
   "metadata": {},
   "outputs": [
    {
     "data": {
      "text/html": [
       "<h3>Gradient Boosting</h3>\n",
       "Just like AdaBoost, gradient boosting works by sequentially adding predictors/algorithms to an ensemble, each one correcting its predecessor.\n",
       "However, instead of tweaking the instance weights at every iteration as AdaBoost does, this method tries to fit the new predators with residual error \n",
       "made by the previous predictor.\n"
      ],
      "text/plain": [
       "<IPython.core.display.HTML object>"
      ]
     },
     "metadata": {},
     "output_type": "display_data"
    }
   ],
   "source": [
    "%%HTML\n",
    "<h3>Gradient Boosting</h3>\n",
    "Just like AdaBoost, gradient boosting works by sequentially adding predictors/algorithms to an ensemble, each one correcting its predecessor.\n",
    "However, instead of tweaking the instance weights at every iteration as AdaBoost does, this method tries to fit the new predators with residual error \n",
    "made by the previous predictor."
   ]
  },
  {
   "cell_type": "code",
   "execution_count": 29,
   "id": "6f1d91e8-2645-44d6-9edd-04478b3d11aa",
   "metadata": {},
   "outputs": [
    {
     "data": {
      "text/html": [
       "<style>#sk-container-id-4 {color: black;}#sk-container-id-4 pre{padding: 0;}#sk-container-id-4 div.sk-toggleable {background-color: white;}#sk-container-id-4 label.sk-toggleable__label {cursor: pointer;display: block;width: 100%;margin-bottom: 0;padding: 0.3em;box-sizing: border-box;text-align: center;}#sk-container-id-4 label.sk-toggleable__label-arrow:before {content: \"▸\";float: left;margin-right: 0.25em;color: #696969;}#sk-container-id-4 label.sk-toggleable__label-arrow:hover:before {color: black;}#sk-container-id-4 div.sk-estimator:hover label.sk-toggleable__label-arrow:before {color: black;}#sk-container-id-4 div.sk-toggleable__content {max-height: 0;max-width: 0;overflow: hidden;text-align: left;background-color: #f0f8ff;}#sk-container-id-4 div.sk-toggleable__content pre {margin: 0.2em;color: black;border-radius: 0.25em;background-color: #f0f8ff;}#sk-container-id-4 input.sk-toggleable__control:checked~div.sk-toggleable__content {max-height: 200px;max-width: 100%;overflow: auto;}#sk-container-id-4 input.sk-toggleable__control:checked~label.sk-toggleable__label-arrow:before {content: \"▾\";}#sk-container-id-4 div.sk-estimator input.sk-toggleable__control:checked~label.sk-toggleable__label {background-color: #d4ebff;}#sk-container-id-4 div.sk-label input.sk-toggleable__control:checked~label.sk-toggleable__label {background-color: #d4ebff;}#sk-container-id-4 input.sk-hidden--visually {border: 0;clip: rect(1px 1px 1px 1px);clip: rect(1px, 1px, 1px, 1px);height: 1px;margin: -1px;overflow: hidden;padding: 0;position: absolute;width: 1px;}#sk-container-id-4 div.sk-estimator {font-family: monospace;background-color: #f0f8ff;border: 1px dotted black;border-radius: 0.25em;box-sizing: border-box;margin-bottom: 0.5em;}#sk-container-id-4 div.sk-estimator:hover {background-color: #d4ebff;}#sk-container-id-4 div.sk-parallel-item::after {content: \"\";width: 100%;border-bottom: 1px solid gray;flex-grow: 1;}#sk-container-id-4 div.sk-label:hover label.sk-toggleable__label {background-color: #d4ebff;}#sk-container-id-4 div.sk-serial::before {content: \"\";position: absolute;border-left: 1px solid gray;box-sizing: border-box;top: 0;bottom: 0;left: 50%;z-index: 0;}#sk-container-id-4 div.sk-serial {display: flex;flex-direction: column;align-items: center;background-color: white;padding-right: 0.2em;padding-left: 0.2em;position: relative;}#sk-container-id-4 div.sk-item {position: relative;z-index: 1;}#sk-container-id-4 div.sk-parallel {display: flex;align-items: stretch;justify-content: center;background-color: white;position: relative;}#sk-container-id-4 div.sk-item::before, #sk-container-id-4 div.sk-parallel-item::before {content: \"\";position: absolute;border-left: 1px solid gray;box-sizing: border-box;top: 0;bottom: 0;left: 50%;z-index: -1;}#sk-container-id-4 div.sk-parallel-item {display: flex;flex-direction: column;z-index: 1;position: relative;background-color: white;}#sk-container-id-4 div.sk-parallel-item:first-child::after {align-self: flex-end;width: 50%;}#sk-container-id-4 div.sk-parallel-item:last-child::after {align-self: flex-start;width: 50%;}#sk-container-id-4 div.sk-parallel-item:only-child::after {width: 0;}#sk-container-id-4 div.sk-dashed-wrapped {border: 1px dashed gray;margin: 0 0.4em 0.5em 0.4em;box-sizing: border-box;padding-bottom: 0.4em;background-color: white;}#sk-container-id-4 div.sk-label label {font-family: monospace;font-weight: bold;display: inline-block;line-height: 1.2em;}#sk-container-id-4 div.sk-label-container {text-align: center;}#sk-container-id-4 div.sk-container {/* jupyter's `normalize.less` sets `[hidden] { display: none; }` but bootstrap.min.css set `[hidden] { display: none !important; }` so we also need the `!important` here to be able to override the default hidden behavior on the sphinx rendered scikit-learn.org. See: https://github.com/scikit-learn/scikit-learn/issues/21755 */display: inline-block !important;position: relative;}#sk-container-id-4 div.sk-text-repr-fallback {display: none;}</style><div id=\"sk-container-id-4\" class=\"sk-top-container\"><div class=\"sk-text-repr-fallback\"><pre>DecisionTreeRegressor(max_depth=2, random_state=42)</pre><b>In a Jupyter environment, please rerun this cell to show the HTML representation or trust the notebook. <br />On GitHub, the HTML representation is unable to render, please try loading this page with nbviewer.org.</b></div><div class=\"sk-container\" hidden><div class=\"sk-item\"><div class=\"sk-estimator sk-toggleable\"><input class=\"sk-toggleable__control sk-hidden--visually\" id=\"sk-estimator-id-8\" type=\"checkbox\" checked><label for=\"sk-estimator-id-8\" class=\"sk-toggleable__label sk-toggleable__label-arrow\">DecisionTreeRegressor</label><div class=\"sk-toggleable__content\"><pre>DecisionTreeRegressor(max_depth=2, random_state=42)</pre></div></div></div></div></div>"
      ],
      "text/plain": [
       "DecisionTreeRegressor(max_depth=2, random_state=42)"
      ]
     },
     "execution_count": 29,
     "metadata": {},
     "output_type": "execute_result"
    }
   ],
   "source": [
    "# Consider this example and let's fit the base learner.\n",
    "\n",
    "import numpy as np\n",
    "from sklearn.tree import DecisionTreeRegressor\n",
    "\n",
    "np.random.seed(42)\n",
    "X = np.random.rand(100, 1) - 0.5\n",
    "y = 3 * X[:, 0] ** 2 + 0.05 * np.random.randn(100)  # y = 3x² + Gaussian noise\n",
    "\n",
    "tree_reg1 = DecisionTreeRegressor(max_depth=2, random_state=42)\n",
    "tree_reg1.fit(X, y)"
   ]
  },
  {
   "cell_type": "code",
   "execution_count": 30,
   "id": "fa167db6-81a1-447f-9efb-108400c8703b",
   "metadata": {},
   "outputs": [
    {
     "data": {
      "text/plain": [
       "array([ 5.15728987e-02,  5.94479790e-01,  1.66051606e-01, -7.01779562e-02,\n",
       "        3.43985933e-01,  3.72874939e-01,  6.59764984e-01,  3.76341398e-01,\n",
       "       -9.75194335e-03,  1.04794741e-01,  7.35287787e-01,  6.78883363e-01,\n",
       "        3.05066318e-01,  2.73909733e-01,  3.08559932e-01,  3.49130363e-01,\n",
       "        7.98606436e-02, -1.45444646e-02, -5.71096619e-03,  5.75800683e-02,\n",
       "        5.23392240e-02,  4.02946793e-01,  1.29867214e-01,  4.18481141e-02,\n",
       "       -6.49789982e-02,  2.22943721e-01,  2.53451786e-01, -3.95060058e-02,\n",
       "        1.75570720e-02,  6.37324227e-01,  1.29006981e-01,  3.34391950e-01,\n",
       "        5.80417870e-01,  6.00772381e-01,  5.54501010e-01,  2.84001079e-01,\n",
       "        1.17538848e-01,  6.08765289e-01,  9.22073759e-02,  2.58225391e-02,\n",
       "        4.26829699e-01, -5.83641153e-02,  7.07523289e-01,  5.40226226e-01,\n",
       "        2.14112889e-01,  3.37711060e-02,  1.76497872e-01, -6.88843767e-02,\n",
       "        3.58884053e-02,  4.07472924e-01,  6.12002352e-01,  1.98779325e-01,\n",
       "        5.84460527e-01,  4.42492127e-01, -4.87799540e-02,  5.37361759e-01,\n",
       "        4.54900077e-01,  3.00958881e-01,  5.74483445e-01,  1.69025200e-01,\n",
       "       -1.98442712e-03,  1.40740720e-01,  3.64880911e-01,  1.56124184e-05,\n",
       "        1.55342064e-01,  7.08260043e-02,  3.06432075e-01,  2.83200738e-01,\n",
       "        5.56015604e-01,  7.50267811e-01,  1.60504108e-01,  2.06293891e-01,\n",
       "        7.59622208e-01,  3.13396972e-01,  1.40894525e-01,  1.74655260e-01,\n",
       "        1.86761567e-01,  5.55926561e-01,  7.47494737e-02,  4.06952167e-01,\n",
       "        4.88821019e-01,  6.92989303e-02,  2.62212591e-02,  6.04271621e-01,\n",
       "        5.84489646e-02,  1.31036843e-01,  2.16086770e-01,  1.57320579e-02,\n",
       "        4.97969931e-01,  2.29550775e-02,  4.75228621e-01,  2.31259667e-01,\n",
       "        1.91757119e-01, -2.64221234e-02,  1.75793916e-01, -4.06750304e-02,\n",
       "       -2.30474088e-03,  3.28085108e-02,  6.89515556e-01,  5.02606562e-01])"
      ]
     },
     "execution_count": 30,
     "metadata": {},
     "output_type": "execute_result"
    }
   ],
   "source": [
    "y"
   ]
  },
  {
   "cell_type": "code",
   "execution_count": 34,
   "id": "53144e64-6dd7-4552-9e8b-7526d93e6443",
   "metadata": {},
   "outputs": [
    {
     "data": {
      "text/html": [
       "<style>#sk-container-id-6 {color: black;}#sk-container-id-6 pre{padding: 0;}#sk-container-id-6 div.sk-toggleable {background-color: white;}#sk-container-id-6 label.sk-toggleable__label {cursor: pointer;display: block;width: 100%;margin-bottom: 0;padding: 0.3em;box-sizing: border-box;text-align: center;}#sk-container-id-6 label.sk-toggleable__label-arrow:before {content: \"▸\";float: left;margin-right: 0.25em;color: #696969;}#sk-container-id-6 label.sk-toggleable__label-arrow:hover:before {color: black;}#sk-container-id-6 div.sk-estimator:hover label.sk-toggleable__label-arrow:before {color: black;}#sk-container-id-6 div.sk-toggleable__content {max-height: 0;max-width: 0;overflow: hidden;text-align: left;background-color: #f0f8ff;}#sk-container-id-6 div.sk-toggleable__content pre {margin: 0.2em;color: black;border-radius: 0.25em;background-color: #f0f8ff;}#sk-container-id-6 input.sk-toggleable__control:checked~div.sk-toggleable__content {max-height: 200px;max-width: 100%;overflow: auto;}#sk-container-id-6 input.sk-toggleable__control:checked~label.sk-toggleable__label-arrow:before {content: \"▾\";}#sk-container-id-6 div.sk-estimator input.sk-toggleable__control:checked~label.sk-toggleable__label {background-color: #d4ebff;}#sk-container-id-6 div.sk-label input.sk-toggleable__control:checked~label.sk-toggleable__label {background-color: #d4ebff;}#sk-container-id-6 input.sk-hidden--visually {border: 0;clip: rect(1px 1px 1px 1px);clip: rect(1px, 1px, 1px, 1px);height: 1px;margin: -1px;overflow: hidden;padding: 0;position: absolute;width: 1px;}#sk-container-id-6 div.sk-estimator {font-family: monospace;background-color: #f0f8ff;border: 1px dotted black;border-radius: 0.25em;box-sizing: border-box;margin-bottom: 0.5em;}#sk-container-id-6 div.sk-estimator:hover {background-color: #d4ebff;}#sk-container-id-6 div.sk-parallel-item::after {content: \"\";width: 100%;border-bottom: 1px solid gray;flex-grow: 1;}#sk-container-id-6 div.sk-label:hover label.sk-toggleable__label {background-color: #d4ebff;}#sk-container-id-6 div.sk-serial::before {content: \"\";position: absolute;border-left: 1px solid gray;box-sizing: border-box;top: 0;bottom: 0;left: 50%;z-index: 0;}#sk-container-id-6 div.sk-serial {display: flex;flex-direction: column;align-items: center;background-color: white;padding-right: 0.2em;padding-left: 0.2em;position: relative;}#sk-container-id-6 div.sk-item {position: relative;z-index: 1;}#sk-container-id-6 div.sk-parallel {display: flex;align-items: stretch;justify-content: center;background-color: white;position: relative;}#sk-container-id-6 div.sk-item::before, #sk-container-id-6 div.sk-parallel-item::before {content: \"\";position: absolute;border-left: 1px solid gray;box-sizing: border-box;top: 0;bottom: 0;left: 50%;z-index: -1;}#sk-container-id-6 div.sk-parallel-item {display: flex;flex-direction: column;z-index: 1;position: relative;background-color: white;}#sk-container-id-6 div.sk-parallel-item:first-child::after {align-self: flex-end;width: 50%;}#sk-container-id-6 div.sk-parallel-item:last-child::after {align-self: flex-start;width: 50%;}#sk-container-id-6 div.sk-parallel-item:only-child::after {width: 0;}#sk-container-id-6 div.sk-dashed-wrapped {border: 1px dashed gray;margin: 0 0.4em 0.5em 0.4em;box-sizing: border-box;padding-bottom: 0.4em;background-color: white;}#sk-container-id-6 div.sk-label label {font-family: monospace;font-weight: bold;display: inline-block;line-height: 1.2em;}#sk-container-id-6 div.sk-label-container {text-align: center;}#sk-container-id-6 div.sk-container {/* jupyter's `normalize.less` sets `[hidden] { display: none; }` but bootstrap.min.css set `[hidden] { display: none !important; }` so we also need the `!important` here to be able to override the default hidden behavior on the sphinx rendered scikit-learn.org. See: https://github.com/scikit-learn/scikit-learn/issues/21755 */display: inline-block !important;position: relative;}#sk-container-id-6 div.sk-text-repr-fallback {display: none;}</style><div id=\"sk-container-id-6\" class=\"sk-top-container\"><div class=\"sk-text-repr-fallback\"><pre>DecisionTreeRegressor(max_depth=2, random_state=44)</pre><b>In a Jupyter environment, please rerun this cell to show the HTML representation or trust the notebook. <br />On GitHub, the HTML representation is unable to render, please try loading this page with nbviewer.org.</b></div><div class=\"sk-container\" hidden><div class=\"sk-item\"><div class=\"sk-estimator sk-toggleable\"><input class=\"sk-toggleable__control sk-hidden--visually\" id=\"sk-estimator-id-10\" type=\"checkbox\" checked><label for=\"sk-estimator-id-10\" class=\"sk-toggleable__label sk-toggleable__label-arrow\">DecisionTreeRegressor</label><div class=\"sk-toggleable__content\"><pre>DecisionTreeRegressor(max_depth=2, random_state=44)</pre></div></div></div></div></div>"
      ],
      "text/plain": [
       "DecisionTreeRegressor(max_depth=2, random_state=44)"
      ]
     },
     "execution_count": 34,
     "metadata": {},
     "output_type": "execute_result"
    }
   ],
   "source": [
    "# Finding the residual error\n",
    "y2 = y - tree_reg1.predict(X)\n",
    "tree_reg2 = DecisionTreeRegressor(max_depth=2, random_state=43)\n",
    "tree_reg2.fit(X, y2)\n",
    "# And Then we train a third regressor on the residual error made by the second predictor\n",
    "y3 = y2 - tree_reg2.predict(X)\n",
    "tree_reg3 = DecisionTreeRegressor(max_depth=2, random_state=44)\n",
    "tree_reg3.fit(X, y3)"
   ]
  },
  {
   "cell_type": "code",
   "execution_count": 36,
   "id": "dfd7c6d8-87c4-448b-bfab-df294c697142",
   "metadata": {},
   "outputs": [
    {
     "data": {
      "text/plain": [
       "array([0.49484029, 0.04021166, 0.75026781])"
      ]
     },
     "execution_count": 36,
     "metadata": {},
     "output_type": "execute_result"
    }
   ],
   "source": [
    "# Final prediction:\n",
    "X_new = np.array([[-0.4], [0.], [0.5]])\n",
    "sum(tree.predict(X_new) for tree in (tree_reg1, tree_reg2, tree_reg3))"
   ]
  },
  {
   "cell_type": "code",
   "execution_count": 40,
   "id": "bbd2464e-4aa2-4aad-8a17-22b0c04e9494",
   "metadata": {},
   "outputs": [
    {
     "data": {
      "text/html": [
       "We can explain that in a diagram(ref: https://www.analyticsvidhya.com/blog/2021/09/gradient-boosting-algorithm-a-complete-guide-for-beginners/)\n",
       "<img src=\"images/gb.png\" width=600 />\n",
       "<h4>Why we are taking the residual error as a target</h4>\n",
       "Because we want to minimize these residuals minimizing the residuals will eventually improve our model accuracy and prediction power. \n",
       "So, using the Residual as a target, we will generate new predictions. \n",
       "Note that the predictions, in this case, will be the error values, not the predicted car price values since our target column is an error now.\n",
       "<h4>How do we make predictions on the error values?</h4>\n",
       "To find the output we can simply take the average of all the numbers in a leaf, doesn’t matter if there is only 1 number or more than 1.\n"
      ],
      "text/plain": [
       "<IPython.core.display.HTML object>"
      ]
     },
     "metadata": {},
     "output_type": "display_data"
    }
   ],
   "source": [
    "%%HTML\n",
    "We can explain that in a diagram(ref: https://www.analyticsvidhya.com/blog/2021/09/gradient-boosting-algorithm-a-complete-guide-for-beginners/)\n",
    "<img src=\"images/gb.png\" width=600 />\n",
    "<h4>Why we are taking the residual error as a target</h4>\n",
    "Because we want to minimize these residuals minimizing the residuals will eventually improve our model accuracy and prediction power. \n",
    "So, using the Residual as a target, we will generate new predictions. \n",
    "Note that the predictions, in this case, will be the error values, not the predicted car price values since our target column is an error now.\n",
    "<h4>How do we make predictions on the error values?</h4>\n",
    "To find the output we can simply take the average of all the numbers in a leaf, doesn’t matter if there is only 1 number or more than 1."
   ]
  },
  {
   "cell_type": "code",
   "execution_count": 41,
   "id": "c9c8cb65-736e-44e8-a4c4-778b8481c740",
   "metadata": {},
   "outputs": [
    {
     "data": {
      "text/html": [
       "<style>#sk-container-id-7 {color: black;}#sk-container-id-7 pre{padding: 0;}#sk-container-id-7 div.sk-toggleable {background-color: white;}#sk-container-id-7 label.sk-toggleable__label {cursor: pointer;display: block;width: 100%;margin-bottom: 0;padding: 0.3em;box-sizing: border-box;text-align: center;}#sk-container-id-7 label.sk-toggleable__label-arrow:before {content: \"▸\";float: left;margin-right: 0.25em;color: #696969;}#sk-container-id-7 label.sk-toggleable__label-arrow:hover:before {color: black;}#sk-container-id-7 div.sk-estimator:hover label.sk-toggleable__label-arrow:before {color: black;}#sk-container-id-7 div.sk-toggleable__content {max-height: 0;max-width: 0;overflow: hidden;text-align: left;background-color: #f0f8ff;}#sk-container-id-7 div.sk-toggleable__content pre {margin: 0.2em;color: black;border-radius: 0.25em;background-color: #f0f8ff;}#sk-container-id-7 input.sk-toggleable__control:checked~div.sk-toggleable__content {max-height: 200px;max-width: 100%;overflow: auto;}#sk-container-id-7 input.sk-toggleable__control:checked~label.sk-toggleable__label-arrow:before {content: \"▾\";}#sk-container-id-7 div.sk-estimator input.sk-toggleable__control:checked~label.sk-toggleable__label {background-color: #d4ebff;}#sk-container-id-7 div.sk-label input.sk-toggleable__control:checked~label.sk-toggleable__label {background-color: #d4ebff;}#sk-container-id-7 input.sk-hidden--visually {border: 0;clip: rect(1px 1px 1px 1px);clip: rect(1px, 1px, 1px, 1px);height: 1px;margin: -1px;overflow: hidden;padding: 0;position: absolute;width: 1px;}#sk-container-id-7 div.sk-estimator {font-family: monospace;background-color: #f0f8ff;border: 1px dotted black;border-radius: 0.25em;box-sizing: border-box;margin-bottom: 0.5em;}#sk-container-id-7 div.sk-estimator:hover {background-color: #d4ebff;}#sk-container-id-7 div.sk-parallel-item::after {content: \"\";width: 100%;border-bottom: 1px solid gray;flex-grow: 1;}#sk-container-id-7 div.sk-label:hover label.sk-toggleable__label {background-color: #d4ebff;}#sk-container-id-7 div.sk-serial::before {content: \"\";position: absolute;border-left: 1px solid gray;box-sizing: border-box;top: 0;bottom: 0;left: 50%;z-index: 0;}#sk-container-id-7 div.sk-serial {display: flex;flex-direction: column;align-items: center;background-color: white;padding-right: 0.2em;padding-left: 0.2em;position: relative;}#sk-container-id-7 div.sk-item {position: relative;z-index: 1;}#sk-container-id-7 div.sk-parallel {display: flex;align-items: stretch;justify-content: center;background-color: white;position: relative;}#sk-container-id-7 div.sk-item::before, #sk-container-id-7 div.sk-parallel-item::before {content: \"\";position: absolute;border-left: 1px solid gray;box-sizing: border-box;top: 0;bottom: 0;left: 50%;z-index: -1;}#sk-container-id-7 div.sk-parallel-item {display: flex;flex-direction: column;z-index: 1;position: relative;background-color: white;}#sk-container-id-7 div.sk-parallel-item:first-child::after {align-self: flex-end;width: 50%;}#sk-container-id-7 div.sk-parallel-item:last-child::after {align-self: flex-start;width: 50%;}#sk-container-id-7 div.sk-parallel-item:only-child::after {width: 0;}#sk-container-id-7 div.sk-dashed-wrapped {border: 1px dashed gray;margin: 0 0.4em 0.5em 0.4em;box-sizing: border-box;padding-bottom: 0.4em;background-color: white;}#sk-container-id-7 div.sk-label label {font-family: monospace;font-weight: bold;display: inline-block;line-height: 1.2em;}#sk-container-id-7 div.sk-label-container {text-align: center;}#sk-container-id-7 div.sk-container {/* jupyter's `normalize.less` sets `[hidden] { display: none; }` but bootstrap.min.css set `[hidden] { display: none !important; }` so we also need the `!important` here to be able to override the default hidden behavior on the sphinx rendered scikit-learn.org. See: https://github.com/scikit-learn/scikit-learn/issues/21755 */display: inline-block !important;position: relative;}#sk-container-id-7 div.sk-text-repr-fallback {display: none;}</style><div id=\"sk-container-id-7\" class=\"sk-top-container\"><div class=\"sk-text-repr-fallback\"><pre>GradientBoostingRegressor(learning_rate=1.0, max_depth=2, n_estimators=3,\n",
       "                          random_state=42)</pre><b>In a Jupyter environment, please rerun this cell to show the HTML representation or trust the notebook. <br />On GitHub, the HTML representation is unable to render, please try loading this page with nbviewer.org.</b></div><div class=\"sk-container\" hidden><div class=\"sk-item\"><div class=\"sk-estimator sk-toggleable\"><input class=\"sk-toggleable__control sk-hidden--visually\" id=\"sk-estimator-id-11\" type=\"checkbox\" checked><label for=\"sk-estimator-id-11\" class=\"sk-toggleable__label sk-toggleable__label-arrow\">GradientBoostingRegressor</label><div class=\"sk-toggleable__content\"><pre>GradientBoostingRegressor(learning_rate=1.0, max_depth=2, n_estimators=3,\n",
       "                          random_state=42)</pre></div></div></div></div></div>"
      ],
      "text/plain": [
       "GradientBoostingRegressor(learning_rate=1.0, max_depth=2, n_estimators=3,\n",
       "                          random_state=42)"
      ]
     },
     "execution_count": 41,
     "metadata": {},
     "output_type": "execute_result"
    }
   ],
   "source": [
    "from sklearn.ensemble import GradientBoostingRegressor\n",
    "\n",
    "gbrt = GradientBoostingRegressor(max_depth=2, n_estimators=3,\n",
    "                                 learning_rate=1.0, random_state=42)\n",
    "gbrt.fit(X, y)"
   ]
  },
  {
   "cell_type": "code",
   "execution_count": 42,
   "id": "87d78744-ddf4-4cf1-bd02-060501546f96",
   "metadata": {},
   "outputs": [
    {
     "data": {
      "text/plain": [
       "3"
      ]
     },
     "execution_count": 42,
     "metadata": {},
     "output_type": "execute_result"
    }
   ],
   "source": [
    "gbrt.n_estimators_"
   ]
  },
  {
   "cell_type": "code",
   "execution_count": 45,
   "id": "cf76201a-3f1f-4e1c-b5b0-cbaa02efb071",
   "metadata": {},
   "outputs": [
    {
     "data": {
      "text/plain": [
       "92"
      ]
     },
     "execution_count": 45,
     "metadata": {},
     "output_type": "execute_result"
    }
   ],
   "source": [
    "# We could use cross-validation to find out the optimal number of trees, but there is a better method here \n",
    "# by adding a parameter called n_iter_no_change. This parameter simply stops adding more trees if the tree is not improving for the last n trees.\n",
    "gbrt_best = GradientBoostingRegressor(\n",
    "    max_depth=2, learning_rate=0.05, n_estimators=500,\n",
    "    n_iter_no_change=10, random_state=42)\n",
    "gbrt_best.fit(X, y)\n",
    "gbrt_best.n_estimators_ # in this example, we added maximum tree to 500, but it did early stopping at 92."
   ]
  },
  {
   "cell_type": "code",
   "execution_count": 1,
   "id": "ad171b7b-1fca-4899-822d-f629f6777b8d",
   "metadata": {},
   "outputs": [
    {
     "data": {
      "text/html": [
       "XGBoost is an optimized distributed gradient boosting library designed to be highly efficient, flexible and portable. \n",
       "It implements machine learning algorithms under the Gradient Boosting framework. \n",
       "XGBoost provides a parallel tree boosting (also known as GBDT, GBM) that solve many data science problems in a fast and accurate way. \n",
       "The same code runs on major distributed environments (Hadoop, SGE, MPI) and can solve problems beyond billions of examples.\n",
       "\n",
       "<br/>\n",
       "<br/>\n",
       "Boosting is prone to overfitting and the hyperparameters must be tuned to avoid this. Regularization is one way to prevent overfitting.\n",
       "Cross-validation is especially important for boosting trees due to the many hyperparameters that need to be set.\n"
      ],
      "text/plain": [
       "<IPython.core.display.HTML object>"
      ]
     },
     "metadata": {},
     "output_type": "display_data"
    }
   ],
   "source": [
    "%%HTML\n",
    "XGBoost is an optimized distributed gradient boosting library designed to be highly efficient, flexible and portable. \n",
    "It implements machine learning algorithms under the Gradient Boosting framework. \n",
    "XGBoost provides a parallel tree boosting (also known as GBDT, GBM) that solve many data science problems in a fast and accurate way. \n",
    "The same code runs on major distributed environments (Hadoop, SGE, MPI) and can solve problems beyond billions of examples.\n",
    "\n",
    "<br/>\n",
    "<br/>\n",
    "Boosting is prone to overfitting and the hyperparameters must be tuned to avoid this. Regularization is one way to prevent overfitting.\n",
    "Cross-validation is especially important for boosting trees due to the many hyperparameters that need to be set."
   ]
  },
  {
   "cell_type": "code",
   "execution_count": 5,
   "id": "6bbbf2b2-5cff-437f-baed-9c150f3a03bd",
   "metadata": {},
   "outputs": [
    {
     "data": {
      "text/html": [
       "<h2>Stacking</h2>\n",
       "It is based on the simple idea that instead of using trivial functions (such as hard voting) to aggregate the prediction of all predictors in \n",
       "an ensemble, why don't we train a model to perform this aggregation?\n",
       "<img src=\"images/stacking1.jpg\" width=400 />\n",
       "As shown in the above diagram, an ensemble performs a regression task on a new instance. Each of the bottom three predictors predicts a different value,\n",
       "and then the final predictor called a blender or a meta-learner takes these predictions as input and makes the final prediction.\n",
       "<img src=\"images/stacking2.jpg\" width=400 />\n",
       "To train the blender or meta learner, we first need to build the blending training set. We can use cross_val_predict() on every predictor/algorithm\n",
       "in the ensemble to get predictions for each instance in the original training set and these can be used as input features to train the blender;\n",
       "and the target can be copied from the original training set.\n",
       "<img src=\"images/stacking3.jpg\" width=400 />    \n",
       "As shown in the above image, we can train several different blenders in this way.\n"
      ],
      "text/plain": [
       "<IPython.core.display.HTML object>"
      ]
     },
     "metadata": {},
     "output_type": "display_data"
    }
   ],
   "source": [
    "%%HTML\n",
    "<h2>Stacking</h2>\n",
    "It is based on the simple idea that instead of using trivial functions (such as hard voting) to aggregate the prediction of all predictors in \n",
    "an ensemble, why don't we train a model to perform this aggregation?\n",
    "<img src=\"images/stacking1.jpg\" width=400 />\n",
    "As shown in the above diagram, an ensemble performs a regression task on a new instance. Each of the bottom three predictors predicts a different value,\n",
    "and then the final predictor called a blender or a meta-learner takes these predictions as input and makes the final prediction.\n",
    "<img src=\"images/stacking2.jpg\" width=400 />\n",
    "To train the blender or meta learner, we first need to build the blending training set. We can use cross_val_predict() on every predictor/algorithm\n",
    "in the ensemble to get predictions for each instance in the original training set and these can be used as input features to train the blender;\n",
    "and the target can be copied from the original training set.\n",
    "<img src=\"images/stacking3.jpg\" width=400 />    \n",
    "As shown in the above image, we can train several different blenders in this way."
   ]
  },
  {
   "cell_type": "code",
   "execution_count": 6,
   "id": "13c7ed53-5433-4f64-846e-fb37ab18a79a",
   "metadata": {},
   "outputs": [
    {
     "data": {
      "text/plain": [
       "array([[ 1.53869929e+00,  1.88744130e-01],\n",
       "       [ 3.94698536e-01,  3.23723608e-01],\n",
       "       [-9.19146564e-01,  1.31188165e+00],\n",
       "       [ 1.05396355e+00, -7.00407873e-01],\n",
       "       [ 1.04067847e+00, -4.37338701e-01],\n",
       "       [ 1.00933981e-01, -3.03530559e-01],\n",
       "       [ 1.18128413e+00,  7.61136745e-02],\n",
       "       [-1.21046915e-01, -9.08388899e-02],\n",
       "       [-8.87106610e-01,  5.12633178e-01],\n",
       "       [ 9.37451497e-01,  2.34296809e-01],\n",
       "       [ 7.11654204e-01,  1.54701440e-01],\n",
       "       [ 1.25893422e+00, -3.54797752e-01],\n",
       "       [ 3.86380017e-01,  4.15946340e-01],\n",
       "       [ 9.44441260e-01,  5.17911799e-01],\n",
       "       [-7.40742091e-01,  5.36229504e-01],\n",
       "       [ 2.05623856e+00, -2.39382466e-02],\n",
       "       [ 1.85814503e+00,  3.09624394e-01],\n",
       "       [-5.61395675e-01,  6.35114044e-01],\n",
       "       [ 1.19704521e+00,  1.05274369e-01],\n",
       "       [-8.14968012e-01,  2.64231623e-01],\n",
       "       [ 2.15881305e+00,  1.49840044e-01],\n",
       "       [ 1.11201360e+00, -2.15523587e-01],\n",
       "       [ 1.30882068e+00,  7.26225254e-01],\n",
       "       [-7.34115578e-02,  8.02151396e-01],\n",
       "       [-1.31316555e+00,  6.78091746e-01],\n",
       "       [ 1.31164912e+00, -5.51176060e-01],\n",
       "       [-8.58133550e-01,  2.20550515e-01],\n",
       "       [ 1.04111175e+00,  9.67223360e-01],\n",
       "       [ 1.97170320e+00,  2.97790052e-01],\n",
       "       [ 4.02900542e-01,  5.40688712e-01],\n",
       "       [ 1.90191944e+00, -7.88098354e-01],\n",
       "       [-2.36556013e-02,  1.08628844e+00],\n",
       "       [ 7.35952633e-01, -4.44962923e-01],\n",
       "       [ 2.53008665e+00,  6.02133456e-01],\n",
       "       [ 1.77093903e+00,  1.74433997e-01],\n",
       "       [-5.24873410e-01,  1.00008904e+00],\n",
       "       [ 1.27375174e+00, -4.79303361e-01],\n",
       "       [-3.06248147e-01,  3.64257262e-01],\n",
       "       [ 2.54988025e-01, -3.76548892e-01],\n",
       "       [-8.43128465e-01,  3.97869430e-01],\n",
       "       [ 1.59057223e+00,  9.28946221e-03],\n",
       "       [ 1.53618196e+00,  2.21948473e-01],\n",
       "       [ 1.56736404e-01,  1.31817168e+00],\n",
       "       [ 1.18828438e+00,  7.99145965e-01],\n",
       "       [ 2.90737036e-01, -4.35217127e-01],\n",
       "       [ 9.52905753e-01,  8.44005843e-01],\n",
       "       [-1.62238743e+00,  8.34466868e-01],\n",
       "       [ 1.75044030e+00,  1.44641861e-01],\n",
       "       [ 1.82584939e-01,  8.48895326e-01],\n",
       "       [ 2.43829239e+00,  1.48367062e-01],\n",
       "       [-9.48242964e-01,  5.99715840e-01],\n",
       "       [ 5.18230797e-02,  5.30802196e-01],\n",
       "       [-9.64974470e-01,  4.81193749e-01],\n",
       "       [ 7.17679727e-01,  2.80834180e-01],\n",
       "       [ 1.81516221e+00, -2.02170085e-01],\n",
       "       [ 1.47207791e+00, -2.71151964e-01],\n",
       "       [-1.20166076e+00, -1.83916427e-01],\n",
       "       [ 2.47340502e+00, -1.32073074e-01],\n",
       "       [ 9.78505796e-01, -1.05994162e+00],\n",
       "       [ 2.79899835e+00, -6.39112338e-03],\n",
       "       [-1.09355336e+00, -1.47113258e-01],\n",
       "       [ 1.27462287e+00,  1.94647115e-01],\n",
       "       [ 4.66738101e-01,  6.05212669e-01],\n",
       "       [-2.48597411e-01,  7.76490416e-01],\n",
       "       [ 1.71437491e+00,  2.98215037e-02],\n",
       "       [-4.05387547e-01,  5.39911475e-01],\n",
       "       [ 1.79050778e-01,  8.28569351e-01],\n",
       "       [-3.95018323e-01,  8.32744841e-01],\n",
       "       [-5.92226723e-01, -6.99897055e-02],\n",
       "       [ 4.94790758e-01,  9.36359772e-01],\n",
       "       [ 4.20154991e-01, -2.58065072e-01],\n",
       "       [-4.36556097e-02,  3.47358895e-01],\n",
       "       [ 7.84541412e-01, -6.16875654e-02],\n",
       "       [ 1.03912879e+00,  1.50405590e-01],\n",
       "       [ 2.03240025e-02, -6.57926627e-01],\n",
       "       [ 8.45559990e-02,  2.53837860e-01],\n",
       "       [-1.45026364e-01,  7.08757656e-01],\n",
       "       [ 1.09617610e+00,  8.98727851e-01],\n",
       "       [ 2.22926924e+00,  3.70262825e-01],\n",
       "       [ 9.29983069e-01,  6.74097501e-01],\n",
       "       [ 7.32020691e-01, -7.68693626e-01],\n",
       "       [-8.70156456e-03,  2.02969887e-01],\n",
       "       [ 4.32375469e-01, -1.90205453e-01],\n",
       "       [ 3.51034153e-01,  2.84706277e-01],\n",
       "       [-8.09671925e-01,  4.26491726e-01],\n",
       "       [ 1.99836424e+00,  2.60160788e-01],\n",
       "       [ 9.40830424e-01,  1.18142445e-01],\n",
       "       [ 8.35812732e-01, -5.08903882e-01],\n",
       "       [ 1.84956254e+00,  2.43629132e-01],\n",
       "       [ 1.58506742e+00, -4.50210209e-01],\n",
       "       [ 1.37218776e+00,  8.18834257e-02],\n",
       "       [-1.00574418e+00,  9.21947076e-01],\n",
       "       [ 7.69111059e-01, -5.20285586e-01],\n",
       "       [-4.56237689e-02,  2.19888528e-02],\n",
       "       [ 1.00329157e+00, -8.43363338e-01],\n",
       "       [ 1.16626859e+00,  2.13338784e-01],\n",
       "       [ 5.82200723e-01,  3.19959599e-01],\n",
       "       [ 9.47168956e-01, -3.83048924e-01],\n",
       "       [-1.22151383e-01,  9.71000956e-01],\n",
       "       [ 2.47130540e-01,  3.15114587e-01],\n",
       "       [ 3.87520161e-01,  5.31935505e-01],\n",
       "       [ 1.28282373e+00, -8.97416640e-01],\n",
       "       [ 4.20576195e-01, -5.64697873e-01],\n",
       "       [-3.62985763e-01,  1.97916474e-01],\n",
       "       [ 1.90864991e-01,  1.30952481e+00],\n",
       "       [ 1.62787591e+00, -3.07857894e-01],\n",
       "       [-5.47015167e-01,  7.42421951e-01],\n",
       "       [ 2.00968186e-01,  3.66592345e-01],\n",
       "       [ 1.16542367e+00, -1.58629894e-01],\n",
       "       [ 4.70450486e-02,  1.43026566e+00],\n",
       "       [ 1.76582991e+00,  6.79440444e-01],\n",
       "       [-5.97264479e-01,  2.08878893e-01],\n",
       "       [ 8.17113372e-01, -1.27786416e-01],\n",
       "       [ 1.22686504e+00,  2.54432366e-01],\n",
       "       [-4.25417774e-01,  8.20296921e-01],\n",
       "       [-1.03740547e+00,  4.27414971e-01],\n",
       "       [ 2.00443866e+00, -4.45356361e-01],\n",
       "       [ 6.18053301e-01, -9.11785286e-01],\n",
       "       [ 1.02664982e+00, -1.56999382e-02],\n",
       "       [ 6.66423156e-01,  8.71813578e-01],\n",
       "       [ 2.34030310e-01,  2.50655164e-02],\n",
       "       [ 3.55512740e-01,  1.12749583e+00],\n",
       "       [-9.70543017e-01,  6.21054075e-01],\n",
       "       [-1.85553565e-02,  1.30864462e+00],\n",
       "       [ 9.80574816e-01,  6.40486018e-01],\n",
       "       [-3.34276872e-01,  1.01980724e+00],\n",
       "       [ 2.18510627e-01, -1.42457079e-01],\n",
       "       [ 2.17841084e-01,  6.58837194e-01],\n",
       "       [-3.07087513e-01,  1.27930459e+00],\n",
       "       [ 2.00493703e+00, -3.47664858e-01],\n",
       "       [ 4.27803064e-01, -9.49706996e-02],\n",
       "       [ 1.09364509e+00,  4.79272454e-01],\n",
       "       [ 1.63756905e+00,  4.47819110e-01],\n",
       "       [-7.37347663e-01,  2.90746946e-01],\n",
       "       [ 5.72167283e-01, -5.87818960e-01],\n",
       "       [ 1.52693188e+00, -1.99797808e-01],\n",
       "       [ 4.20116471e-01,  7.48839719e-01],\n",
       "       [-5.39117616e-01,  7.45346886e-01],\n",
       "       [ 6.12398431e-01,  2.65568153e-01],\n",
       "       [ 5.63371156e-01,  6.23083015e-01],\n",
       "       [-8.42890258e-01,  7.87523061e-01],\n",
       "       [ 1.32529346e-01, -2.17376163e-02],\n",
       "       [ 1.28731144e+00,  4.80679551e-01],\n",
       "       [ 4.33601547e-01, -9.40469240e-01],\n",
       "       [ 7.68231631e-01, -6.65057388e-01],\n",
       "       [-3.21149196e-01, -1.40023428e-01],\n",
       "       [-1.13313494e+00, -5.86783491e-01],\n",
       "       [ 4.24711922e-01,  1.19605397e+00],\n",
       "       [-8.18524927e-01,  8.93634843e-01],\n",
       "       [ 2.17400276e+00,  1.98064359e-01],\n",
       "       [ 1.34461311e+00, -3.83153460e-01],\n",
       "       [ 1.39788388e-01, -3.17710478e-01],\n",
       "       [ 2.07723520e+00, -9.94194471e-02],\n",
       "       [ 1.35525882e-01,  9.46814678e-01],\n",
       "       [-5.17893847e-01,  8.69860811e-01],\n",
       "       [ 4.71263691e-01,  5.40285159e-01],\n",
       "       [-7.16454567e-01,  8.44354671e-01],\n",
       "       [ 9.96796494e-01,  9.11050207e-01],\n",
       "       [-1.49012497e+00, -8.20350032e-02],\n",
       "       [ 6.05922593e-01, -3.97975225e-01],\n",
       "       [ 1.47512149e+00,  7.04954012e-01],\n",
       "       [-4.27567031e-01, -8.44484091e-02],\n",
       "       [ 3.37137547e-01, -1.06918870e-01],\n",
       "       [ 2.24167277e+00,  4.78774577e-02],\n",
       "       [-3.27220550e-01,  1.63926424e-01],\n",
       "       [-1.41817886e-01,  1.04753175e+00],\n",
       "       [ 2.39259245e-01,  1.00268142e+00],\n",
       "       [ 1.37793380e+00, -6.73602990e-01],\n",
       "       [ 8.26711105e-01,  9.49740216e-01],\n",
       "       [ 7.61917228e-01, -3.57663548e-01],\n",
       "       [ 6.68005561e-01, -4.36210236e-01],\n",
       "       [-1.01700330e+00,  5.50549109e-01],\n",
       "       [ 8.08486195e-01, -7.67051276e-01],\n",
       "       [ 2.57481800e-01, -5.39383846e-01],\n",
       "       [-1.95001613e-02,  1.11556320e+00],\n",
       "       [ 2.02183905e+00,  1.43850482e-01],\n",
       "       [ 7.58845273e-01,  5.61859153e-01],\n",
       "       [-1.22247662e+00,  6.02671766e-01],\n",
       "       [ 1.85320790e+00,  2.70036334e-01],\n",
       "       [-5.60184900e-01,  4.14317507e-01],\n",
       "       [ 1.08164813e+00,  4.28311211e-01],\n",
       "       [-5.93855155e-01,  4.25809263e-01],\n",
       "       [ 2.21081291e+00, -1.87456268e-01],\n",
       "       [ 1.95583776e-01, -1.16579470e-01],\n",
       "       [-1.40195809e+00,  4.19785776e-01],\n",
       "       [-2.84324609e-01,  1.53414905e-01],\n",
       "       [ 1.19605271e-01,  8.31081154e-01],\n",
       "       [ 1.65174474e+00, -4.80648239e-02],\n",
       "       [ 3.42577220e-01, -1.07559161e+00],\n",
       "       [-7.68458149e-01,  8.00261424e-01],\n",
       "       [ 1.53576767e+00, -5.06267009e-01],\n",
       "       [ 2.80805828e-01,  3.18967408e-01],\n",
       "       [-1.08073005e+00,  4.06430127e-03],\n",
       "       [ 1.00570655e+00,  5.98193046e-01],\n",
       "       [ 5.55623466e-01,  1.98502585e-01],\n",
       "       [ 2.04797386e-01,  4.87680968e-01],\n",
       "       [ 4.98868900e-01, -3.95868546e-01],\n",
       "       [ 7.42308460e-01, -4.31621580e-02],\n",
       "       [-4.93621465e-01,  9.60498618e-01],\n",
       "       [ 8.44526441e-01,  6.67107541e-01],\n",
       "       [-8.52369635e-01,  3.63567348e-01],\n",
       "       [ 4.91704872e-01,  1.14754730e+00],\n",
       "       [ 1.68026655e+00, -2.83687635e-01],\n",
       "       [ 1.06529157e+00, -6.81949178e-01],\n",
       "       [ 2.56664520e-01, -3.43103751e-01],\n",
       "       [ 9.32941989e-01, -1.51265895e-02],\n",
       "       [ 1.85352710e+00, -7.16418704e-01],\n",
       "       [ 3.48367318e-01, -7.73061049e-01],\n",
       "       [ 2.32109137e-01,  1.56378251e+00],\n",
       "       [ 1.57016209e+00,  1.69960064e-01],\n",
       "       [ 2.56743410e+00,  8.45530241e-01],\n",
       "       [-1.13344086e+00,  3.50051371e-01],\n",
       "       [ 2.12126228e+00,  4.85220205e-01],\n",
       "       [ 2.52147411e-01,  3.41836854e-01],\n",
       "       [ 7.72633023e-01, -8.51886559e-01],\n",
       "       [-1.23250997e+00,  9.27916869e-01],\n",
       "       [ 1.21060366e+00, -1.24634761e+00],\n",
       "       [ 1.11930290e+00, -6.07656854e-01],\n",
       "       [ 1.21502811e+00,  5.66784271e-01],\n",
       "       [ 1.68008833e-02,  6.88933176e-01],\n",
       "       [-3.14828672e-01,  8.16597563e-01],\n",
       "       [ 1.26017313e+00, -5.89217041e-01],\n",
       "       [ 1.64750152e+00, -3.03493969e-01],\n",
       "       [-2.36150335e-01,  8.46784264e-01],\n",
       "       [ 1.45626034e+00, -5.43769449e-02],\n",
       "       [ 2.60055401e-01, -5.74706495e-01],\n",
       "       [-3.34288307e-01,  2.15865712e-01],\n",
       "       [ 4.80502733e-01,  1.50942444e+00],\n",
       "       [-1.55571986e-01,  6.48785009e-01],\n",
       "       [ 2.32287867e+00,  8.71076592e-01],\n",
       "       [-7.00865433e-01, -7.05956226e-02],\n",
       "       [-1.14067002e+00,  3.67748440e-01],\n",
       "       [ 1.63415533e+00, -2.52351341e-01],\n",
       "       [-4.60651397e-02, -2.66798449e-01],\n",
       "       [ 5.53679994e-01,  9.71774175e-01],\n",
       "       [ 2.20170803e+00, -4.39754157e-01],\n",
       "       [ 1.19442663e+00, -7.28380683e-01],\n",
       "       [ 9.87997149e-01, -1.03094492e+00],\n",
       "       [-3.86243668e-01,  1.17814064e-01],\n",
       "       [ 1.24243613e+00,  4.78342723e-01],\n",
       "       [ 2.27959897e+00, -5.61509423e-02],\n",
       "       [ 3.83524621e-01,  8.25664840e-01],\n",
       "       [-1.07058138e+00, -9.02639925e-02],\n",
       "       [ 1.65833920e+00, -3.76447643e-01],\n",
       "       [ 1.74304711e-01,  5.92384239e-01],\n",
       "       [-7.69640886e-01,  4.23924672e-01],\n",
       "       [ 2.04714036e+00, -1.14919780e-01],\n",
       "       [ 1.63538015e-01,  1.08562240e+00],\n",
       "       [-1.32088035e-01,  2.72172555e-02],\n",
       "       [ 1.10501631e+00, -1.12538622e+00],\n",
       "       [ 1.36033430e+00, -1.26924940e-01],\n",
       "       [ 3.88129719e-01,  1.09946871e-01],\n",
       "       [ 9.13044082e-01,  2.54397863e-01],\n",
       "       [ 2.46530946e-01, -3.11068557e-01],\n",
       "       [ 6.23121786e-01,  8.07122726e-01],\n",
       "       [-2.22923603e-02,  5.08422712e-01],\n",
       "       [ 2.95132064e-01, -2.78792488e-01],\n",
       "       [ 4.53301022e-01,  4.96074925e-01],\n",
       "       [ 2.43361433e-01,  6.93859798e-01],\n",
       "       [ 7.41734367e-01, -7.59879868e-01],\n",
       "       [ 8.86784019e-02,  1.04359771e+00],\n",
       "       [ 1.71864629e+00,  3.25238155e-02],\n",
       "       [ 1.54123944e+00, -5.11050694e-01],\n",
       "       [ 1.07434090e+00,  2.79562067e-01],\n",
       "       [ 1.51752434e+00, -7.79142429e-01],\n",
       "       [ 3.87574934e-01,  1.31376262e+00],\n",
       "       [ 1.55774058e+00,  3.54279514e-02],\n",
       "       [-2.68080704e-01,  4.45531854e-01],\n",
       "       [ 1.34717798e+00, -1.59116031e-01],\n",
       "       [ 4.63179454e-02,  1.41655744e+00],\n",
       "       [ 8.47523614e-01,  6.60042759e-01],\n",
       "       [ 7.74635774e-01, -6.22440653e-01],\n",
       "       [ 8.98213525e-02, -2.23066358e-03],\n",
       "       [ 6.44782950e-01, -2.08983980e-01],\n",
       "       [ 4.25777369e-01, -2.66667273e-01],\n",
       "       [ 6.39768552e-01, -8.39048380e-01],\n",
       "       [-5.61649293e-01,  1.05118960e+00],\n",
       "       [-2.39577834e-01,  7.84291406e-01],\n",
       "       [ 3.26043231e-01, -8.45633689e-03],\n",
       "       [-1.30199977e+00,  6.53187519e-01],\n",
       "       [ 1.70491525e+00, -2.75860786e-01],\n",
       "       [-4.45389489e-01,  3.65734910e-01],\n",
       "       [-4.63234422e-02,  9.35616132e-02],\n",
       "       [-5.54209197e-01,  9.15652870e-01],\n",
       "       [ 9.04911388e-01,  7.67140201e-01],\n",
       "       [ 7.10423148e-01, -5.20759286e-01],\n",
       "       [-9.08623297e-01,  1.59812110e-01],\n",
       "       [-6.95914537e-01,  4.85217743e-01],\n",
       "       [ 2.26083403e-01, -7.35146688e-01],\n",
       "       [ 2.24929422e+00,  4.12823738e-01],\n",
       "       [-1.24643060e-01,  9.89103494e-01],\n",
       "       [ 2.02278725e+00,  3.70359595e-01],\n",
       "       [ 1.26548872e+00,  1.36369921e+00],\n",
       "       [ 1.29149569e+00, -3.36197576e-01],\n",
       "       [ 1.21470822e+00,  4.01097438e-01],\n",
       "       [ 1.18506381e+00,  9.20387143e-01],\n",
       "       [ 1.07846758e+00, -6.39893393e-01],\n",
       "       [ 6.35356620e-01, -3.51281019e-01],\n",
       "       [ 7.07643904e-01,  2.60445002e-01],\n",
       "       [ 1.51036049e+00, -5.31674880e-01],\n",
       "       [-1.40711338e+00,  8.51051810e-01],\n",
       "       [-4.95533490e-01,  2.89638742e-01],\n",
       "       [ 9.22156327e-01,  3.80275694e-01],\n",
       "       [ 9.12988584e-02,  9.49474798e-01],\n",
       "       [ 2.72926826e-01,  5.03834670e-01],\n",
       "       [ 3.29856488e-01,  3.14630248e-01],\n",
       "       [ 2.51430833e+00,  2.34176525e-01],\n",
       "       [ 3.29765085e-01,  5.64050214e-01],\n",
       "       [ 1.27519076e+00, -1.17431158e+00],\n",
       "       [-1.32338788e-01,  1.08219171e+00],\n",
       "       [ 1.21820800e+00,  2.15727178e-01],\n",
       "       [ 1.54062055e-01,  1.17959385e+00],\n",
       "       [-8.50562192e-01,  8.25471394e-01],\n",
       "       [ 1.17564737e-01,  6.24869329e-01],\n",
       "       [ 1.41337279e-01,  3.31462221e-01],\n",
       "       [ 3.66024869e-01, -3.41011904e-01],\n",
       "       [ 8.60746492e-01, -2.47869641e-01],\n",
       "       [ 6.38249038e-01, -9.53307396e-01],\n",
       "       [ 8.41038947e-01,  1.94589699e-01],\n",
       "       [-9.97738228e-01,  7.60088296e-01],\n",
       "       [ 4.07871533e-01, -3.42573838e-01],\n",
       "       [-7.18165328e-01,  1.76594880e+00],\n",
       "       [ 4.18572020e-01,  6.04312317e-01],\n",
       "       [ 1.38472867e-01,  1.13485609e+00],\n",
       "       [ 2.23925193e-01, -4.53479666e-01],\n",
       "       [ 1.26546418e+00, -1.49129836e-01],\n",
       "       [-9.02174035e-01,  4.82353824e-01],\n",
       "       [ 6.21163334e-01,  7.10148558e-01],\n",
       "       [-1.54304150e-01,  1.13134609e+00],\n",
       "       [ 1.05181328e+00, -2.89741699e-01],\n",
       "       [ 3.47519206e-01,  1.46151610e+00],\n",
       "       [ 1.90023548e+00,  6.96249951e-01],\n",
       "       [-5.41334715e-01,  1.09535941e+00],\n",
       "       [ 2.74530128e-01, -1.42660544e-01],\n",
       "       [ 3.88913391e-01,  8.22019976e-01],\n",
       "       [-4.66763460e-01,  1.18115176e+00],\n",
       "       [-1.13927763e+00,  3.90393848e-01],\n",
       "       [ 1.32711038e+00, -7.98253217e-01],\n",
       "       [-1.17892970e+00,  6.10705608e-01],\n",
       "       [ 3.34770561e-01, -5.02763154e-01],\n",
       "       [ 2.10662755e+00,  1.54286292e-01],\n",
       "       [ 2.30801311e+00,  4.67930154e-01],\n",
       "       [ 1.44540168e+00, -4.48312986e-01],\n",
       "       [-7.90513590e-01,  1.08341903e+00],\n",
       "       [-5.04793000e-01,  1.41305691e+00],\n",
       "       [ 1.45025118e+00, -5.04528124e-01],\n",
       "       [-2.29557611e-01,  8.24366628e-01],\n",
       "       [ 8.73264409e-01, -4.75183314e-01],\n",
       "       [ 5.44413316e-01,  1.65076041e+00],\n",
       "       [ 3.83769310e-01, -1.66194429e-01],\n",
       "       [ 1.27911145e+00, -7.88178282e-01],\n",
       "       [ 8.98851828e-01, -6.05412408e-01],\n",
       "       [ 5.83197855e-01, -5.80983314e-01],\n",
       "       [-3.28575718e-01,  7.78008554e-01],\n",
       "       [ 1.77879206e+00, -1.47037158e-01],\n",
       "       [ 8.62610227e-01, -3.02159223e-01],\n",
       "       [-2.56920403e-02,  1.13186802e+00],\n",
       "       [-5.89301101e-01,  4.79412580e-01],\n",
       "       [ 1.15021283e+00, -8.55136146e-02],\n",
       "       [-8.59816542e-01,  1.85851059e-01],\n",
       "       [ 1.72499589e+00,  2.37370621e-01],\n",
       "       [ 2.05310880e+00,  1.00839264e+00],\n",
       "       [-6.57489098e-02,  8.35845778e-01],\n",
       "       [ 7.73400856e-01,  4.81659254e-01],\n",
       "       [ 7.16426229e-01,  3.10907729e-01],\n",
       "       [-7.09936154e-01,  1.63014835e-01],\n",
       "       [-2.66492596e-02,  1.58396005e+00],\n",
       "       [ 1.88323111e+00,  2.22375278e-01],\n",
       "       [-5.65828026e-01,  3.98229243e-01],\n",
       "       [ 9.35868024e-01, -5.24502587e-01],\n",
       "       [ 4.35784764e-01, -1.86108131e-01],\n",
       "       [-5.65614651e-01,  5.63577626e-01],\n",
       "       [-1.20537442e+00,  1.28551662e+00],\n",
       "       [ 5.15726937e-01, -3.47821601e-01],\n",
       "       [ 5.61705076e-01,  3.88662624e-01]])"
      ]
     },
     "execution_count": 6,
     "metadata": {},
     "output_type": "execute_result"
    }
   ],
   "source": [
    "from sklearn.datasets import make_moons\n",
    "from sklearn.ensemble import RandomForestClassifier, StackingClassifier\n",
    "from sklearn.linear_model import LogisticRegression\n",
    "from sklearn.model_selection import train_test_split\n",
    "from sklearn.svm import SVC\n",
    "X, y = make_moons(n_samples=500, noise=0.30, random_state=42)\n",
    "X_train, X_test, y_train, y_test = train_test_split(X, y, random_state=42)\n",
    "X_train\n"
   ]
  },
  {
   "cell_type": "code",
   "execution_count": 8,
   "id": "e3cbdc8d-f45b-4ff2-b687-8c71bd8963a3",
   "metadata": {},
   "outputs": [
    {
     "data": {
      "text/html": [
       "<style>#sk-container-id-1 {color: black;}#sk-container-id-1 pre{padding: 0;}#sk-container-id-1 div.sk-toggleable {background-color: white;}#sk-container-id-1 label.sk-toggleable__label {cursor: pointer;display: block;width: 100%;margin-bottom: 0;padding: 0.3em;box-sizing: border-box;text-align: center;}#sk-container-id-1 label.sk-toggleable__label-arrow:before {content: \"▸\";float: left;margin-right: 0.25em;color: #696969;}#sk-container-id-1 label.sk-toggleable__label-arrow:hover:before {color: black;}#sk-container-id-1 div.sk-estimator:hover label.sk-toggleable__label-arrow:before {color: black;}#sk-container-id-1 div.sk-toggleable__content {max-height: 0;max-width: 0;overflow: hidden;text-align: left;background-color: #f0f8ff;}#sk-container-id-1 div.sk-toggleable__content pre {margin: 0.2em;color: black;border-radius: 0.25em;background-color: #f0f8ff;}#sk-container-id-1 input.sk-toggleable__control:checked~div.sk-toggleable__content {max-height: 200px;max-width: 100%;overflow: auto;}#sk-container-id-1 input.sk-toggleable__control:checked~label.sk-toggleable__label-arrow:before {content: \"▾\";}#sk-container-id-1 div.sk-estimator input.sk-toggleable__control:checked~label.sk-toggleable__label {background-color: #d4ebff;}#sk-container-id-1 div.sk-label input.sk-toggleable__control:checked~label.sk-toggleable__label {background-color: #d4ebff;}#sk-container-id-1 input.sk-hidden--visually {border: 0;clip: rect(1px 1px 1px 1px);clip: rect(1px, 1px, 1px, 1px);height: 1px;margin: -1px;overflow: hidden;padding: 0;position: absolute;width: 1px;}#sk-container-id-1 div.sk-estimator {font-family: monospace;background-color: #f0f8ff;border: 1px dotted black;border-radius: 0.25em;box-sizing: border-box;margin-bottom: 0.5em;}#sk-container-id-1 div.sk-estimator:hover {background-color: #d4ebff;}#sk-container-id-1 div.sk-parallel-item::after {content: \"\";width: 100%;border-bottom: 1px solid gray;flex-grow: 1;}#sk-container-id-1 div.sk-label:hover label.sk-toggleable__label {background-color: #d4ebff;}#sk-container-id-1 div.sk-serial::before {content: \"\";position: absolute;border-left: 1px solid gray;box-sizing: border-box;top: 0;bottom: 0;left: 50%;z-index: 0;}#sk-container-id-1 div.sk-serial {display: flex;flex-direction: column;align-items: center;background-color: white;padding-right: 0.2em;padding-left: 0.2em;position: relative;}#sk-container-id-1 div.sk-item {position: relative;z-index: 1;}#sk-container-id-1 div.sk-parallel {display: flex;align-items: stretch;justify-content: center;background-color: white;position: relative;}#sk-container-id-1 div.sk-item::before, #sk-container-id-1 div.sk-parallel-item::before {content: \"\";position: absolute;border-left: 1px solid gray;box-sizing: border-box;top: 0;bottom: 0;left: 50%;z-index: -1;}#sk-container-id-1 div.sk-parallel-item {display: flex;flex-direction: column;z-index: 1;position: relative;background-color: white;}#sk-container-id-1 div.sk-parallel-item:first-child::after {align-self: flex-end;width: 50%;}#sk-container-id-1 div.sk-parallel-item:last-child::after {align-self: flex-start;width: 50%;}#sk-container-id-1 div.sk-parallel-item:only-child::after {width: 0;}#sk-container-id-1 div.sk-dashed-wrapped {border: 1px dashed gray;margin: 0 0.4em 0.5em 0.4em;box-sizing: border-box;padding-bottom: 0.4em;background-color: white;}#sk-container-id-1 div.sk-label label {font-family: monospace;font-weight: bold;display: inline-block;line-height: 1.2em;}#sk-container-id-1 div.sk-label-container {text-align: center;}#sk-container-id-1 div.sk-container {/* jupyter's `normalize.less` sets `[hidden] { display: none; }` but bootstrap.min.css set `[hidden] { display: none !important; }` so we also need the `!important` here to be able to override the default hidden behavior on the sphinx rendered scikit-learn.org. See: https://github.com/scikit-learn/scikit-learn/issues/21755 */display: inline-block !important;position: relative;}#sk-container-id-1 div.sk-text-repr-fallback {display: none;}</style><div id=\"sk-container-id-1\" class=\"sk-top-container\"><div class=\"sk-text-repr-fallback\"><pre>StackingClassifier(cv=5,\n",
       "                   estimators=[(&#x27;lr&#x27;, LogisticRegression(random_state=42)),\n",
       "                               (&#x27;rf&#x27;, RandomForestClassifier(random_state=42)),\n",
       "                               (&#x27;svc&#x27;, SVC(random_state=42))],\n",
       "                   final_estimator=RandomForestClassifier(random_state=42))</pre><b>In a Jupyter environment, please rerun this cell to show the HTML representation or trust the notebook. <br />On GitHub, the HTML representation is unable to render, please try loading this page with nbviewer.org.</b></div><div class=\"sk-container\" hidden><div class=\"sk-item sk-dashed-wrapped\"><div class=\"sk-label-container\"><div class=\"sk-label sk-toggleable\"><input class=\"sk-toggleable__control sk-hidden--visually\" id=\"sk-estimator-id-1\" type=\"checkbox\" ><label for=\"sk-estimator-id-1\" class=\"sk-toggleable__label sk-toggleable__label-arrow\">StackingClassifier</label><div class=\"sk-toggleable__content\"><pre>StackingClassifier(cv=5,\n",
       "                   estimators=[(&#x27;lr&#x27;, LogisticRegression(random_state=42)),\n",
       "                               (&#x27;rf&#x27;, RandomForestClassifier(random_state=42)),\n",
       "                               (&#x27;svc&#x27;, SVC(random_state=42))],\n",
       "                   final_estimator=RandomForestClassifier(random_state=42))</pre></div></div></div><div class=\"sk-serial\"><div class=\"sk-item\"><div class=\"sk-parallel\"><div class=\"sk-parallel-item\"><div class=\"sk-item\"><div class=\"sk-label-container\"><div class=\"sk-label sk-toggleable\"><label>lr</label></div></div><div class=\"sk-serial\"><div class=\"sk-item\"><div class=\"sk-estimator sk-toggleable\"><input class=\"sk-toggleable__control sk-hidden--visually\" id=\"sk-estimator-id-2\" type=\"checkbox\" ><label for=\"sk-estimator-id-2\" class=\"sk-toggleable__label sk-toggleable__label-arrow\">LogisticRegression</label><div class=\"sk-toggleable__content\"><pre>LogisticRegression(random_state=42)</pre></div></div></div></div></div></div><div class=\"sk-parallel-item\"><div class=\"sk-item\"><div class=\"sk-label-container\"><div class=\"sk-label sk-toggleable\"><label>rf</label></div></div><div class=\"sk-serial\"><div class=\"sk-item\"><div class=\"sk-estimator sk-toggleable\"><input class=\"sk-toggleable__control sk-hidden--visually\" id=\"sk-estimator-id-3\" type=\"checkbox\" ><label for=\"sk-estimator-id-3\" class=\"sk-toggleable__label sk-toggleable__label-arrow\">RandomForestClassifier</label><div class=\"sk-toggleable__content\"><pre>RandomForestClassifier(random_state=42)</pre></div></div></div></div></div></div><div class=\"sk-parallel-item\"><div class=\"sk-item\"><div class=\"sk-label-container\"><div class=\"sk-label sk-toggleable\"><label>svc</label></div></div><div class=\"sk-serial\"><div class=\"sk-item\"><div class=\"sk-estimator sk-toggleable\"><input class=\"sk-toggleable__control sk-hidden--visually\" id=\"sk-estimator-id-4\" type=\"checkbox\" ><label for=\"sk-estimator-id-4\" class=\"sk-toggleable__label sk-toggleable__label-arrow\">SVC</label><div class=\"sk-toggleable__content\"><pre>SVC(random_state=42)</pre></div></div></div></div></div></div></div></div><div class=\"sk-item\"><div class=\"sk-parallel\"><div class=\"sk-parallel-item\"><div class=\"sk-item\"><div class=\"sk-label-container\"><div class=\"sk-label sk-toggleable\"><label>final_estimator</label></div></div><div class=\"sk-serial\"><div class=\"sk-item\"><div class=\"sk-estimator sk-toggleable\"><input class=\"sk-toggleable__control sk-hidden--visually\" id=\"sk-estimator-id-5\" type=\"checkbox\" ><label for=\"sk-estimator-id-5\" class=\"sk-toggleable__label sk-toggleable__label-arrow\">RandomForestClassifier</label><div class=\"sk-toggleable__content\"><pre>RandomForestClassifier(random_state=42)</pre></div></div></div></div></div></div></div></div></div></div></div></div>"
      ],
      "text/plain": [
       "StackingClassifier(cv=5,\n",
       "                   estimators=[('lr', LogisticRegression(random_state=42)),\n",
       "                               ('rf', RandomForestClassifier(random_state=42)),\n",
       "                               ('svc', SVC(random_state=42))],\n",
       "                   final_estimator=RandomForestClassifier(random_state=42))"
      ]
     },
     "execution_count": 8,
     "metadata": {},
     "output_type": "execute_result"
    }
   ],
   "source": [
    "stacking_clf = StackingClassifier(\n",
    "    estimators=[\n",
    "        ('lr', LogisticRegression(random_state=42)),\n",
    "        ('rf', RandomForestClassifier(random_state=42)),\n",
    "        ('svc', SVC(random_state=42))\n",
    "    ],\n",
    "    final_estimator=RandomForestClassifier(random_state=42),\n",
    "    cv=5\n",
    ")\n",
    "stacking_clf.fit(X_train, y_train)"
   ]
  },
  {
   "cell_type": "code",
   "execution_count": null,
   "id": "4621590d-5a4e-4592-a5db-490c980b35b5",
   "metadata": {},
   "outputs": [],
   "source": [
    "# If we evaluate stacking model on the test set, we can get better accuracy than voting classifier with soft voting."
   ]
  },
  {
   "cell_type": "code",
   "execution_count": 10,
   "id": "2d6b5c24-e219-41a1-80f7-1cf941675053",
   "metadata": {},
   "outputs": [
    {
     "data": {
      "text/html": [
       "<h5>Ensemble methods are powerful and do well for heterogeneous tabular data with bery little preprocessing.</h5>\n"
      ],
      "text/plain": [
       "<IPython.core.display.HTML object>"
      ]
     },
     "metadata": {},
     "output_type": "display_data"
    }
   ],
   "source": [
    "%%HTML\n",
    "<h5>Ensemble methods are powerful and do well for heterogeneous tabular data with bery little preprocessing.</h5>"
   ]
  },
  {
   "cell_type": "code",
   "execution_count": null,
   "id": "f99c31ab-76de-4940-a015-290849f719b9",
   "metadata": {},
   "outputs": [],
   "source": []
  }
 ],
 "metadata": {
  "kernelspec": {
   "display_name": "Python 3 (ipykernel)",
   "language": "python",
   "name": "python3"
  },
  "language_info": {
   "codemirror_mode": {
    "name": "ipython",
    "version": 3
   },
   "file_extension": ".py",
   "mimetype": "text/x-python",
   "name": "python",
   "nbconvert_exporter": "python",
   "pygments_lexer": "ipython3",
   "version": "3.11.0rc1"
  }
 },
 "nbformat": 4,
 "nbformat_minor": 5
}
