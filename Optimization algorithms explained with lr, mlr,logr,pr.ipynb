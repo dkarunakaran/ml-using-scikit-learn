{
 "cells": [
  {
   "cell_type": "code",
   "execution_count": 7,
   "id": "e302bf3f-4b38-4d43-ad5e-843a73b93dbe",
   "metadata": {},
   "outputs": [
    {
     "data": {
      "text/html": [
       "Optimization is the problem of finding a set of inputs to an objective function that results in a maximum or minimum function evaluation.\n",
       "\n",
       "<h3>Gradient Descent</h3>\n",
       "<a href=\"https://medium.com/intro-to-artificial-intelligence/gradient-descent-algorithm-explained-with-linear-regression-example-ff6b5491fdb9\">Gradient descent optimization explained using linear regression example</a>\n",
       "The first image below explain the goal of the GD to minimize the cost/loss function by optimising the learning parameters(weights & biases). \n",
       "The second & third images explain the importance of right learning rate hyper parameter. \n",
       "<img src=\"images/gd1.jpg\" width=400 />\n",
       "<img src=\"images/gd2.jpg\" width=400 />\n"
      ],
      "text/plain": [
       "<IPython.core.display.HTML object>"
      ]
     },
     "metadata": {},
     "output_type": "display_data"
    }
   ],
   "source": [
    "%%HTML\n",
    "Optimization is the problem of finding a set of inputs to an objective function that results in a maximum or minimum function evaluation.\n",
    "\n",
    "<h3>Gradient Descent</h3>\n",
    "<a href=\"https://medium.com/intro-to-artificial-intelligence/gradient-descent-algorithm-explained-with-linear-regression-example-ff6b5491fdb9\">Gradient descent optimization explained using linear regression example</a>\n",
    "The first image below explain the goal of the GD to minimize the cost/loss function by optimising the learning parameters(weights & biases). \n",
    "The second & third images explain the importance of right learning rate hyper parameter. \n",
    "<img src=\"images/gd1.jpg\" width=400 />\n",
    "<img src=\"images/gd2.jpg\" width=400 />"
   ]
  },
  {
   "cell_type": "code",
   "execution_count": 9,
   "id": "a56a2e21-3f13-4cc7-b114-4a3fe6e3f4e7",
   "metadata": {},
   "outputs": [
    {
     "data": {
      "text/html": [
       "There is a pitafall in GD where algorithm may fall in local optimum thinking of it's a global optimum.\n",
       "<img src=\"images/gd3.jpg\" width=400 />\n"
      ],
      "text/plain": [
       "<IPython.core.display.HTML object>"
      ]
     },
     "metadata": {},
     "output_type": "display_data"
    }
   ],
   "source": [
    "%%html \n",
    "There is a pitafall in GD where algorithm may fall in local optimum thinking of it's a global optimum.\n",
    "<img src=\"images/gd3.jpg\" width=400 />\n"
   ]
  },
  {
   "cell_type": "code",
   "execution_count": 25,
   "id": "02be4b5f-dc57-473e-9906-4a577f60c683",
   "metadata": {},
   "outputs": [
    {
     "data": {
      "text/html": [
       "The gradient is a fancy word for derivative, or the rate of change of a function. \n",
       "In a univariate function(i.e. one feature(x) variable and a target(y) variable), it is computed by \n",
       "Gradient =  Change in Y/Change in X\n",
       " \t \t\n",
       "<img src=\"images/slope.svg\" width=400 />\n",
       "\n",
       "f(x) (i.e. a function) gives the y, we can say that gradient/derivative, in mathematics, is the rate of change of a function with respect to a variable. \n",
       "\n",
       "In higher dimension/ multivariate function, we have more than one variable, we need to compute the partial derivative of f(x) w.r.t each variable.\n",
       "Then gradient in the higher dimension is a vector of all partial derivatives. \n",
       "\n",
       "<br/>\n",
       "<br/>\n",
       "Consider the multivariable function f(x, y) = xy²+x³. We can find partial derivatives of the function that is derivatives of function wrt to each variable x and y(a bit of calculus knowledge is required to compute the partial derivatives).\n",
       "<img src=\"images/pd1.png\" width=400 />\n",
       "<img src=\"images/pd2.png\" width=400 />\n",
       "Gradient of f(x) is\n",
       "<img src=\"images/gradient_hd.png\" width=400 />\n"
      ],
      "text/plain": [
       "<IPython.core.display.HTML object>"
      ]
     },
     "metadata": {},
     "output_type": "display_data"
    }
   ],
   "source": [
    "%%html\n",
    "The gradient is a fancy word for derivative, or the rate of change of a function. \n",
    "In a univariate function(i.e. one feature(x) variable and a target(y) variable), it is computed by \n",
    "Gradient =  Change in Y/Change in X\n",
    " \t \t\n",
    "<img src=\"images/slope.svg\" width=400 />\n",
    "\n",
    "f(x) (i.e. a function) gives the y, we can say that gradient/derivative, in mathematics, is the rate of change of a function with respect to a variable. \n",
    "\n",
    "In higher dimension/ multivariate function, we have more than one variable, we need to compute the partial derivative of f(x) w.r.t each variable.\n",
    "Then gradient in the higher dimension is a vector of all partial derivatives. \n",
    "\n",
    "<br/>\n",
    "<br/>\n",
    "Consider the multivariable function f(x, y) = xy²+x³. We can find partial derivatives of the function that is derivatives of function wrt to each variable x and y(a bit of calculus knowledge is required to compute the partial derivatives).\n",
    "<img src=\"images/pd1.png\" width=400 />\n",
    "<img src=\"images/pd2.png\" width=400 />\n",
    "The gradient of f(x) is\n",
    "<img src=\"images/gradient_hd.png\" width=400 />"
   ]
  },
  {
   "cell_type": "code",
   "execution_count": 12,
   "id": "f1bb9ca3-69af-4ca6-997f-ff5c16c01842",
   "metadata": {},
   "outputs": [
    {
     "data": {
      "text/html": [
       "\n",
       "<b>Training a model means searching for a combination of model  parameters that minimizes a cost function. It is a search in the model's parameter space.\n",
       "The more parameters a model has, the more dimensions in this space have, and the harder the search.</b>\n"
      ],
      "text/plain": [
       "<IPython.core.display.HTML object>"
      ]
     },
     "metadata": {},
     "output_type": "display_data"
    }
   ],
   "source": [
    "%%HTML\n",
    "\n",
    "<b>Training a model means searching for a combination of model  parameters that minimizes a cost function. It is a search in the model's parameter space.\n",
    "The more parameters a model has, the more dimensions in this space have, and the harder the search.</b>"
   ]
  },
  {
   "cell_type": "code",
   "execution_count": 171,
   "id": "2b63d463-d9f7-4945-94e8-584b2819bf80",
   "metadata": {},
   "outputs": [
    {
     "data": {
      "text/html": [
       "<h3> Implementation of simple linear regression</h3>\n"
      ],
      "text/plain": [
       "<IPython.core.display.HTML object>"
      ]
     },
     "metadata": {},
     "output_type": "display_data"
    }
   ],
   "source": [
    "%%HTML\n",
    "<h3> Implementation of simple linear regression</h3>"
   ]
  },
  {
   "cell_type": "code",
   "execution_count": 38,
   "id": "88758051-e8d5-4984-8f60-c637562cc8fe",
   "metadata": {},
   "outputs": [
    {
     "data": {
      "text/html": [
       "The linear regression fits the best matching line to the data for the prediction. \n",
       "The formula for the line is y= wx+b. here we have one feature x and the outcome is y.\n",
       "so f(x) = mx+b, basically, here we need to find parameters, w & b, for fitting the line to the data. \n",
       "To compute the best parameter, we can check by adding different values to w & b and see the predicted y(y=wx+b) \n",
       "is similar to the ground truth.\n",
       "The checking can be done through a cost function, a simple cost function can be a squared error(i.e. (y^ - y)2). \n",
       "If we have m examples, we can take the average of the squared value. J here is the cost function with parameter w & b\n",
       "<img src=\"images/cost_lr2.png\" width=400 />\n",
       "In the gradient descent algorithm, we are trying to minimize the cost function by optimising the parameter. \n",
       "Each partial derivative(we call it gradient, even though the vector of partial derivatives is gradient) gives the rate of change and direction required to maximise the cost w.r.t the parameter(As the partial derivatives give the +ve direction to maximise). \n",
       "In order to compute the minimum, we need to reverse the direction(just hold on to that thought there).\n",
       "so, adding the current value of the parameter with the gradient of that parameter gives the next parameter value that maximise the cost. \n",
       "As we need to go in the reverse direction so instead of adding, we subtract.\n",
       "<img src=\"images/cost_lr1.png\" width=400 />\n",
       "Algorithm of gradient descent for LR:\n",
       "<img src=\"images/cost_lr3.jpg\" width=400 />\n",
       "The gradient can be computed using the following formula:\n",
       "<img src=\"images/cost_lr4.png\" width=400 />\n",
       "\n"
      ],
      "text/plain": [
       "<IPython.core.display.HTML object>"
      ]
     },
     "metadata": {},
     "output_type": "display_data"
    }
   ],
   "source": [
    "%%HTML\n",
    "The linear regression fits the best matching line to the data for the prediction. \n",
    "The formula for the line is y= wx+b. here we have one feature x and the outcome is y.\n",
    "so f(x) = mx+b, basically, here we need to find parameters, w & b, for fitting the line to the data. \n",
    "To compute the best parameter, we can check by adding different values to w & b and see the predicted y(y=wx+b) \n",
    "is similar to the ground truth.\n",
    "The checking can be done through a cost function, a simple cost function can be a squared error(i.e. (y^ - y)2). \n",
    "If we have m examples, we can take the average of the squared value. J here is the cost function with parameter w & b\n",
    "<img src=\"images/cost_lr2.png\" width=400 />\n",
    "In the gradient descent algorithm, we are trying to minimize the cost function by optimising the parameter. \n",
    "Each partial derivative(we call it gradient, even though the vector of partial derivatives is gradient) gives the rate of change and direction required to maximise the cost w.r.t the parameter(As the partial derivatives give the +ve direction to maximise). \n",
    "In order to compute the minimum, we need to reverse the direction(just hold on to that thought there).\n",
    "so, adding the current value of the parameter with the gradient of that parameter gives the next parameter value that maximise the cost. \n",
    "As we need to go in the reverse direction so instead of adding, we subtract.\n",
    "<img src=\"images/cost_lr1.png\" width=400 />\n",
    "Algorithm of gradient descent for LR:\n",
    "<img src=\"images/cost_lr3.jpg\" width=400 />\n",
    "The gradient can be computed using the following formula:\n",
    "<img src=\"images/cost_lr4.png\" width=400 />\n",
    "\n"
   ]
  },
  {
   "cell_type": "code",
   "execution_count": 43,
   "id": "79e55573-b150-4fa7-8a57-79cd0f3d8542",
   "metadata": {},
   "outputs": [],
   "source": [
    "from sklearn.datasets import fetch_california_housing\n",
    "housing = fetch_california_housing(as_frame=True)"
   ]
  },
  {
   "cell_type": "code",
   "execution_count": 44,
   "id": "8e17bd40-5c79-4f60-9fc4-98b3313d4c24",
   "metadata": {},
   "outputs": [
    {
     "data": {
      "text/html": [
       "<div>\n",
       "<style scoped>\n",
       "    .dataframe tbody tr th:only-of-type {\n",
       "        vertical-align: middle;\n",
       "    }\n",
       "\n",
       "    .dataframe tbody tr th {\n",
       "        vertical-align: top;\n",
       "    }\n",
       "\n",
       "    .dataframe thead th {\n",
       "        text-align: right;\n",
       "    }\n",
       "</style>\n",
       "<table border=\"1\" class=\"dataframe\">\n",
       "  <thead>\n",
       "    <tr style=\"text-align: right;\">\n",
       "      <th></th>\n",
       "      <th>MedInc</th>\n",
       "      <th>HouseAge</th>\n",
       "      <th>AveRooms</th>\n",
       "      <th>AveBedrms</th>\n",
       "      <th>Population</th>\n",
       "      <th>AveOccup</th>\n",
       "      <th>Latitude</th>\n",
       "      <th>Longitude</th>\n",
       "    </tr>\n",
       "  </thead>\n",
       "  <tbody>\n",
       "    <tr>\n",
       "      <th>0</th>\n",
       "      <td>8.3252</td>\n",
       "      <td>41.0</td>\n",
       "      <td>6.984127</td>\n",
       "      <td>1.023810</td>\n",
       "      <td>322.0</td>\n",
       "      <td>2.555556</td>\n",
       "      <td>37.88</td>\n",
       "      <td>-122.23</td>\n",
       "    </tr>\n",
       "    <tr>\n",
       "      <th>1</th>\n",
       "      <td>8.3014</td>\n",
       "      <td>21.0</td>\n",
       "      <td>6.238137</td>\n",
       "      <td>0.971880</td>\n",
       "      <td>2401.0</td>\n",
       "      <td>2.109842</td>\n",
       "      <td>37.86</td>\n",
       "      <td>-122.22</td>\n",
       "    </tr>\n",
       "    <tr>\n",
       "      <th>2</th>\n",
       "      <td>7.2574</td>\n",
       "      <td>52.0</td>\n",
       "      <td>8.288136</td>\n",
       "      <td>1.073446</td>\n",
       "      <td>496.0</td>\n",
       "      <td>2.802260</td>\n",
       "      <td>37.85</td>\n",
       "      <td>-122.24</td>\n",
       "    </tr>\n",
       "    <tr>\n",
       "      <th>3</th>\n",
       "      <td>5.6431</td>\n",
       "      <td>52.0</td>\n",
       "      <td>5.817352</td>\n",
       "      <td>1.073059</td>\n",
       "      <td>558.0</td>\n",
       "      <td>2.547945</td>\n",
       "      <td>37.85</td>\n",
       "      <td>-122.25</td>\n",
       "    </tr>\n",
       "    <tr>\n",
       "      <th>4</th>\n",
       "      <td>3.8462</td>\n",
       "      <td>52.0</td>\n",
       "      <td>6.281853</td>\n",
       "      <td>1.081081</td>\n",
       "      <td>565.0</td>\n",
       "      <td>2.181467</td>\n",
       "      <td>37.85</td>\n",
       "      <td>-122.25</td>\n",
       "    </tr>\n",
       "    <tr>\n",
       "      <th>...</th>\n",
       "      <td>...</td>\n",
       "      <td>...</td>\n",
       "      <td>...</td>\n",
       "      <td>...</td>\n",
       "      <td>...</td>\n",
       "      <td>...</td>\n",
       "      <td>...</td>\n",
       "      <td>...</td>\n",
       "    </tr>\n",
       "    <tr>\n",
       "      <th>20635</th>\n",
       "      <td>1.5603</td>\n",
       "      <td>25.0</td>\n",
       "      <td>5.045455</td>\n",
       "      <td>1.133333</td>\n",
       "      <td>845.0</td>\n",
       "      <td>2.560606</td>\n",
       "      <td>39.48</td>\n",
       "      <td>-121.09</td>\n",
       "    </tr>\n",
       "    <tr>\n",
       "      <th>20636</th>\n",
       "      <td>2.5568</td>\n",
       "      <td>18.0</td>\n",
       "      <td>6.114035</td>\n",
       "      <td>1.315789</td>\n",
       "      <td>356.0</td>\n",
       "      <td>3.122807</td>\n",
       "      <td>39.49</td>\n",
       "      <td>-121.21</td>\n",
       "    </tr>\n",
       "    <tr>\n",
       "      <th>20637</th>\n",
       "      <td>1.7000</td>\n",
       "      <td>17.0</td>\n",
       "      <td>5.205543</td>\n",
       "      <td>1.120092</td>\n",
       "      <td>1007.0</td>\n",
       "      <td>2.325635</td>\n",
       "      <td>39.43</td>\n",
       "      <td>-121.22</td>\n",
       "    </tr>\n",
       "    <tr>\n",
       "      <th>20638</th>\n",
       "      <td>1.8672</td>\n",
       "      <td>18.0</td>\n",
       "      <td>5.329513</td>\n",
       "      <td>1.171920</td>\n",
       "      <td>741.0</td>\n",
       "      <td>2.123209</td>\n",
       "      <td>39.43</td>\n",
       "      <td>-121.32</td>\n",
       "    </tr>\n",
       "    <tr>\n",
       "      <th>20639</th>\n",
       "      <td>2.3886</td>\n",
       "      <td>16.0</td>\n",
       "      <td>5.254717</td>\n",
       "      <td>1.162264</td>\n",
       "      <td>1387.0</td>\n",
       "      <td>2.616981</td>\n",
       "      <td>39.37</td>\n",
       "      <td>-121.24</td>\n",
       "    </tr>\n",
       "  </tbody>\n",
       "</table>\n",
       "<p>20640 rows × 8 columns</p>\n",
       "</div>"
      ],
      "text/plain": [
       "       MedInc  HouseAge  AveRooms  AveBedrms  Population  AveOccup  Latitude  \\\n",
       "0      8.3252      41.0  6.984127   1.023810       322.0  2.555556     37.88   \n",
       "1      8.3014      21.0  6.238137   0.971880      2401.0  2.109842     37.86   \n",
       "2      7.2574      52.0  8.288136   1.073446       496.0  2.802260     37.85   \n",
       "3      5.6431      52.0  5.817352   1.073059       558.0  2.547945     37.85   \n",
       "4      3.8462      52.0  6.281853   1.081081       565.0  2.181467     37.85   \n",
       "...       ...       ...       ...        ...         ...       ...       ...   \n",
       "20635  1.5603      25.0  5.045455   1.133333       845.0  2.560606     39.48   \n",
       "20636  2.5568      18.0  6.114035   1.315789       356.0  3.122807     39.49   \n",
       "20637  1.7000      17.0  5.205543   1.120092      1007.0  2.325635     39.43   \n",
       "20638  1.8672      18.0  5.329513   1.171920       741.0  2.123209     39.43   \n",
       "20639  2.3886      16.0  5.254717   1.162264      1387.0  2.616981     39.37   \n",
       "\n",
       "       Longitude  \n",
       "0        -122.23  \n",
       "1        -122.22  \n",
       "2        -122.24  \n",
       "3        -122.25  \n",
       "4        -122.25  \n",
       "...          ...  \n",
       "20635    -121.09  \n",
       "20636    -121.21  \n",
       "20637    -121.22  \n",
       "20638    -121.32  \n",
       "20639    -121.24  \n",
       "\n",
       "[20640 rows x 8 columns]"
      ]
     },
     "execution_count": 44,
     "metadata": {},
     "output_type": "execute_result"
    }
   ],
   "source": [
    "housing.data"
   ]
  },
  {
   "cell_type": "code",
   "execution_count": 45,
   "id": "322bcd96-6c0d-48ec-bd04-dcee678045f5",
   "metadata": {},
   "outputs": [
    {
     "data": {
      "text/plain": [
       "0        4.526\n",
       "1        3.585\n",
       "2        3.521\n",
       "3        3.413\n",
       "4        3.422\n",
       "         ...  \n",
       "20635    0.781\n",
       "20636    0.771\n",
       "20637    0.923\n",
       "20638    0.847\n",
       "20639    0.894\n",
       "Name: MedHouseVal, Length: 20640, dtype: float64"
      ]
     },
     "execution_count": 45,
     "metadata": {},
     "output_type": "execute_result"
    }
   ],
   "source": [
    "housing.target"
   ]
  },
  {
   "cell_type": "code",
   "execution_count": 85,
   "id": "f7805ad4-1bc2-4c18-a5d1-0b70e85bd77d",
   "metadata": {},
   "outputs": [
    {
     "data": {
      "text/plain": [
       "0      41.0\n",
       "1      21.0\n",
       "2      52.0\n",
       "3      52.0\n",
       "4      52.0\n",
       "       ... \n",
       "995    11.0\n",
       "996    25.0\n",
       "997    22.0\n",
       "998    17.0\n",
       "999    12.0\n",
       "Name: HouseAge, Length: 1000, dtype: float64"
      ]
     },
     "execution_count": 85,
     "metadata": {},
     "output_type": "execute_result"
    }
   ],
   "source": [
    "#For simple linear regression, we only consider one feature\n",
    "X = housing.data[\"HouseAge\"][:1000]\n",
    "Y = housing.target[:1000]\n",
    "X"
   ]
  },
  {
   "cell_type": "code",
   "execution_count": 127,
   "id": "aacf1c0a-6884-42a1-b7c4-e53a694f11f7",
   "metadata": {},
   "outputs": [],
   "source": [
    "def gradient_descent(w, b, X, Y, iterations = 10, learning_rate = 0.001):\n",
    "    w = 0\n",
    "    b = 0\n",
    "    m = X.shape[0]\n",
    "    # Estimation of optimal parameters \n",
    "    for k in range(iterations):\n",
    "        sum_for_w = 0\n",
    "        sum_for_b = 0\n",
    "        # We are computing the gradient w.r.t w & b\n",
    "        for i in range(m):\n",
    "            y_pred_i = w*X[i]+b \n",
    "            y_gt_i = Y[i]\n",
    "            sum_for_w += (y_pred_i-y_gt_i)* X[i]\n",
    "            sum_for_b += (y_pred_i-y_gt_i)\n",
    "        \n",
    "        grad_w = sum_for_w/m\n",
    "        grad_b = sum_for_b/m\n",
    "        w = w - (learning_rate* grad_w)    \n",
    "        b = b- (learning_rate * grad_b)\n",
    "\n",
    "    return w, b\n",
    "\n"
   ]
  },
  {
   "cell_type": "code",
   "execution_count": 128,
   "id": "f825ec9f-f293-451b-8469-f65191640e3c",
   "metadata": {},
   "outputs": [
    {
     "data": {
      "text/plain": [
       "(0.04841381460154124, 0.0038357696060325043)"
      ]
     },
     "execution_count": 128,
     "metadata": {},
     "output_type": "execute_result"
    }
   ],
   "source": [
    "gradient_descent(w,b,X,Y)"
   ]
  },
  {
   "cell_type": "code",
   "execution_count": 119,
   "id": "c36aacbd-331f-4b6c-be2f-e9a9085df147",
   "metadata": {},
   "outputs": [
    {
     "data": {
      "text/html": [
       "<div>\n",
       "<style scoped>\n",
       "    .dataframe tbody tr th:only-of-type {\n",
       "        vertical-align: middle;\n",
       "    }\n",
       "\n",
       "    .dataframe tbody tr th {\n",
       "        vertical-align: top;\n",
       "    }\n",
       "\n",
       "    .dataframe thead th {\n",
       "        text-align: right;\n",
       "    }\n",
       "</style>\n",
       "<table border=\"1\" class=\"dataframe\">\n",
       "  <thead>\n",
       "    <tr style=\"text-align: right;\">\n",
       "      <th></th>\n",
       "      <th>HouseAge</th>\n",
       "    </tr>\n",
       "  </thead>\n",
       "  <tbody>\n",
       "    <tr>\n",
       "      <th>0</th>\n",
       "      <td>41.0</td>\n",
       "    </tr>\n",
       "    <tr>\n",
       "      <th>1</th>\n",
       "      <td>21.0</td>\n",
       "    </tr>\n",
       "    <tr>\n",
       "      <th>2</th>\n",
       "      <td>52.0</td>\n",
       "    </tr>\n",
       "    <tr>\n",
       "      <th>3</th>\n",
       "      <td>52.0</td>\n",
       "    </tr>\n",
       "    <tr>\n",
       "      <th>4</th>\n",
       "      <td>52.0</td>\n",
       "    </tr>\n",
       "    <tr>\n",
       "      <th>...</th>\n",
       "      <td>...</td>\n",
       "    </tr>\n",
       "    <tr>\n",
       "      <th>995</th>\n",
       "      <td>11.0</td>\n",
       "    </tr>\n",
       "    <tr>\n",
       "      <th>996</th>\n",
       "      <td>25.0</td>\n",
       "    </tr>\n",
       "    <tr>\n",
       "      <th>997</th>\n",
       "      <td>22.0</td>\n",
       "    </tr>\n",
       "    <tr>\n",
       "      <th>998</th>\n",
       "      <td>17.0</td>\n",
       "    </tr>\n",
       "    <tr>\n",
       "      <th>999</th>\n",
       "      <td>12.0</td>\n",
       "    </tr>\n",
       "  </tbody>\n",
       "</table>\n",
       "<p>1000 rows × 1 columns</p>\n",
       "</div>"
      ],
      "text/plain": [
       "     HouseAge\n",
       "0        41.0\n",
       "1        21.0\n",
       "2        52.0\n",
       "3        52.0\n",
       "4        52.0\n",
       "..        ...\n",
       "995      11.0\n",
       "996      25.0\n",
       "997      22.0\n",
       "998      17.0\n",
       "999      12.0\n",
       "\n",
       "[1000 rows x 1 columns]"
      ]
     },
     "execution_count": 119,
     "metadata": {},
     "output_type": "execute_result"
    }
   ],
   "source": [
    "X.to_frame()"
   ]
  },
  {
   "cell_type": "code",
   "execution_count": 120,
   "id": "51e4398d-aa77-43ff-82ca-66d365c3bb6f",
   "metadata": {},
   "outputs": [],
   "source": [
    "# Using sklearn\n",
    "\n",
    "from sklearn.linear_model import LinearRegression\n",
    "from sklearn.pipeline import Pipeline\n",
    "from sklearn.impute import SimpleImputer\n",
    "from sklearn.preprocessing import StandardScaler\n",
    "from sklearn.preprocessing import OneHotEncoder\n",
    "from sklearn.compose import ColumnTransformer\n",
    "\n",
    "linear_reg = LinearRegression()\n",
    "\n",
    "num_attribs = [\"HouseAge\"]\n",
    "cat_attribs = []\n",
    "num_pipeline = Pipeline([\n",
    "    (\"impute\", SimpleImputer(strategy=\"median\")),\n",
    "    (\"standardize\", StandardScaler())\n",
    "])\n",
    "cat_pipeline = Pipeline([\n",
    "    (\"impute\", SimpleImputer(strategy=\"most_frequent\")),\n",
    "    (\"one_hot_encoding\", OneHotEncoder(handle_unknown=\"ignore\"))\n",
    "])\n",
    "feature_engineering = ColumnTransformer([\n",
    "    (\"num\", num_pipeline, num_attribs),\n",
    "    (\"cat\", cat_pipeline, cat_attribs)\n",
    "])\n",
    "\n",
    "linear_reg  = Pipeline([\n",
    "    (\"feature_engineering\", feature_engineering),\n",
    "    (\"model\", linear_reg)\n",
    "])\n",
    "\n",
    "reg = linear_reg.fit(X.to_frame(),Y) #X.to_frame() it expects a 2d array(n_samples, n_features) that is df not the series(1d array)"
   ]
  },
  {
   "cell_type": "code",
   "execution_count": 118,
   "id": "c9b49835-ed05-4fa3-ba6d-9635529e3cb8",
   "metadata": {},
   "outputs": [
    {
     "data": {
      "text/plain": [
       "2.445421830407677"
      ]
     },
     "execution_count": 118,
     "metadata": {},
     "output_type": "execute_result"
    }
   ],
   "source": [
    "reg['model'].coef_\n",
    "reg['model'].intercept_"
   ]
  },
  {
   "cell_type": "code",
   "execution_count": 137,
   "id": "566d7f29-e550-4220-96fa-3bb838c46231",
   "metadata": {},
   "outputs": [
    {
     "data": {
      "text/html": [
       "<h4> Implementation of multivariate linear regression</h4>\n",
       "Univariate linear regression means we have only one feature in the input, x. \n",
       "For instance, house prices prediction example in the previous article had only one feature in x which is the age of the house. \n",
       "In the case of multiple linear regression, there could be n number of features. \n",
       "For instance, the number of rooms, size of the house etc. \n",
       "In other words, we can say each training example will have n number of columns as opposed to a single value for the univariate linear regression.\n",
       "<br/>\n",
       "So we can represent the multiple features in a vector.\n",
       "<img src=\"images/mult_lr1.png\" width=400 />   \n",
       "So, we can represent the multiple linear regression in the below formula:\n",
       "<img src=\"images/mult_lr2.png\" width=400 />  \n",
       "As it is clear from the above picture, there is a vector of weights that need to be computed along with b to solve the problem.\n",
       "<img src=\"images/mult_lr3.png\" width=400 />  \n",
       "\n",
       "We can say that there are j number of w and a bias parameters.\n",
       "<img src=\"images/mult_lr4.png\" width=400 />  \n",
       "\n",
       "So, now we can expand the above algorithm by filling the gradient with corresponding equation.\n",
       "<img src=\"images/mult_lr5.png\" width=400 />  \n"
      ],
      "text/plain": [
       "<IPython.core.display.HTML object>"
      ]
     },
     "metadata": {},
     "output_type": "display_data"
    }
   ],
   "source": [
    "%%HTML\n",
    "<h3> Implementation of multivariate linear regression</h3>\n",
    "Univariate linear regression means we have only one feature in the input, x. \n",
    "For instance, the house price prediction example in the previous article had only one feature in x which is the age of the house. \n",
    "In the case of multiple linear regression, there could be n number of features. \n",
    "For instance, the number of rooms, size of the house etc. \n",
    "In other words, we can say each training example will have n number of columns as opposed to a single value for the univariate linear regression.\n",
    "<br/>\n",
    "So we can represent the multiple features in a vector.\n",
    "<img src=\"images/mult_lr1.png\" width=400 />   \n",
    "So, we can represent the multiple linear regression in the below formula:\n",
    "<img src=\"images/mult_lr2.png\" width=400 />  \n",
    "As it is clear from the above picture, there is a vector of weights that need to be computed along with b to solve the problem.\n",
    "<img src=\"images/mult_lr3.png\" width=400 />  \n",
    "\n",
    "We can say that there are j number of w and a bias parameters.\n",
    "<img src=\"images/mult_lr4.png\" width=400 />  \n",
    "\n",
    "So, now we can expand the above algorithm by filling the gradient with the corresponding equation.\n",
    "<img src=\"images/mult_lr5.png\" width=400 />  "
   ]
  },
  {
   "cell_type": "code",
   "execution_count": 138,
   "id": "9dcff1b7-4d9d-46aa-9996-e8924a927cc4",
   "metadata": {},
   "outputs": [
    {
     "data": {
      "text/html": [
       "<div>\n",
       "<style scoped>\n",
       "    .dataframe tbody tr th:only-of-type {\n",
       "        vertical-align: middle;\n",
       "    }\n",
       "\n",
       "    .dataframe tbody tr th {\n",
       "        vertical-align: top;\n",
       "    }\n",
       "\n",
       "    .dataframe thead th {\n",
       "        text-align: right;\n",
       "    }\n",
       "</style>\n",
       "<table border=\"1\" class=\"dataframe\">\n",
       "  <thead>\n",
       "    <tr style=\"text-align: right;\">\n",
       "      <th></th>\n",
       "      <th>MedInc</th>\n",
       "      <th>HouseAge</th>\n",
       "      <th>AveRooms</th>\n",
       "      <th>AveBedrms</th>\n",
       "      <th>Population</th>\n",
       "      <th>AveOccup</th>\n",
       "      <th>Latitude</th>\n",
       "      <th>Longitude</th>\n",
       "    </tr>\n",
       "  </thead>\n",
       "  <tbody>\n",
       "    <tr>\n",
       "      <th>0</th>\n",
       "      <td>8.3252</td>\n",
       "      <td>41.0</td>\n",
       "      <td>6.984127</td>\n",
       "      <td>1.023810</td>\n",
       "      <td>322.0</td>\n",
       "      <td>2.555556</td>\n",
       "      <td>37.88</td>\n",
       "      <td>-122.23</td>\n",
       "    </tr>\n",
       "    <tr>\n",
       "      <th>1</th>\n",
       "      <td>8.3014</td>\n",
       "      <td>21.0</td>\n",
       "      <td>6.238137</td>\n",
       "      <td>0.971880</td>\n",
       "      <td>2401.0</td>\n",
       "      <td>2.109842</td>\n",
       "      <td>37.86</td>\n",
       "      <td>-122.22</td>\n",
       "    </tr>\n",
       "    <tr>\n",
       "      <th>2</th>\n",
       "      <td>7.2574</td>\n",
       "      <td>52.0</td>\n",
       "      <td>8.288136</td>\n",
       "      <td>1.073446</td>\n",
       "      <td>496.0</td>\n",
       "      <td>2.802260</td>\n",
       "      <td>37.85</td>\n",
       "      <td>-122.24</td>\n",
       "    </tr>\n",
       "    <tr>\n",
       "      <th>3</th>\n",
       "      <td>5.6431</td>\n",
       "      <td>52.0</td>\n",
       "      <td>5.817352</td>\n",
       "      <td>1.073059</td>\n",
       "      <td>558.0</td>\n",
       "      <td>2.547945</td>\n",
       "      <td>37.85</td>\n",
       "      <td>-122.25</td>\n",
       "    </tr>\n",
       "    <tr>\n",
       "      <th>4</th>\n",
       "      <td>3.8462</td>\n",
       "      <td>52.0</td>\n",
       "      <td>6.281853</td>\n",
       "      <td>1.081081</td>\n",
       "      <td>565.0</td>\n",
       "      <td>2.181467</td>\n",
       "      <td>37.85</td>\n",
       "      <td>-122.25</td>\n",
       "    </tr>\n",
       "    <tr>\n",
       "      <th>...</th>\n",
       "      <td>...</td>\n",
       "      <td>...</td>\n",
       "      <td>...</td>\n",
       "      <td>...</td>\n",
       "      <td>...</td>\n",
       "      <td>...</td>\n",
       "      <td>...</td>\n",
       "      <td>...</td>\n",
       "    </tr>\n",
       "    <tr>\n",
       "      <th>20635</th>\n",
       "      <td>1.5603</td>\n",
       "      <td>25.0</td>\n",
       "      <td>5.045455</td>\n",
       "      <td>1.133333</td>\n",
       "      <td>845.0</td>\n",
       "      <td>2.560606</td>\n",
       "      <td>39.48</td>\n",
       "      <td>-121.09</td>\n",
       "    </tr>\n",
       "    <tr>\n",
       "      <th>20636</th>\n",
       "      <td>2.5568</td>\n",
       "      <td>18.0</td>\n",
       "      <td>6.114035</td>\n",
       "      <td>1.315789</td>\n",
       "      <td>356.0</td>\n",
       "      <td>3.122807</td>\n",
       "      <td>39.49</td>\n",
       "      <td>-121.21</td>\n",
       "    </tr>\n",
       "    <tr>\n",
       "      <th>20637</th>\n",
       "      <td>1.7000</td>\n",
       "      <td>17.0</td>\n",
       "      <td>5.205543</td>\n",
       "      <td>1.120092</td>\n",
       "      <td>1007.0</td>\n",
       "      <td>2.325635</td>\n",
       "      <td>39.43</td>\n",
       "      <td>-121.22</td>\n",
       "    </tr>\n",
       "    <tr>\n",
       "      <th>20638</th>\n",
       "      <td>1.8672</td>\n",
       "      <td>18.0</td>\n",
       "      <td>5.329513</td>\n",
       "      <td>1.171920</td>\n",
       "      <td>741.0</td>\n",
       "      <td>2.123209</td>\n",
       "      <td>39.43</td>\n",
       "      <td>-121.32</td>\n",
       "    </tr>\n",
       "    <tr>\n",
       "      <th>20639</th>\n",
       "      <td>2.3886</td>\n",
       "      <td>16.0</td>\n",
       "      <td>5.254717</td>\n",
       "      <td>1.162264</td>\n",
       "      <td>1387.0</td>\n",
       "      <td>2.616981</td>\n",
       "      <td>39.37</td>\n",
       "      <td>-121.24</td>\n",
       "    </tr>\n",
       "  </tbody>\n",
       "</table>\n",
       "<p>20640 rows × 8 columns</p>\n",
       "</div>"
      ],
      "text/plain": [
       "       MedInc  HouseAge  AveRooms  AveBedrms  Population  AveOccup  Latitude  \\\n",
       "0      8.3252      41.0  6.984127   1.023810       322.0  2.555556     37.88   \n",
       "1      8.3014      21.0  6.238137   0.971880      2401.0  2.109842     37.86   \n",
       "2      7.2574      52.0  8.288136   1.073446       496.0  2.802260     37.85   \n",
       "3      5.6431      52.0  5.817352   1.073059       558.0  2.547945     37.85   \n",
       "4      3.8462      52.0  6.281853   1.081081       565.0  2.181467     37.85   \n",
       "...       ...       ...       ...        ...         ...       ...       ...   \n",
       "20635  1.5603      25.0  5.045455   1.133333       845.0  2.560606     39.48   \n",
       "20636  2.5568      18.0  6.114035   1.315789       356.0  3.122807     39.49   \n",
       "20637  1.7000      17.0  5.205543   1.120092      1007.0  2.325635     39.43   \n",
       "20638  1.8672      18.0  5.329513   1.171920       741.0  2.123209     39.43   \n",
       "20639  2.3886      16.0  5.254717   1.162264      1387.0  2.616981     39.37   \n",
       "\n",
       "       Longitude  \n",
       "0        -122.23  \n",
       "1        -122.22  \n",
       "2        -122.24  \n",
       "3        -122.25  \n",
       "4        -122.25  \n",
       "...          ...  \n",
       "20635    -121.09  \n",
       "20636    -121.21  \n",
       "20637    -121.22  \n",
       "20638    -121.32  \n",
       "20639    -121.24  \n",
       "\n",
       "[20640 rows x 8 columns]"
      ]
     },
     "execution_count": 138,
     "metadata": {},
     "output_type": "execute_result"
    }
   ],
   "source": [
    "housing.data"
   ]
  },
  {
   "cell_type": "code",
   "execution_count": 140,
   "id": "e5cfca04-59b5-4825-be78-59b798cff1a8",
   "metadata": {},
   "outputs": [],
   "source": [
    "X = housing.data[:100]\n",
    "Y = housing.target[:100]"
   ]
  },
  {
   "cell_type": "code",
   "execution_count": 141,
   "id": "212562b0-5d46-4ae1-94d1-1d875d9d9de5",
   "metadata": {},
   "outputs": [
    {
     "data": {
      "text/html": [
       "<div>\n",
       "<style scoped>\n",
       "    .dataframe tbody tr th:only-of-type {\n",
       "        vertical-align: middle;\n",
       "    }\n",
       "\n",
       "    .dataframe tbody tr th {\n",
       "        vertical-align: top;\n",
       "    }\n",
       "\n",
       "    .dataframe thead th {\n",
       "        text-align: right;\n",
       "    }\n",
       "</style>\n",
       "<table border=\"1\" class=\"dataframe\">\n",
       "  <thead>\n",
       "    <tr style=\"text-align: right;\">\n",
       "      <th></th>\n",
       "      <th>MedInc</th>\n",
       "      <th>HouseAge</th>\n",
       "      <th>AveRooms</th>\n",
       "      <th>AveBedrms</th>\n",
       "      <th>Population</th>\n",
       "      <th>AveOccup</th>\n",
       "      <th>Latitude</th>\n",
       "      <th>Longitude</th>\n",
       "    </tr>\n",
       "  </thead>\n",
       "  <tbody>\n",
       "    <tr>\n",
       "      <th>0</th>\n",
       "      <td>8.3252</td>\n",
       "      <td>41.0</td>\n",
       "      <td>6.984127</td>\n",
       "      <td>1.023810</td>\n",
       "      <td>322.0</td>\n",
       "      <td>2.555556</td>\n",
       "      <td>37.88</td>\n",
       "      <td>-122.23</td>\n",
       "    </tr>\n",
       "    <tr>\n",
       "      <th>1</th>\n",
       "      <td>8.3014</td>\n",
       "      <td>21.0</td>\n",
       "      <td>6.238137</td>\n",
       "      <td>0.971880</td>\n",
       "      <td>2401.0</td>\n",
       "      <td>2.109842</td>\n",
       "      <td>37.86</td>\n",
       "      <td>-122.22</td>\n",
       "    </tr>\n",
       "    <tr>\n",
       "      <th>2</th>\n",
       "      <td>7.2574</td>\n",
       "      <td>52.0</td>\n",
       "      <td>8.288136</td>\n",
       "      <td>1.073446</td>\n",
       "      <td>496.0</td>\n",
       "      <td>2.802260</td>\n",
       "      <td>37.85</td>\n",
       "      <td>-122.24</td>\n",
       "    </tr>\n",
       "    <tr>\n",
       "      <th>3</th>\n",
       "      <td>5.6431</td>\n",
       "      <td>52.0</td>\n",
       "      <td>5.817352</td>\n",
       "      <td>1.073059</td>\n",
       "      <td>558.0</td>\n",
       "      <td>2.547945</td>\n",
       "      <td>37.85</td>\n",
       "      <td>-122.25</td>\n",
       "    </tr>\n",
       "    <tr>\n",
       "      <th>4</th>\n",
       "      <td>3.8462</td>\n",
       "      <td>52.0</td>\n",
       "      <td>6.281853</td>\n",
       "      <td>1.081081</td>\n",
       "      <td>565.0</td>\n",
       "      <td>2.181467</td>\n",
       "      <td>37.85</td>\n",
       "      <td>-122.25</td>\n",
       "    </tr>\n",
       "    <tr>\n",
       "      <th>...</th>\n",
       "      <td>...</td>\n",
       "      <td>...</td>\n",
       "      <td>...</td>\n",
       "      <td>...</td>\n",
       "      <td>...</td>\n",
       "      <td>...</td>\n",
       "      <td>...</td>\n",
       "      <td>...</td>\n",
       "    </tr>\n",
       "    <tr>\n",
       "      <th>95</th>\n",
       "      <td>2.0096</td>\n",
       "      <td>36.0</td>\n",
       "      <td>2.294016</td>\n",
       "      <td>1.066294</td>\n",
       "      <td>3469.0</td>\n",
       "      <td>1.493328</td>\n",
       "      <td>37.80</td>\n",
       "      <td>-122.26</td>\n",
       "    </tr>\n",
       "    <tr>\n",
       "      <th>96</th>\n",
       "      <td>2.8345</td>\n",
       "      <td>31.0</td>\n",
       "      <td>3.894915</td>\n",
       "      <td>1.127966</td>\n",
       "      <td>2048.0</td>\n",
       "      <td>1.735593</td>\n",
       "      <td>37.82</td>\n",
       "      <td>-122.26</td>\n",
       "    </tr>\n",
       "    <tr>\n",
       "      <th>97</th>\n",
       "      <td>2.0062</td>\n",
       "      <td>29.0</td>\n",
       "      <td>3.681319</td>\n",
       "      <td>1.175824</td>\n",
       "      <td>202.0</td>\n",
       "      <td>2.219780</td>\n",
       "      <td>37.81</td>\n",
       "      <td>-122.26</td>\n",
       "    </tr>\n",
       "    <tr>\n",
       "      <th>98</th>\n",
       "      <td>1.2185</td>\n",
       "      <td>22.0</td>\n",
       "      <td>2.945600</td>\n",
       "      <td>1.016000</td>\n",
       "      <td>2024.0</td>\n",
       "      <td>1.619200</td>\n",
       "      <td>37.82</td>\n",
       "      <td>-122.26</td>\n",
       "    </tr>\n",
       "    <tr>\n",
       "      <th>99</th>\n",
       "      <td>2.6104</td>\n",
       "      <td>37.0</td>\n",
       "      <td>3.707143</td>\n",
       "      <td>1.107143</td>\n",
       "      <td>1838.0</td>\n",
       "      <td>1.875510</td>\n",
       "      <td>37.82</td>\n",
       "      <td>-122.26</td>\n",
       "    </tr>\n",
       "  </tbody>\n",
       "</table>\n",
       "<p>100 rows × 8 columns</p>\n",
       "</div>"
      ],
      "text/plain": [
       "    MedInc  HouseAge  AveRooms  AveBedrms  Population  AveOccup  Latitude  \\\n",
       "0   8.3252      41.0  6.984127   1.023810       322.0  2.555556     37.88   \n",
       "1   8.3014      21.0  6.238137   0.971880      2401.0  2.109842     37.86   \n",
       "2   7.2574      52.0  8.288136   1.073446       496.0  2.802260     37.85   \n",
       "3   5.6431      52.0  5.817352   1.073059       558.0  2.547945     37.85   \n",
       "4   3.8462      52.0  6.281853   1.081081       565.0  2.181467     37.85   \n",
       "..     ...       ...       ...        ...         ...       ...       ...   \n",
       "95  2.0096      36.0  2.294016   1.066294      3469.0  1.493328     37.80   \n",
       "96  2.8345      31.0  3.894915   1.127966      2048.0  1.735593     37.82   \n",
       "97  2.0062      29.0  3.681319   1.175824       202.0  2.219780     37.81   \n",
       "98  1.2185      22.0  2.945600   1.016000      2024.0  1.619200     37.82   \n",
       "99  2.6104      37.0  3.707143   1.107143      1838.0  1.875510     37.82   \n",
       "\n",
       "    Longitude  \n",
       "0     -122.23  \n",
       "1     -122.22  \n",
       "2     -122.24  \n",
       "3     -122.25  \n",
       "4     -122.25  \n",
       "..        ...  \n",
       "95    -122.26  \n",
       "96    -122.26  \n",
       "97    -122.26  \n",
       "98    -122.26  \n",
       "99    -122.26  \n",
       "\n",
       "[100 rows x 8 columns]"
      ]
     },
     "execution_count": 141,
     "metadata": {},
     "output_type": "execute_result"
    }
   ],
   "source": [
    "X"
   ]
  },
  {
   "cell_type": "code",
   "execution_count": 150,
   "id": "f875bb87-1fc5-4a4e-be8d-65ed5d5dc183",
   "metadata": {},
   "outputs": [
    {
     "data": {
      "text/html": [
       "We can simply calculate the multivariate linear regression using linear Algerbra & Numpy.\n",
       "<a href=\"https://eli.thegreenplace.net/2014/derivation-of-the-normal-equation-for-linear-regression\">Based on linear algebra</a>, \n",
       "We can compute the weight vector, w using the following equation. Tn the equation beta means w.\n",
       "<img src=\"images/mult_lr_4.png\" width=400 />\n"
      ],
      "text/plain": [
       "<IPython.core.display.HTML object>"
      ]
     },
     "metadata": {},
     "output_type": "display_data"
    }
   ],
   "source": [
    "%%HTML\n",
    "We can simply calculate the multivariate linear regression using linear Algerbra & Numpy.\n",
    "<a href=\"https://eli.thegreenplace.net/2014/derivation-of-the-normal-equation-for-linear-regression\">Based on linear algebra</a>, \n",
    "We can compute the weight vector, w using the following equation. Tn the equation beta means w.\n",
    "<img src=\"images/mult_lr_4.png\" width=400 />"
   ]
  },
  {
   "cell_type": "code",
   "execution_count": 151,
   "id": "bc47c8bb-270a-418a-b6e1-6b8bcb5823d2",
   "metadata": {},
   "outputs": [],
   "source": [
    "# We can compute the above equation using numpy: https://medium.com/analytics-vidhya/multiple-linear-regression-from-scratch-using-only-numpy-98fc010a1926\n",
    "\n",
    "def normal_equation(X, Y):\n",
    "    return np.dot(np.linalg.inv(np.dot(X.T,X)),np.dot(X.T,Y))"
   ]
  },
  {
   "cell_type": "code",
   "execution_count": 152,
   "id": "15a27ebd-615e-4328-a490-7366bc160a83",
   "metadata": {},
   "outputs": [],
   "source": [
    "def predict(X_test, w):\n",
    "    return np.dot(X_test, w) # y= W.X and it's a simple equation without n\n"
   ]
  },
  {
   "cell_type": "code",
   "execution_count": 155,
   "id": "e506f44b-24e1-4a7f-be78-44c9903cfba8",
   "metadata": {},
   "outputs": [
    {
     "name": "stdout",
     "output_type": "stream",
     "text": [
      "[ 3.36813722e-01 -3.41972170e-03 -1.78045034e-01 -8.37655209e-03\n",
      "  3.14047110e-05  1.07360358e-01  1.10133347e+01  3.39516108e+00]\n"
     ]
    }
   ],
   "source": [
    "W = normal_equation(X, Y) # W vector\n",
    "predict(X[:1], W)\n",
    "print(w)"
   ]
  },
  {
   "cell_type": "code",
   "execution_count": 159,
   "id": "8cd15736-852d-4137-9772-bf598243ae99",
   "metadata": {},
   "outputs": [],
   "source": [
    "# Using sklearn\n",
    "\n",
    "from sklearn.linear_model import LinearRegression\n",
    "from sklearn.pipeline import Pipeline\n",
    "from sklearn.impute import SimpleImputer\n",
    "from sklearn.preprocessing import StandardScaler\n",
    "from sklearn.preprocessing import OneHotEncoder\n",
    "from sklearn.compose import ColumnTransformer\n",
    "\n",
    "linear_reg = LinearRegression()\n",
    "\n",
    "num_attribs = X.columns.to_list()\n",
    "cat_attribs = []\n",
    "num_pipeline = Pipeline([\n",
    "    (\"impute\", SimpleImputer(strategy=\"median\")),\n",
    "    (\"standardize\", StandardScaler())\n",
    "])\n",
    "cat_pipeline = Pipeline([\n",
    "    (\"impute\", SimpleImputer(strategy=\"most_frequent\")),\n",
    "    (\"one_hot_encoding\", OneHotEncoder(handle_unknown=\"ignore\"))\n",
    "])\n",
    "feature_engineering = ColumnTransformer([\n",
    "    (\"num\", num_pipeline, num_attribs),\n",
    "    (\"cat\", cat_pipeline, cat_attribs)\n",
    "])\n",
    "\n",
    "linear_reg  = Pipeline([\n",
    "    (\"feature_engineering\", feature_engineering),\n",
    "    (\"model\", linear_reg)\n",
    "])\n",
    "\n",
    "reg = linear_reg.fit(X,Y)"
   ]
  },
  {
   "cell_type": "code",
   "execution_count": 162,
   "id": "acb99762-eab0-4f5f-aa9c-4d1cf32c34b2",
   "metadata": {},
   "outputs": [
    {
     "data": {
      "text/plain": [
       "array([ 0.19059518, -0.00455346,  0.08597936, -0.12854725, -0.07961133,\n",
       "        0.08922712, -0.14322397,  0.57821715])"
      ]
     },
     "execution_count": 162,
     "metadata": {},
     "output_type": "execute_result"
    }
   ],
   "source": [
    "reg['model'].coef_"
   ]
  },
  {
   "cell_type": "code",
   "execution_count": 205,
   "id": "2821d660-0010-48db-8b65-b658f0fe9332",
   "metadata": {},
   "outputs": [
    {
     "data": {
      "text/html": [
       "<h3> Implementation of ploynomial regression</h3>\n",
       "Not all data can be fit with a line. So we need to add nonlinearity (curvature) to fit the data. Polynomial regression can fit a non-linear (curvature) on data.\n",
       "The equation of polynomial regression that fits the cubic function on the data with one feature is:\n",
       "f_w,b(x) = w1x+w2^x2+w3x^3\n"
      ],
      "text/plain": [
       "<IPython.core.display.HTML object>"
      ]
     },
     "metadata": {},
     "output_type": "display_data"
    }
   ],
   "source": [
    "%%HTML\n",
    "<h3> Implementation of ploynomial regression</h3>\n",
    "Not all data can be fit with a line. So we need to add nonlinearity (curvature) to fit the data. Polynomial regression can fit a non-linear (curvature) on data.\n",
    "The equation of polynomial regression that fits the cubic function on the data with one feature is:\n",
    "f_w,b(x) = w1x+w2^x2+w3x^3"
   ]
  },
  {
   "cell_type": "code",
   "execution_count": 195,
   "id": "db0a1a5f-80a7-4261-856a-bd4a6cb8e4d5",
   "metadata": {},
   "outputs": [
    {
     "data": {
      "text/html": [
       "<style>#sk-container-id-6 {color: black;}#sk-container-id-6 pre{padding: 0;}#sk-container-id-6 div.sk-toggleable {background-color: white;}#sk-container-id-6 label.sk-toggleable__label {cursor: pointer;display: block;width: 100%;margin-bottom: 0;padding: 0.3em;box-sizing: border-box;text-align: center;}#sk-container-id-6 label.sk-toggleable__label-arrow:before {content: \"▸\";float: left;margin-right: 0.25em;color: #696969;}#sk-container-id-6 label.sk-toggleable__label-arrow:hover:before {color: black;}#sk-container-id-6 div.sk-estimator:hover label.sk-toggleable__label-arrow:before {color: black;}#sk-container-id-6 div.sk-toggleable__content {max-height: 0;max-width: 0;overflow: hidden;text-align: left;background-color: #f0f8ff;}#sk-container-id-6 div.sk-toggleable__content pre {margin: 0.2em;color: black;border-radius: 0.25em;background-color: #f0f8ff;}#sk-container-id-6 input.sk-toggleable__control:checked~div.sk-toggleable__content {max-height: 200px;max-width: 100%;overflow: auto;}#sk-container-id-6 input.sk-toggleable__control:checked~label.sk-toggleable__label-arrow:before {content: \"▾\";}#sk-container-id-6 div.sk-estimator input.sk-toggleable__control:checked~label.sk-toggleable__label {background-color: #d4ebff;}#sk-container-id-6 div.sk-label input.sk-toggleable__control:checked~label.sk-toggleable__label {background-color: #d4ebff;}#sk-container-id-6 input.sk-hidden--visually {border: 0;clip: rect(1px 1px 1px 1px);clip: rect(1px, 1px, 1px, 1px);height: 1px;margin: -1px;overflow: hidden;padding: 0;position: absolute;width: 1px;}#sk-container-id-6 div.sk-estimator {font-family: monospace;background-color: #f0f8ff;border: 1px dotted black;border-radius: 0.25em;box-sizing: border-box;margin-bottom: 0.5em;}#sk-container-id-6 div.sk-estimator:hover {background-color: #d4ebff;}#sk-container-id-6 div.sk-parallel-item::after {content: \"\";width: 100%;border-bottom: 1px solid gray;flex-grow: 1;}#sk-container-id-6 div.sk-label:hover label.sk-toggleable__label {background-color: #d4ebff;}#sk-container-id-6 div.sk-serial::before {content: \"\";position: absolute;border-left: 1px solid gray;box-sizing: border-box;top: 0;bottom: 0;left: 50%;z-index: 0;}#sk-container-id-6 div.sk-serial {display: flex;flex-direction: column;align-items: center;background-color: white;padding-right: 0.2em;padding-left: 0.2em;position: relative;}#sk-container-id-6 div.sk-item {position: relative;z-index: 1;}#sk-container-id-6 div.sk-parallel {display: flex;align-items: stretch;justify-content: center;background-color: white;position: relative;}#sk-container-id-6 div.sk-item::before, #sk-container-id-6 div.sk-parallel-item::before {content: \"\";position: absolute;border-left: 1px solid gray;box-sizing: border-box;top: 0;bottom: 0;left: 50%;z-index: -1;}#sk-container-id-6 div.sk-parallel-item {display: flex;flex-direction: column;z-index: 1;position: relative;background-color: white;}#sk-container-id-6 div.sk-parallel-item:first-child::after {align-self: flex-end;width: 50%;}#sk-container-id-6 div.sk-parallel-item:last-child::after {align-self: flex-start;width: 50%;}#sk-container-id-6 div.sk-parallel-item:only-child::after {width: 0;}#sk-container-id-6 div.sk-dashed-wrapped {border: 1px dashed gray;margin: 0 0.4em 0.5em 0.4em;box-sizing: border-box;padding-bottom: 0.4em;background-color: white;}#sk-container-id-6 div.sk-label label {font-family: monospace;font-weight: bold;display: inline-block;line-height: 1.2em;}#sk-container-id-6 div.sk-label-container {text-align: center;}#sk-container-id-6 div.sk-container {/* jupyter's `normalize.less` sets `[hidden] { display: none; }` but bootstrap.min.css set `[hidden] { display: none !important; }` so we also need the `!important` here to be able to override the default hidden behavior on the sphinx rendered scikit-learn.org. See: https://github.com/scikit-learn/scikit-learn/issues/21755 */display: inline-block !important;position: relative;}#sk-container-id-6 div.sk-text-repr-fallback {display: none;}</style><div id=\"sk-container-id-6\" class=\"sk-top-container\"><div class=\"sk-text-repr-fallback\"><pre>Pipeline(steps=[(&#x27;poly_features&#x27;,\n",
       "                 PolynomialFeatures(degree=3, include_bias=False)),\n",
       "                (&#x27;model&#x27;, LinearRegression())])</pre><b>In a Jupyter environment, please rerun this cell to show the HTML representation or trust the notebook. <br />On GitHub, the HTML representation is unable to render, please try loading this page with nbviewer.org.</b></div><div class=\"sk-container\" hidden><div class=\"sk-item sk-dashed-wrapped\"><div class=\"sk-label-container\"><div class=\"sk-label sk-toggleable\"><input class=\"sk-toggleable__control sk-hidden--visually\" id=\"sk-estimator-id-22\" type=\"checkbox\" ><label for=\"sk-estimator-id-22\" class=\"sk-toggleable__label sk-toggleable__label-arrow\">Pipeline</label><div class=\"sk-toggleable__content\"><pre>Pipeline(steps=[(&#x27;poly_features&#x27;,\n",
       "                 PolynomialFeatures(degree=3, include_bias=False)),\n",
       "                (&#x27;model&#x27;, LinearRegression())])</pre></div></div></div><div class=\"sk-serial\"><div class=\"sk-item\"><div class=\"sk-estimator sk-toggleable\"><input class=\"sk-toggleable__control sk-hidden--visually\" id=\"sk-estimator-id-23\" type=\"checkbox\" ><label for=\"sk-estimator-id-23\" class=\"sk-toggleable__label sk-toggleable__label-arrow\">PolynomialFeatures</label><div class=\"sk-toggleable__content\"><pre>PolynomialFeatures(degree=3, include_bias=False)</pre></div></div></div><div class=\"sk-item\"><div class=\"sk-estimator sk-toggleable\"><input class=\"sk-toggleable__control sk-hidden--visually\" id=\"sk-estimator-id-24\" type=\"checkbox\" ><label for=\"sk-estimator-id-24\" class=\"sk-toggleable__label sk-toggleable__label-arrow\">LinearRegression</label><div class=\"sk-toggleable__content\"><pre>LinearRegression()</pre></div></div></div></div></div></div></div>"
      ],
      "text/plain": [
       "Pipeline(steps=[('poly_features',\n",
       "                 PolynomialFeatures(degree=3, include_bias=False)),\n",
       "                ('model', LinearRegression())])"
      ]
     },
     "execution_count": 195,
     "metadata": {},
     "output_type": "execute_result"
    }
   ],
   "source": [
    "# We can use the linear regression in the sklearn to implement the polynomial regression. \n",
    "# In order to do that, we need to transform the data into polynomial features.\n",
    "from sklearn.preprocessing import PolynomialFeatures\n",
    "from sklearn.linear_model import LinearRegression\n",
    "from sklearn.pipeline import Pipeline\n",
    "poly_reg = Pipeline([\n",
    "    (\"poly_features\", PolynomialFeatures(degree =3, include_bias=False)),\n",
    "     (\"model\", LinearRegression())\n",
    "])\n",
    "poly_reg.fit(X, Y)"
   ]
  },
  {
   "cell_type": "code",
   "execution_count": 196,
   "id": "22ae7191-8cae-452d-9cb5-9c8fe8a835d5",
   "metadata": {},
   "outputs": [
    {
     "data": {
      "text/plain": [
       "array([ 5.63168747e-03,  5.09294363e-02,  4.36225686e-02,  8.51923414e-03,\n",
       "        1.85154563e-02,  6.93506568e-03, -1.30729803e-03, -1.26615962e-04,\n",
       "        4.24513619e-02,  2.88485959e-01,  8.06101347e-02,  1.10274891e-02,\n",
       "        7.32894415e+00,  2.69298218e-02,  1.02108977e-01, -3.53188595e-01,\n",
       "        2.97870090e+00,  1.30419946e+00,  2.48381800e-01, -1.56089634e+00,\n",
       "        2.89140055e-01,  9.29674007e-01, -3.11771570e+00,  2.71174000e-01,\n",
       "        4.96719057e-02,  5.35980828e+00,  1.04776491e-01,  8.24512636e-01,\n",
       "       -2.66719406e+00,  8.01007938e-03,  1.78437916e+00,  5.35027786e-03,\n",
       "        1.32580825e-01, -5.25954621e-01, -3.88008156e-02, -4.67449690e+00,\n",
       "        1.71965476e-02, -9.60968336e-01,  3.00178796e-02,  1.25948247e-01,\n",
       "       -4.24995153e-01, -4.70031119e-02,  7.82660749e-02,  1.55756447e-02,\n",
       "        4.06961136e-02, -3.88910832e-02, -9.20892564e-01,  3.14315338e-01,\n",
       "       -4.45572456e-04,  1.14127372e+00,  4.22934202e+00,  1.28194902e+00,\n",
       "        1.12898305e-03, -3.60224498e-02,  7.63705882e-01,  2.03799597e-04,\n",
       "        6.36916911e-01,  2.22393554e+00,  7.08424147e-01,  1.11744585e+00,\n",
       "       -3.98408098e+00, -9.33629270e-05, -1.16812483e+00,  1.92738910e+00,\n",
       "        5.76646094e-01, -2.38472984e+00,  1.08324917e-02,  1.12111437e+00,\n",
       "       -3.44169004e-01,  9.92690055e-02,  1.98154574e-06,  6.95475690e-04,\n",
       "       -5.13206187e-02,  4.42445449e-02, -2.19171874e-02,  6.36761354e-02,\n",
       "        2.85416167e-01, -3.45617723e-01,  6.10577678e-01,  2.25469579e-01,\n",
       "        3.10511773e-04, -3.26805631e-03,  2.01665167e-02, -1.31997690e-05,\n",
       "       -2.36713576e-02, -6.35241823e-04,  2.40712901e-02,  1.92461863e-02,\n",
       "       -3.00690448e-01, -1.80971361e-04, -2.64569960e-02,  7.76867835e-02,\n",
       "        2.92112589e-02, -1.94463128e+00,  4.55557900e-03,  9.00399164e-01,\n",
       "       -6.16029121e-01, -1.70688736e-01,  3.11494022e-07,  6.04064928e-04,\n",
       "        1.18298027e-02, -9.06300368e-03, -2.11531462e-01, -1.61078877e-01,\n",
       "       -5.35242555e-02,  1.19785095e-01,  1.19260111e-01, -2.30457057e-03,\n",
       "       -1.93054955e-01, -2.54422137e-02,  2.01024559e-03,  1.11938894e-01,\n",
       "       -1.63793540e-01, -3.04570582e-02, -3.54344219e+00, -3.52692922e-02,\n",
       "        9.71528456e+00,  1.04330847e-01, -2.66243975e-01, -7.18631381e-06,\n",
       "       -6.66390703e-03, -1.39265274e-01,  2.92852097e-04, -6.82380264e-01,\n",
       "       -3.33477701e-02, -1.28246648e-02,  2.16232655e-01, -3.39867301e-01,\n",
       "       -1.53101540e-01, -3.84868891e-01,  2.30823704e-01,  8.18861761e-01,\n",
       "       -1.19139299e-01,  1.70899299e-01,  3.55366042e-05,  5.00945810e-02,\n",
       "        9.45514979e-01,  3.13354575e-01,  4.05606031e+00, -3.36220888e-01,\n",
       "        1.26903042e+00, -2.10917298e+00,  3.21213635e+00,  1.22168906e+00,\n",
       "        4.67316236e-09,  9.17719412e-06,  2.99301581e-04, -2.24231558e-04,\n",
       "        2.04316837e-03,  2.08405637e-02, -3.11503934e-02, -8.01117700e-01,\n",
       "       -4.84695792e-01, -8.11406724e-02, -1.34244924e-01, -1.21038178e+00,\n",
       "       -4.41423725e-01, -2.53080031e-01,  3.92085336e-01,  1.50081761e-01,\n",
       "        2.78513685e-01, -2.46800553e-01, -1.74059207e-01, -3.22070711e-02])"
      ]
     },
     "execution_count": 196,
     "metadata": {},
     "output_type": "execute_result"
    }
   ],
   "source": [
    "poly_reg['model'].coef_"
   ]
  },
  {
   "cell_type": "code",
   "execution_count": 206,
   "id": "26f08be1-dbc7-4a77-ad7f-f8d381a9cbd0",
   "metadata": {},
   "outputs": [
    {
     "data": {
      "text/html": [
       "\n",
       "Polynomial regression captures only a certain amount of curvature. Higher order terms in polynomial regression to get the more amount curavture will result in undesirable result. \n",
       "The superioe approach is using splines. The splines are series of polynomial segements strung together, joining knots.\n"
      ],
      "text/plain": [
       "<IPython.core.display.HTML object>"
      ]
     },
     "metadata": {},
     "output_type": "display_data"
    }
   ],
   "source": [
    "%%HTML\n",
    "\n",
    "Polynomial regression captures only a certain amount of curvature. Higher order terms in polynomial regression to get the more amount curavture will result in undesirable result. \n",
    "The superioe approach is using splines. The splines are series of polynomial segements strung together, joining knots."
   ]
  },
  {
   "cell_type": "code",
   "execution_count": 207,
   "id": "1547852a-3030-4768-a6e1-8bf677816bd1",
   "metadata": {},
   "outputs": [
    {
     "data": {
      "text/html": [
       "<h3>Different types of gradient descents</h3>\n",
       "<h4>Batch gradient descents</h4>\n",
       "In Batch Gradient Descent, all the training data is taken into consideration to take a single step. \n",
       "We take the average of the gradients of all the training examples and then use that mean gradient to update our parameters. \n",
       "So that’s just one step of gradient descent in one epoch.\n",
       "<h4>Stochastic Gradient Descent</h4>\n",
       "n Batch Gradient Descent we were considering all the examples for every step of Gradient Descent. But what if our dataset is very huge. \n",
       "Deep learning models crave data. The more the data the more chances of a model to be good. \n",
       "Suppose our dataset has 5 million examples, then just to take one step the model will have to calculate the gradients of \n",
       "all the 5 million examples. This does not seem an efficient way. To tackle this problem we have Stochastic Gradient Descent. \n",
       "In Stochastic Gradient Descent (SGD), we consider just one example at a time to take a single step. We do the following steps \n",
       "in one epoch for SGD:\n",
       "<br/>\n",
       "1. Take an example\n",
       "    <br/>\n",
       "    2. Calculate its gradient\n",
       "<br/>\n",
       "    3. Use the gradient we calculated in step 3 to update the weights\n",
       "<br/>\n",
       "    4. Repeat steps 1–4 for all the examples in the training dataset\n",
       "<br/>\n",
       "    <br/>\n",
       "\n",
       "Since we are considering just one example at a time the cost will fluctuate over the training examples and it will not necessarily decrease. \n",
       "    But in the long run, you will see the cost decreasing with fluctuations.\n",
       "\n",
       "<h4>mini-batch Gradient Descent</h4>\n",
       "    SGD converges faster for larger datasets. But, since in SGD we use only one example at a time, \n",
       "    we cannot implement the vectorized implementation on it. This can slow down the computations.\n",
       "    To tackle this problem, a mixture of Batch Gradient Descent and SGD is used.\n",
       "    We use a batch of a fixed number of training examples which is less than the actual dataset and call it a mini-batch. Doing this helps us achieve the advantages of both the former variants we saw. So, after creating the mini-batches of fixed size, we do the following steps in one epoch:\n",
       "<br/>\n",
       "1. Pick a mini-batch\n",
       "    <br/>\n",
       "2. Calculate the mean gradient of the mini-batch\n",
       "    <br/>\n",
       "3. Use the mean gradient we calculated in step 3 to update the weights\n",
       "    <br/>\n",
       "4. Repeat steps 1–4 for the mini-batches we created\n",
       "    <br/>\n",
       "    <br/>\n",
       "Just like SGD, the average cost over the epochs in mini-batch gradient descent fluctuates \n",
       "        because we are averaging a small number of examples at a time.\n"
      ],
      "text/plain": [
       "<IPython.core.display.HTML object>"
      ]
     },
     "metadata": {},
     "output_type": "display_data"
    }
   ],
   "source": [
    "%%html\n",
    "<h3>Different types of gradient descents</h3>\n",
    "<h4>Batch gradient descents</h4>\n",
    "In Batch Gradient Descent, all the training data is taken into consideration to take a single step. \n",
    "We take the average of the gradients of all the training examples and then use that mean gradient to update our parameters. \n",
    "So that’s just one step of gradient descent in one epoch.\n",
    "<h4>Stochastic Gradient Descent</h4>\n",
    "n Batch Gradient Descent we were considering all the examples for every step of Gradient Descent. But what if our dataset is very huge. \n",
    "Deep learning models crave data. The more the data the more chances of a model to be good. \n",
    "Suppose our dataset has 5 million examples, then just to take one step the model will have to calculate the gradients of \n",
    "all the 5 million examples. This does not seem an efficient way. To tackle this problem we have Stochastic Gradient Descent. \n",
    "In Stochastic Gradient Descent (SGD), we consider just one example at a time to take a single step. We do the following steps \n",
    "in one epoch for SGD:\n",
    "<br/>\n",
    "1. Take an example\n",
    "    <br/>\n",
    "    2. Calculate its gradient\n",
    "<br/>\n",
    "    3. Use the gradient we calculated in step 3 to update the weights\n",
    "<br/>\n",
    "    4. Repeat steps 1–4 for all the examples in the training dataset\n",
    "<br/>\n",
    "    <br/>\n",
    "\n",
    "Since we are considering just one example at a time the cost will fluctuate over the training examples and it will not necessarily decrease. \n",
    "    But in the long run, you will see the cost decreasing with fluctuations.\n",
    "\n",
    "<h4>mini-batch Gradient Descent</h4>\n",
    "    SGD converges faster for larger datasets. But, since in SGD we use only one example at a time, \n",
    "    we cannot implement the vectorized implementation on it. This can slow down the computations.\n",
    "    To tackle this problem, a mixture of Batch Gradient Descent and SGD is used.\n",
    "    We use a batch of a fixed number of training examples which is less than the actual dataset and call it a mini-batch. Doing this helps us achieve the advantages of both the former variants we saw. So, after creating the mini-batches of fixed size, we do the following steps in one epoch:\n",
    "<br/>\n",
    "1. Pick a mini-batch\n",
    "    <br/>\n",
    "2. Calculate the mean gradient of the mini-batch\n",
    "    <br/>\n",
    "3. Use the mean gradient we calculated in step 3 to update the weights\n",
    "    <br/>\n",
    "4. Repeat steps 1–4 for the mini-batches we created\n",
    "    <br/>\n",
    "    <br/>\n",
    "Just like SGD, the average cost over the epochs in mini-batch gradient descent fluctuates \n",
    "        because we are averaging a small number of examples at a time."
   ]
  },
  {
   "cell_type": "code",
   "execution_count": 2,
   "id": "45e789f6-bf5d-4e4b-b8d6-9bce2fb1c953",
   "metadata": {},
   "outputs": [
    {
     "data": {
      "text/html": [
       "<h3>Learning curves</h3>\n",
       "\n",
       "If a model performs well on the training data but generalizes poorly on test data, then the model is overfitting. \n",
       "If it performs poorly on both datasets, then the model is underfitting. This is one way to tell if the model is too simple or complex.\n",
       "Another way to tell is to look at the learning curves. It is a plot of the model's training and validation error as a function of the training iteration.\n",
       "<img src=\"images/lc.jpg\" width=400 />\n"
      ],
      "text/plain": [
       "<IPython.core.display.HTML object>"
      ]
     },
     "metadata": {},
     "output_type": "display_data"
    }
   ],
   "source": [
    "%%html\n",
    "<h3>Learning curves</h3>\n",
    "\n",
    "If a model performs well on the training data but generalizes poorly on validation data, then the model is overfitting. \n",
    "If it performs poorly on both datasets, then the model is underfitting. This is one way to tell if the model is too simple or complex.\n",
    "Another way to tell is to look at the learning curves. It plots the model's training and validation error as a function of the training iteration.\n",
    "<img src=\"images/lc.jpg\" width=400 />"
   ]
  },
  {
   "cell_type": "code",
   "execution_count": 3,
   "id": "894c2aef-598b-4418-ab93-8343d537d1de",
   "metadata": {},
   "outputs": [
    {
     "data": {
      "text/html": [
       "The above model is undefitting as both traning and validation error is high.\n"
      ],
      "text/plain": [
       "<IPython.core.display.HTML object>"
      ]
     },
     "metadata": {},
     "output_type": "display_data"
    }
   ],
   "source": [
    "%%html\n",
    "The above model is underfitting as both training and validation errors are high."
   ]
  },
  {
   "cell_type": "code",
   "execution_count": 8,
   "id": "fc35b4cb-17b0-41fb-b3d9-cfdabeb95f99",
   "metadata": {},
   "outputs": [],
   "source": [
    "from sklearn.pipeline import make_pipeline\n",
    "from sklearn.preprocessing import PolynomialFeatures\n",
    "from sklearn.linear_model import LinearRegression\n",
    "from sklearn.model_selection import learning_curve\n",
    "\n",
    "import numpy as np\n",
    "\n",
    "np.random.seed(42)  # to make this code example reproducible\n",
    "m = 100  # number of instances\n",
    "X = 2 * np.random.rand(m, 1)  # column vector\n",
    "y = 4 + 3 * X + np.random.randn(m, 1)  # column vector\n",
    "\n",
    "polynomial_regression = make_pipeline(\n",
    "    PolynomialFeatures(degree=10, include_bias=False),\n",
    "    LinearRegression())\n",
    "\n",
    "train_sizes, train_scores, valid_scores = learning_curve(\n",
    "    polynomial_regression, X, y, train_sizes=np.linspace(0.01, 1.0, 40), cv=5,\n",
    "    scoring=\"neg_root_mean_squared_error\")"
   ]
  },
  {
   "cell_type": "code",
   "execution_count": 10,
   "id": "3c789eb6-9b74-4ea8-8dcd-02e96896c068",
   "metadata": {},
   "outputs": [
    {
     "data": {
      "image/png": "[encoded data removed]",
      "text/plain": [
       "<Figure size 600x400 with 1 Axes>"
      ]
     },
     "metadata": {},
     "output_type": "display_data"
    }
   ],
   "source": [
    "# extra code – generates and saves Figure 4–16\n",
    "import matplotlib.pyplot as plt\n",
    "\n",
    "plt.rc('font', size=14)\n",
    "plt.rc('axes', labelsize=14, titlesize=14)\n",
    "plt.rc('legend', fontsize=14)\n",
    "plt.rc('xtick', labelsize=10)\n",
    "plt.rc('ytick', labelsize=10)\n",
    "train_errors = -train_scores.mean(axis=1)\n",
    "valid_errors = -valid_scores.mean(axis=1)\n",
    "\n",
    "plt.figure(figsize=(6, 4))\n",
    "plt.plot(train_sizes, train_errors, \"r-+\", linewidth=2, label=\"train\")\n",
    "plt.plot(train_sizes, valid_errors, \"b-\", linewidth=3, label=\"valid\")\n",
    "plt.legend(loc=\"upper right\")\n",
    "plt.xlabel(\"Training set size\")\n",
    "plt.ylabel(\"RMSE\")\n",
    "plt.grid()\n",
    "plt.axis([0, 80, 0, 2.5])\n",
    "plt.show()"
   ]
  },
  {
   "cell_type": "code",
   "execution_count": 13,
   "id": "3b420ccf-a161-40d7-a197-dd7781d26f2e",
   "metadata": {},
   "outputs": [
    {
     "data": {
      "text/html": [
       "\n",
       "In the above graph, the error on the training data is much lower than before. \n",
       "It indicates the model's performance is significantly better on training data than the validation data.\n",
       "<br/>\n",
       "<b>One way to improve an overfitting model is to feed it more training data until the validation error reached the training data or use regularization</b>\n"
      ],
      "text/plain": [
       "<IPython.core.display.HTML object>"
      ]
     },
     "metadata": {},
     "output_type": "display_data"
    }
   ],
   "source": [
    "%%HTML\n",
    "\n",
    "In the above graph, the error on the training data is much lower than before. \n",
    "It indicates the model's performance is significantly better on training data than the validation data.\n",
    "<br/>\n",
    "<b>One way to improve an overfitting model is to feed it more training data until the validation error reaches the training data or use regularization</b>"
   ]
  },
  {
   "cell_type": "code",
   "execution_count": 17,
   "id": "23a3e7cd-0d22-4343-a249-464fd3ed3e85",
   "metadata": {},
   "outputs": [
    {
     "data": {
      "text/html": [
       "<h3>Early stopping</h3>\n",
       "\n",
       "Another way to regularize the iterative learning algorithms such as gd is to stop training as soon as the validation reaches the minimum. \n",
       "This is called early stopping.\n",
       "<img src=\"images/early_s.jpg\" width=400 />\n"
      ],
      "text/plain": [
       "<IPython.core.display.HTML object>"
      ]
     },
     "metadata": {},
     "output_type": "display_data"
    }
   ],
   "source": [
    "%%HTML\n",
    "<h3>Early stopping</h3>\n",
    "\n",
    "Another way to regularize the iterative learning algorithms such as gd is to stop training once the validation reaches the minimum. \n",
    "This is called early stopping.\n",
    "<img src=\"images/early_s.jpg\" width=400 />\n"
   ]
  },
  {
   "cell_type": "code",
   "execution_count": 15,
   "id": "9949f278-7a46-4fcc-be4d-e58e99693417",
   "metadata": {},
   "outputs": [
    {
     "data": {
      "text/html": [
       "<h3>Bias/Variance trade off</h3>\n",
       "\n",
       "If the data is too small for the model, it is likely to overfit. Same way if the model has many degree of freedom(model is complex such as high degree polynomial model),\n",
       "it is likely to have high variance and thus overfit the training data.\n",
       "\n",
       "<br/>\n"
      ],
      "text/plain": [
       "<IPython.core.display.HTML object>"
      ]
     },
     "metadata": {},
     "output_type": "display_data"
    }
   ],
   "source": [
    "%%HTML\n",
    "<h3>Bias/Variance trade off</h3>\n",
    "\n",
    "If the data is too small for the model, it is likely to overfit. Same way if the model has many degree of freedom(model is complex such as high degree polynomial model),\n",
    "it is likely to have high variance and thus overfit the training data.\n",
    "\n",
    "<br/>\n"
   ]
  },
  {
   "cell_type": "code",
   "execution_count": null,
   "id": "4cf484fe-20eb-46b9-a8d8-907e7fc3d3b5",
   "metadata": {},
   "outputs": [],
   "source": []
  },
  {
   "cell_type": "code",
   "execution_count": null,
   "id": "e4aa95eb-34c6-4a7b-ac3b-40fd0ef4e76c",
   "metadata": {},
   "outputs": [],
   "source": []
  },
  {
   "cell_type": "code",
   "execution_count": null,
   "id": "1ee7c876-5bdf-4d20-8c58-ac02c8ab0f73",
   "metadata": {},
   "outputs": [],
   "source": []
  }
 ],
 "metadata": {
  "kernelspec": {
   "display_name": "Python 3 (ipykernel)",
   "language": "python",
   "name": "python3"
  },
  "language_info": {
   "codemirror_mode": {
    "name": "ipython",
    "version": 3
   },
   "file_extension": ".py",
   "mimetype": "text/x-python",
   "name": "python",
   "nbconvert_exporter": "python",
   "pygments_lexer": "ipython3",
   "version": "3.11.0rc1"
  }
 },
 "nbformat": 4,
 "nbformat_minor": 5
}
